{
 "cells": [
  {
   "cell_type": "markdown",
   "metadata": {},
   "source": [
    "<p><strong><font size=\"6\">WALOUS</font></strong></p>"
   ]
  },
  {
   "cell_type": "markdown",
   "metadata": {},
   "source": [
    "<p><strong><font size=\"6\">Fusion LC classifications results</font></strong></p>"
   ]
  },
  {
   "cell_type": "markdown",
   "metadata": {},
   "source": [
    "<p><strong><font size=\"6\">Compute feature statistics</font></strong></p>"
   ]
  },
  {
   "cell_type": "markdown",
   "metadata": {},
   "source": [
    "This python code implement the method developed by ANAGEO (ULB). \n",
    "\n",
    "Code developped on Linux Mint 18.1 (Ubuntu Xenial 16.04) and GRASS GIS 7.3.svn (r71315)."
   ]
  },
  {
   "cell_type": "markdown",
   "metadata": {},
   "source": [
    "# Table of Contents"
   ]
  },
  {
   "cell_type": "markdown",
   "metadata": {},
   "source": [
    "<div id=\"toc\"></div>"
   ]
  },
  {
   "cell_type": "markdown",
   "metadata": {},
   "source": [
    "The following cell is a Javascript section of code for building the Jupyter notebook's table of content."
   ]
  },
  {
   "cell_type": "code",
   "execution_count": 236,
   "metadata": {},
   "outputs": [
    {
     "data": {
      "application/javascript": [
       "$.getScript('https://kmahelona.github.io/ipython_notebook_goodies/ipython_notebook_toc.js')"
      ],
      "text/plain": [
       "<IPython.core.display.Javascript object>"
      ]
     },
     "metadata": {},
     "output_type": "display_data"
    }
   ],
   "source": [
    "%%javascript\n",
    "$.getScript('https://kmahelona.github.io/ipython_notebook_goodies/ipython_notebook_toc.js')"
   ]
  },
  {
   "cell_type": "markdown",
   "metadata": {},
   "source": [
    "# Define working environment"
   ]
  },
  {
   "cell_type": "markdown",
   "metadata": {},
   "source": [
    "**Import libraries**"
   ]
  },
  {
   "cell_type": "code",
   "execution_count": 237,
   "metadata": {
    "collapsed": true
   },
   "outputs": [],
   "source": [
    "# Import libraries needed for setting parameters of operating system \n",
    "import os\n",
    "import sys\n",
    "import csv\n",
    "import tempfile\n",
    "import pickle"
   ]
  },
  {
   "cell_type": "code",
   "execution_count": 238,
   "metadata": {
    "collapsed": true
   },
   "outputs": [],
   "source": [
    "## Import multiprocessing and functools libraries\n",
    "import multiprocessing\n",
    "from multiprocessing import Pool\n",
    "from functools import partial"
   ]
  },
  {
   "cell_type": "markdown",
   "metadata": {},
   "source": [
    "** Add folder with SCR provided belong to this notebook**"
   ]
  },
  {
   "cell_type": "code",
   "execution_count": 239,
   "metadata": {
    "collapsed": true
   },
   "outputs": [],
   "source": [
    "# Add local module to the path\n",
    "src = os.path.abspath('../SRC')\n",
    "if src not in sys.path:\n",
    "    sys.path.append(src)"
   ]
  },
  {
   "cell_type": "markdown",
   "metadata": {},
   "source": [
    "** Setup environment variables for TAIS DESKTOP (Linux Mint + GRASS Dev) **"
   ]
  },
  {
   "cell_type": "markdown",
   "metadata": {},
   "source": [
    "Please edit the file in `../SRC/config.py`, containing the configuration parameters, according to your own computer setup. The following cell is used to run this file.\n",
    "\n"
   ]
  },
  {
   "cell_type": "code",
   "execution_count": 240,
   "metadata": {
    "collapsed": true,
    "scrolled": true
   },
   "outputs": [],
   "source": [
    "run ../SRC/config.py"
   ]
  },
  {
   "cell_type": "code",
   "execution_count": 241,
   "metadata": {
    "scrolled": true
   },
   "outputs": [
    {
     "name": "stdout",
     "output_type": "stream",
     "text": [
      "{'outputfolder_classifRF_tiles': '../../../Results/Classif_RF/classif_tiles', 'outputfolder_classifRF': '../../../Results/Classif_RF', 'outputfolder_Logfile': '../../../Results/Log_file', 'permanent_mapset': 'PERMANENT', 'outputfolder_training_sample': '../../../Results/Training_sample', 'locationepsg': '31370', 'outputfolder': '../../../Results', 'list_tiles': '../../../Results/list_tiles', 'pixel_classes_list': '../../../Results/pixel_classes_list', 'gisdb': '../../GRASSDATA', 'location': 'WALOUS_31370', 'outputfolder_classfeatures': '../../../Results/Classification_features', 'PYTHONLIB': '/usr/lib/python2.7', 'njobs': 6, 'rf_trained_model': '../../../Results/Classif_RF/rf_trained_model.rda', 'GISBASE': '/usr/lib/grass76'}\n"
     ]
    }
   ],
   "source": [
    "print config_parameters"
   ]
  },
  {
   "cell_type": "code",
   "execution_count": 242,
   "metadata": {
    "collapsed": true
   },
   "outputs": [],
   "source": [
    "# Import functions that setup the environmental variables\n",
    "import environ_variables as envi"
   ]
  },
  {
   "cell_type": "code",
   "execution_count": 243,
   "metadata": {
    "scrolled": true
   },
   "outputs": [
    {
     "name": "stdout",
     "output_type": "stream",
     "text": [
      "MDMSESSION = mate \t\n",
      "MANDATORY_PATH = /usr/share/gconf/mate.mandatory.path \t\n",
      "MATE_DESKTOP_SESSION_ID = this-is-deprecated \t\n",
      "LESSOPEN = | /usr/bin/lesspipe %s \t\n",
      "MDM_LANG = fr_BE.UTF-8 \t\n",
      "LOGNAME = tais \t\n",
      "USER = tais \t\n",
      "HOME = /home/tais \t\n",
      "XDG_VTNR = 8 \t\n",
      "PATH = /usr/local/bin:/home/tais/BIN:/home/tais/bin:/home/tais/.local/bin:/usr/local/sbin:/usr/local/bin:/usr/sbin:/usr/bin:/sbin:/bin:/usr/games:/usr/local/games:/usr/lib/grass76/bin:/usr/lib/grass76/script:/usr/lib/grass76/lib:/usr/lib/grass76/bin:/usr/lib/grass76/scripts:/home/tais/.grass7/addons/scripts:/home/tais/.grass7/addons/bin:/usr/lib/grass76/bin:/usr/lib/grass76/scripts:/home/tais/.grass7/addons/scripts:/home/tais/.grass7/addons/bin:/usr/lib/grass76/bin:/usr/lib/grass76/scripts:/home/tais/.grass7/addons/scripts:/home/tais/.grass7/addons/bin:/usr/lib/grass76/bin:/usr/lib/grass76/scripts:/home/tais/.grass7/addons/scripts:/home/tais/.grass7/addons/bin:/usr/lib/grass76/bin:/usr/lib/grass76/scripts:/home/tais/.grass7/addons/scripts:/home/tais/.grass7/addons/bin:/usr/lib/grass76/bin:/usr/lib/grass76/scripts:/home/tais/.grass7/addons/scripts:/home/tais/.grass7/addons/bin:/usr/lib/grass76/bin:/usr/lib/grass76/scripts:/home/tais/.grass7/addons/scripts:/home/tais/.grass7/addons/bin:/usr/lib/grass76/bin:/usr/lib/grass76/scripts:/home/tais/.grass7/addons/scripts:/home/tais/.grass7/addons/bin:/usr/lib/grass76/bin:/usr/lib/grass76/scripts:/home/tais/.grass7/addons/scripts:/home/tais/.grass7/addons/bin:/usr/lib/grass76/bin:/usr/lib/grass76/scripts:/home/tais/.grass7/addons/scripts:/home/tais/.grass7/addons/bin:/usr/lib/grass76/bin:/usr/lib/grass76/script:/usr/lib/grass76/lib:/usr/lib/grass76/bin:/usr/lib/grass76/scripts:/home/tais/.grass7/addons/scripts:/home/tais/.grass7/addons/bin:/usr/lib/grass76/bin:/usr/lib/grass76/scripts:/home/tais/.grass7/addons/scripts:/home/tais/.grass7/addons/bin:/usr/lib/grass76/bin:/usr/lib/grass76/scripts:/home/tais/.grass7/addons/scripts:/home/tais/.grass7/addons/bin:/usr/lib/grass76/bin:/usr/lib/grass76/scripts:/home/tais/.grass7/addons/scripts:/home/tais/.grass7/addons/bin:/usr/lib/grass76/bin:/usr/lib/grass76/scripts:/home/tais/.grass7/addons/scripts:/home/tais/.grass7/addons/bin:/usr/lib/grass76/bin:/usr/lib/grass76/scripts:/home/tais/.grass7/addons/scripts:/home/tais/.grass7/addons/bin:/usr/lib/grass76/bin:/usr/lib/grass76/scripts:/home/tais/.grass7/addons/scripts:/home/tais/.grass7/addons/bin:/usr/lib/grass76/bin:/usr/lib/grass76/scripts:/home/tais/.grass7/addons/scripts:/home/tais/.grass7/addons/bin:/usr/lib/grass76/bin:/usr/lib/grass76/script:/usr/lib/grass76/lib \t\n",
      "CLICOLOR = 1 \t\n",
      "DISPLAY = :0.0 \t\n",
      "SSH_AGENT_PID = 2159 \t\n",
      "LANG = fr_BE.UTF-8 \t\n",
      "TERM = xterm-color \t\n",
      "SHELL = /bin/bash \t\n",
      "GIS_LOCK = $$ \t\n",
      "XAUTHORITY = /home/tais/.Xauthority \t\n",
      "SESSION_MANAGER = local/tais-HP-Z620-Workstation:@/tmp/.ICE-unix/2087,unix/tais-HP-Z620-Workstation:/tmp/.ICE-unix/2087 \t\n",
      "SHLVL = 1 \t\n",
      "QT_LINUX_ACCESSIBILITY_ALWAYS_ON = 1 \t\n",
      "INSIDE_CAJA_PYTHON =  \t\n",
      "QT_ACCESSIBILITY = 1 \t\n",
      "LD_LIBRARY_PATH = :/usr/lib/grass76/lib:/usr/lib/grass76/lib:/usr/lib/grass76/lib:/usr/lib/grass76/lib:/usr/lib/grass76/lib:/usr/lib/grass76/lib:/usr/lib/grass76/lib:/usr/lib/grass76/lib:/usr/lib/grass76/lib:/usr/lib/grass76/lib:/usr/lib/grass76/lib:/usr/lib/grass76/lib:/usr/lib/grass76/lib:/usr/lib/grass76/lib:/usr/lib/grass76/lib:/usr/lib/grass76/lib:/usr/lib/grass76/lib:/usr/lib/grass76/lib:/usr/lib/grass76/lib:/usr/lib/grass76/lib:/usr/lib/grass76/lib \t\n",
      "COMPIZ_CONFIG_PROFILE = mate \t\n",
      "WINDOWPATH = 8 \t\n",
      "GTK_OVERLAY_SCROLLING = 0 \t\n",
      "PYTHONPATH = /usr/lib/grass76/etc/python:/usr/lib/grass76/etc/python:/usr/lib/grass76/etc/python:/usr/lib/grass76/etc/python:/usr/lib/grass76/etc/python:/usr/lib/grass76/etc/python:/usr/lib/grass76/etc/python:/usr/lib/grass76/etc/python:/usr/lib/grass76/etc/python:/usr/lib/grass76/etc/python:/usr/lib/grass76/etc/python:/usr/lib/grass76/etc/python:/usr/lib/grass76/etc/python:/usr/lib/grass76/etc/python:/usr/lib/grass76/etc/python:/usr/lib/grass76/etc/python:/usr/lib/grass76/etc/python:/usr/lib/grass76/etc/python::/usr/lib/grass76/etc/python:/usr/lib/grass76/etc/python/grass:/usr/lib/grass76/etc/python/grass/script:/usr/lib/grass76/etc/python:/usr/lib/grass76/etc/python/grass:/usr/lib/grass76/etc/python/grass/script:/usr/lib/grass76/etc/python:/usr/lib/grass76/etc/python/grass:/usr/lib/grass76/etc/python/grass/script \t\n",
      "GISBASE = /usr/lib/grass76 \t\n",
      "CLUTTER_BACKEND = x11 \t\n",
      "USERNAME = tais \t\n",
      "XDG_SESSION_DESKTOP = mate \t\n",
      "GDM_XSERVER_LOCATION = local \t\n",
      "XDG_RUNTIME_DIR = /run/user/1000 \t\n",
      "JPY_PARENT_PID = 6427 \t\n",
      "QT_STYLE_OVERRIDE = gtk \t\n",
      "SSH_AUTH_SOCK = /run/user/1000/keyring/ssh \t\n",
      "VTE_VERSION = 4205 \t\n",
      "GDMSESSION = mate \t\n",
      "GISRC = /home/tais/.grass7/rc \t\n",
      "GIT_PAGER = cat \t\n",
      "XDG_CONFIG_DIRS = /etc/xdg/xdg-mate:/etc/xdg \t\n",
      "XDG_CURRENT_DESKTOP = MATE \t\n",
      "XDG_SESSION_ID = c1 \t\n",
      "DBUS_SESSION_BUS_ADDRESS = unix:abstract=/tmp/dbus-Yg3ifKWeDT,guid=9396545dceb3f3307d340e135cc6d9ab \t\n",
      "_ = /usr/local/bin/jupyter \t\n",
      "XDG_SESSION_COOKIE = 8441891e86e24d76b9616edf516d5734-1556535723.882092-259664533 \t\n",
      "DESKTOP_SESSION = mate \t\n",
      "WINDOWID = 98566150 \t\n",
      "LESSCLOSE = /usr/bin/lesspipe %s %s \t\n",
      "DEFAULTS_PATH = /usr/share/gconf/mate.default.path \t\n",
      "MPLBACKEND = module://ipykernel.pylab.backend_inline \t\n",
      "MDM_XSERVER_LOCATION = local \t\n",
      "GTK_MODULES = gail:atk-bridge \t\n",
      "XDG_DATA_DIRS = /usr/share/mate:/usr/local/share/:/usr/share/:/usr/share/mdm/ \t\n",
      "PWD = /media/tais/data/WALOUS/Processing \t\n",
      "GRASS_ADDON_BASE = /home/tais/.grass7/addons \t\n",
      "COLORTERM = mate-terminal \t\n",
      "PYTHONLIB = /usr/lib/python2.7 \t\n",
      "LS_COLORS = rs=0:di=01;34:ln=01;36:mh=00:pi=40;33:so=01;35:do=01;35:bd=40;33;01:cd=40;33;01:or=40;31;01:mi=00:su=37;41:sg=30;43:ca=30;41:tw=30;42:ow=34;42:st=37;44:ex=01;32:*.tar=01;31:*.tgz=01;31:*.arc=01;31:*.arj=01;31:*.taz=01;31:*.lha=01;31:*.lz4=01;31:*.lzh=01;31:*.lzma=01;31:*.tlz=01;31:*.txz=01;31:*.tzo=01;31:*.t7z=01;31:*.zip=01;31:*.z=01;31:*.Z=01;31:*.dz=01;31:*.gz=01;31:*.lrz=01;31:*.lz=01;31:*.lzo=01;31:*.xz=01;31:*.bz2=01;31:*.bz=01;31:*.tbz=01;31:*.tbz2=01;31:*.tz=01;31:*.deb=01;31:*.rpm=01;31:*.jar=01;31:*.war=01;31:*.ear=01;31:*.sar=01;31:*.rar=01;31:*.alz=01;31:*.ace=01;31:*.zoo=01;31:*.cpio=01;31:*.7z=01;31:*.rz=01;31:*.cab=01;31:*.jpg=01;35:*.jpeg=01;35:*.gif=01;35:*.bmp=01;35:*.pbm=01;35:*.pgm=01;35:*.ppm=01;35:*.tga=01;35:*.xbm=01;35:*.xpm=01;35:*.tif=01;35:*.tiff=01;35:*.png=01;35:*.svg=01;35:*.svgz=01;35:*.mng=01;35:*.pcx=01;35:*.mov=01;35:*.mpg=01;35:*.mpeg=01;35:*.m2v=01;35:*.mkv=01;35:*.webm=01;35:*.ogm=01;35:*.mp4=01;35:*.m4v=01;35:*.mp4v=01;35:*.vob=01;35:*.qt=01;35:*.nuv=01;35:*.wmv=01;35:*.asf=01;35:*.rm=01;35:*.rmvb=01;35:*.flc=01;35:*.avi=01;35:*.fli=01;35:*.flv=01;35:*.gl=01;35:*.dl=01;35:*.xcf=01;35:*.xwd=01;35:*.yuv=01;35:*.cgm=01;35:*.emf=01;35:*.ogv=01;35:*.ogx=01;35:*.aac=00;36:*.au=00;36:*.flac=00;36:*.m4a=00;36:*.mid=00;36:*.midi=00;36:*.mka=00;36:*.mp3=00;36:*.mpc=00;36:*.ogg=00;36:*.ra=00;36:*.wav=00;36:*.oga=00;36:*.opus=00;36:*.spx=00;36:*.xspf=00;36: \t\n",
      "PAGER = cat \t\n",
      "GRASS_PYTHON = python \t\n",
      "XDG_SEAT = seat0 \t\n"
     ]
    }
   ],
   "source": [
    "# Set environmental variables\n",
    "envi.setup_environmental_variables() \n",
    "# Display current environment variables of your computer\n",
    "envi.print_environmental_variables()"
   ]
  },
  {
   "cell_type": "markdown",
   "metadata": {},
   "source": [
    "** GRASS GIS Python libraries **"
   ]
  },
  {
   "cell_type": "code",
   "execution_count": 244,
   "metadata": {
    "collapsed": true
   },
   "outputs": [],
   "source": [
    "# Import libraries needed to launch GRASS GIS in the jupyter notebook\n",
    "import grass.script.setup as gsetup\n",
    "# Import libraries needed to call GRASS using Python\n",
    "import grass.script as gscript"
   ]
  },
  {
   "cell_type": "markdown",
   "metadata": {},
   "source": [
    "** Other functions**"
   ]
  },
  {
   "cell_type": "code",
   "execution_count": 245,
   "metadata": {
    "collapsed": true
   },
   "outputs": [],
   "source": [
    "# Import function that check existance and create GRASS GIS database folder if needed\n",
    "from grass_database import check_gisdb, check_location, check_mapset, working_mapset\n",
    "# Import functions for processing time information\n",
    "from processing_time import start_processing, print_processing_time\n",
    "# Import function that generate a random name in the GRASS GIS environement\n",
    "from random_layer_name import random_layer_name\n",
    "# Import function that check and create folder\n",
    "from mkdir import check_create_dir\n",
    "# Import function that check if GRASS GIS add-on is installed and install it if needed\n",
    "from gextension import check_install_addon\n",
    "# Import function for .gzip archive management\n",
    "from gzip_management import decompress_gzip\n",
    "# Import function for computation of proportion of categorical raster in zones (segments)\n",
    "from compute_proportion_categorical import CategoStats\n",
    "# Import function for getting list of class of a raster\n",
    "from data_prep import data_prep\n",
    "# Import function the allow sorting strings with number as if they was number (natural order)\n",
    "from sorting_natural import natural_keys\n",
    "# Import function that compute ERP on csv file\n",
    "from EquivalentReferenceProbability import ComputeERPfromCsv\n",
    "# Import function that replace \"empty\" values from output .csv to zero\n",
    "from CsvEmptyValues import CsvChangeEmptyByO"
   ]
  },
  {
   "cell_type": "markdown",
   "metadata": {},
   "source": [
    "**-_-_-_-_-_-_-_-_-_-_-_-_-_-_-_-_-_-_-_-_-_-_-_-_-_-_-_-_-_-_-_-_-_-_-_-_-_-_-_-_-_-_-_-_-_-_-_-_-_-_-_-_-_-_-_-_-_-_-_-_-**"
   ]
  },
  {
   "cell_type": "code",
   "execution_count": 246,
   "metadata": {
    "collapsed": true
   },
   "outputs": [],
   "source": [
    "def launch_mapset(mapset):\n",
    "    #Declare empty list that will contain the messages to return\n",
    "    return_message = []\n",
    "    # Check if the location exists and create it if not, with the CRS defined by the epsg code \n",
    "    return_message.append(check_location(config_parameters[\"gisdb\"],config_parameters['location'],config_parameters[\"locationepsg\"]))\n",
    "    # Check if mapset exists\n",
    "    return_message.append(check_mapset(config_parameters[\"gisdb\"],config_parameters['location'],mapset))\n",
    "    # Change the current working GRASS GIS session mapset\n",
    "    return_message.append(working_mapset(config_parameters[\"gisdb\"],config_parameters['location'],mapset))\n",
    "    # Return\n",
    "    return return_message"
   ]
  },
  {
   "cell_type": "code",
   "execution_count": 247,
   "metadata": {
    "collapsed": true
   },
   "outputs": [],
   "source": [
    "def GetMapsetsAccess():\n",
    "    #Declare empty string that will contain the messages to return\n",
    "    return_message = ''\n",
    "    try:\n",
    "        # Add mapsets with input data to the GRASS GIS research path\n",
    "        gscript.run_command('g.mapsets', mapset=\"BINARIES,OBIA,PIXEL_ORTHO_LC,PIXEL_SENTINEL\", operation=\"add\")\n",
    "        return_message = \"Access to other mapset added\"\n",
    "    except:\n",
    "        return_message += \"ERROR: Add access to other Mapsets failed. Please check for problem.\"\n",
    "    return return_message"
   ]
  },
  {
   "cell_type": "code",
   "execution_count": 248,
   "metadata": {
    "collapsed": true
   },
   "outputs": [],
   "source": [
    "def DefineComputationRegion(tile_cat):\n",
    "    #Declare empty string that will contain the messages to return\n",
    "    return_message = ''\n",
    "    try:\n",
    "        return_message = \"Working on tile '%s'\\n\"%tile_cat\n",
    "        # Extract the cutline polygon to work on\n",
    "        condition = 'cat=%s'%tile_cat\n",
    "        gscript.run_command('v.extract', overwrite=True, input='tiles', where=condition, output='tmp_tile')\n",
    "        # Define computational region based on this polygon\n",
    "        gscript.run_command('g.region', raster='segmentation') # To get resolution of segmentation \n",
    "        gscript.run_command('g.region', flags='a', vector='tmp_tile') # Keep resolution but change extent\n",
    "        # Mask according to this polygon\n",
    "        gscript.run_command('r.mask', overwrite=True, vector='tmp_tile')\n",
    "        # Copy the mask layer\n",
    "        gscript.run_command('g.copy', overwrite=True, raster='MASK,mask_copy')\n",
    "        # Print\n",
    "        return_message += \"--> Computational region and MASK defined\"\n",
    "    except:\n",
    "        return_message += \"ERROR: Setting of computional region and MASK failed for cutline '%s'. Please check for problem.\"%tile_cat\n",
    "    return return_message"
   ]
  },
  {
   "cell_type": "code",
   "execution_count": 249,
   "metadata": {
    "collapsed": true
   },
   "outputs": [],
   "source": [
    "def GetObiaAttributes(tile_cat):    \n",
    "    #Declare empty string that will contain the messages to return\n",
    "    return_message = ''\n",
    "    try:   \n",
    "        # Decompress and import attribute table of segments the current cutline\n",
    "        in_path = os.path.join(data['obia_folder'],'CLASSIF','walous_2018_classification_tile_%s.csv.gz'%tile_cat)\n",
    "        decompress_path = in_path[:-3]\n",
    "        decompress_gzip(in_path, decompress_path)           \n",
    "        obia_erp_path = ComputeERPfromCsv(decompress_path, erp_name=\"OBIA_ERP\", start_index=2)\n",
    "        gscript.run_command('db.in.ogr', overwrite=True, input=obia_erp_path, output='attribute')\n",
    "        # Rename the first column (id -> cat_)\n",
    "        columns = gscript.read_command('db.columns', table='attribute').split()[1:] #All columns except first ('id')\n",
    "        sql_query = \"DROP TABLE IF EXISTS tmp_a;\"\n",
    "        gscript.run_command('db.execute', overwrite=True, sql=sql_query)\n",
    "        sql_query = \"CREATE TABLE tmp_a AS SELECT a.id AS cat_, %s \\\n",
    "        FROM attribute AS a;\"%','.join(['a.%s'%col for col in columns])\n",
    "        gscript.run_command('db.execute', overwrite=True, sql=sql_query)\n",
    "        sql_query = \"DROP TABLE IF EXISTS attribute;\"\n",
    "        gscript.run_command('db.execute', overwrite=True, sql=sql_query)\n",
    "        sql_query = \"CREATE TABLE attribute AS SELECT * FROM tmp_a;\"\n",
    "        gscript.run_command('db.execute', overwrite=True, sql=sql_query)\n",
    "        # Remove temp files\n",
    "        os.remove(decompress_path) #Remove decompressed .csv\n",
    "        os.remove(obia_erp_path) #Remove .csv with ERP\n",
    "        # Print\n",
    "        return_message = \"--> Attribute table from OBIA classification imported in GRASS\"\n",
    "    except:\n",
    "        return_message += \"ERROR: Importation of attribute table from OBIA classification failed for cutline '%s'. Please check for problem.\"%tile_cat\n",
    "    return return_message"
   ]
  },
  {
   "cell_type": "code",
   "execution_count": 250,
   "metadata": {
    "collapsed": true
   },
   "outputs": [],
   "source": [
    "def CutCsv(input_csv, indexcol=False, nb_col_from_end=False):   \n",
    "    import subprocess, sys\n",
    "    # Check if at least one option is asked   \n",
    "    if not indexcol and not nb_col_from_end:\n",
    "        return \"ERROR: At least parameter 'indexcol' or 'nb_col_from_end' should be provided\"\n",
    "        sys.exit()\n",
    "    # Create a new .csv with only the first and the X lasts columns (X = nb_col_from_end. By default, first and last only)\n",
    "    path, ext = os.path.splitext(input_csv)\n",
    "    cut_csv = \"%s_cut%s\"%(path,ext)\n",
    "    f = open(cut_csv, \"w\")\n",
    "    if nb_col_from_end:\n",
    "        # Get number of colums in the .csv\n",
    "        p1 = subprocess.Popen((\"head -1 %s\"%input_csv).split(), stdout=subprocess.PIPE)\n",
    "        p2 = subprocess.Popen((\"tr ',' '\\\\n'\").split(), stdin=p1.stdout, stdout=subprocess.PIPE)\n",
    "        p3 = subprocess.Popen((\"wc -l\").split(), stdin=p2.stdout, stdout=subprocess.PIPE)\n",
    "        nb_columns = int(p3.communicate()[0])\n",
    "        index_start = nb_columns-nb_col_from_end\n",
    "    if indexcol and not nb_col_from_end:\n",
    "        subprocess.Popen((\"cut -d, -f1,%s %s\"%(','.join(indexcol),input_csv)).split(), stdout=f)\n",
    "    if nb_col_from_end and not indexcol:\n",
    "        subprocess.Popen((\"cut -d, -f1,%s-%s %s\"%(index_start,nb_columns,input_csv)).split(), stdout=f)\n",
    "    if nb_col_from_end and indexcol:\n",
    "        subprocess.Popen((\"cut -d, -f1,%s,%s-%s %s\"%(','.join(indexcol),index_start,nb_columns,input_csv)).split(), stdout=f)\n",
    "    f.close()\n",
    "    return cut_csv\n",
    "\n",
    "def GetObiaNdsm(tile_cat):    \n",
    "    #Declare empty string that will contain the messages to return\n",
    "    return_message = ''\n",
    "    try:   \n",
    "        # Decompress and import attribute table of segments the current cutline\n",
    "        in_path = os.path.join(data['obia_folder'],'ATTRIBUTS','walous_2018_stats_tile_%s.csv.gz'%tile_cat)\n",
    "        decompress_path = in_path[:-3]\n",
    "        decompress_gzip(in_path, decompress_path)\n",
    "        cut_csv = CutCsv(decompress_path, indexcol=['28',])\n",
    "        table_name = 'ndsm_mean'\n",
    "        gscript.run_command('db.in.ogr', overwrite=True, input=cut_csv, output=table_name)\n",
    "        # Add to 'attribute' table\n",
    "        sql_query = \"DROP TABLE IF EXISTS tmp_a;\"\n",
    "        gscript.run_command('db.execute', overwrite=True, sql=sql_query)\n",
    "        sql_query = \"CREATE TABLE tmp_a AS SELECT a.*,b.mnh2018_mean FROM attribute \\\n",
    "        AS a LEFT JOIN %s AS b ON a.cat_ = b.cat_;\"%table_name\n",
    "        gscript.run_command('db.execute', overwrite=True, sql=sql_query)\n",
    "        sql_query = \"DROP TABLE IF EXISTS attribute;\"\n",
    "        gscript.run_command('db.execute', overwrite=True, sql=sql_query)\n",
    "        sql_query = \"CREATE TABLE attribute AS SELECT * FROM tmp_a;\"\n",
    "        gscript.run_command('db.execute', overwrite=True, sql=sql_query)\n",
    "        os.remove(decompress_path) #Remove .csv\n",
    "        os.remove(cut_csv) #Remove .csv \n",
    "        # Print\n",
    "        return_message = \"--> Attribute table from OBIA classification imported in GRASS\"\n",
    "    except:\n",
    "        return_message += \"ERROR: Importation of attribute table from OBIA classification failed for cutline '%s'. Please check for problem.\"%tile_cat\n",
    "    return return_message"
   ]
  },
  {
   "cell_type": "code",
   "execution_count": 251,
   "metadata": {
    "collapsed": true
   },
   "outputs": [],
   "source": [
    "def GetPixelProportion(basemap, zonemap, prefixcolumn=\"\"):        \n",
    "    #Declare empty string that will contain the messages to return\n",
    "    return_message = ''\n",
    "    try:\n",
    "        ### Compute percentage of each class from pixel-based classification\n",
    "        output_csv = CategoStats(basemap, zonemap, cl_list=pixel_classes_list, colpref=prefixcolumn,\n",
    "                                 prop=True, mode=True, countnullformode=True)\n",
    "        pixel_erp_path = ComputeERPfromCsv(output_csv, erp_name=\"ortho_lc_ERP\", start_index=2)\n",
    "        ## Join to the attribute table\n",
    "        table_name = '_'.join(os.path.split(pixel_erp_path)[-1].split(\".csv\")[0].split('_')[1:])\n",
    "        gscript.run_command('db.in.ogr', overwrite=True, input=pixel_erp_path, output=table_name)\n",
    "        proportion_columns = gscript.read_command('db.columns', table=table_name).split()[1:] #All columns except firts ('cat')\n",
    "        sql_query = \"DROP TABLE IF EXISTS tmp_a;\"\n",
    "        gscript.run_command('db.execute', overwrite=True, sql=sql_query)\n",
    "        sql_query = \"CREATE TABLE tmp_a AS SELECT a.*,%s FROM attribute \\\n",
    "        AS a LEFT JOIN %s AS b ON a.cat_ = b.cat_;\"%(','.join(['b.%s'%col for col in proportion_columns]),table_name)\n",
    "        gscript.run_command('db.execute', overwrite=True, sql=sql_query)\n",
    "        sql_query = \"DROP TABLE IF EXISTS attribute;\"\n",
    "        gscript.run_command('db.execute', overwrite=True, sql=sql_query)\n",
    "        sql_query = \"CREATE TABLE attribute AS SELECT * FROM tmp_a;\"\n",
    "        gscript.run_command('db.execute', overwrite=True, sql=sql_query)\n",
    "        # Print\n",
    "        return_message = \"--> Proportion of pixel-based classification '%s' computed\"%basemap\n",
    "    except:\n",
    "        return_message += \"ERROR: Computation of proportion of pixel-based classification '%s' failed. Please check for problem.\"%basemap\n",
    "    return return_message"
   ]
  },
  {
   "cell_type": "code",
   "execution_count": 252,
   "metadata": {
    "collapsed": true
   },
   "outputs": [],
   "source": [
    "def GetPixelModal(basemap, zonemap, prefixcolumn=\"\"):        \n",
    "    #Declare empty string that will contain the messages to return\n",
    "    return_message = ''\n",
    "    try:\n",
    "        # Get mode of pixel-based classification for each segments\n",
    "        output_csv = CategoStats(basemap, zonemap, cl_list=pixel_classes_list, colpref=prefixcolumn,\n",
    "                                 prop=False, mode=True, countnullformode=True)\n",
    "        # Joint attribute from OBIA classification and modal class from pixel-based classification\n",
    "        mode_raster = '%s_%s_mode'%(basemap,zonemap)\n",
    "        gscript.run_command('db.in.ogr', overwrite=True, input=output_csv, output=mode_raster)\n",
    "        sql_query = \"DROP TABLE IF EXISTS tmp_a\"\n",
    "        gscript.run_command('db.execute', overwrite=True, sql=sql_query)\n",
    "        sql_query = \"CREATE TABLE tmp_a AS SELECT a.*,b.%s_mode \\\n",
    "        FROM attribute AS a LEFT JOIN %s AS b ON a.cat_ = b.cat_;\"%(prefixcolumn,mode_raster)\n",
    "        gscript.run_command('db.execute', overwrite=True, sql=sql_query)\n",
    "        sql_query = \"DROP TABLE IF EXISTS attribute;\"\n",
    "        gscript.run_command('db.execute', overwrite=True, sql=sql_query)\n",
    "        sql_query = \"CREATE TABLE attribute AS SELECT * FROM tmp_a;\"\n",
    "        gscript.run_command('db.execute', overwrite=True, sql=sql_query)\n",
    "        return_message = \"--> Modal class of pixel-based classification '%s' computed\"%basemap\n",
    "    except:\n",
    "        return_message += \"ERROR: Computation of modal class of pixel-based classification '%s' failed. Please check for problem.\"%basemap\n",
    "    return  return_message"
   ]
  },
  {
   "cell_type": "code",
   "execution_count": 253,
   "metadata": {
    "collapsed": true
   },
   "outputs": [],
   "source": [
    "def ExportFeatureCsv(tile_cat):        \n",
    "    #Declare empty string that will contain the messages to return\n",
    "    return_message = ''\n",
    "    try:\n",
    "        ## Export attribute table with all features to .csv file\n",
    "        output_csv = os.path.join(config_parameters['outputfolder_classfeatures'],'features_tile_%s.csv'%tile_cat)\n",
    "        gscript.run_command('db.select', overwrite=True, sql=\"SELECT * FROM attribute\", separator='comma', output=output_csv)\n",
    "        CsvChangeEmptyByO(output_csv, sep=',')\n",
    "        return_message += \"--> Attribute table with segment feature exported to csv\"\n",
    "    except:\n",
    "        return_message += \"ERROR: Export attribute table with feature statistics to csv failed. Please check for problem.\"\n",
    "\n",
    "    # Return\n",
    "    return return_message"
   ]
  },
  {
   "cell_type": "code",
   "execution_count": 254,
   "metadata": {
    "collapsed": true
   },
   "outputs": [],
   "source": [
    "def DeleteTmpData(tile_cat):\n",
    "    #Declare empty string that will contain the messages to return\n",
    "    return_message = ''\n",
    "    #Delete layers that are not needed anymore\n",
    "    list_of_tmp_rast = ['mask_copy',]\n",
    "    list_of_tmp_vect = ['tmp_tile',]\n",
    "    try:\n",
    "        # Remove mask if exists\n",
    "        if \"MASK@%s\"%tile_cat in gscript.list_strings(type=\"raster\",mapset=tile_cat):\n",
    "            gscript.run_command('r.mask', flags='r')\n",
    "        # Remove layers not needed anymore \n",
    "        gscript.run_command('g.remove', quiet=True, flags='f', type='vector', name=','.join(list_of_tmp_vect))    \n",
    "        gscript.run_command('g.remove', quiet=True, flags='f', type='raster', name=','.join(list_of_tmp_rast))\n",
    "        return_message += \"--> Mask and temporary layers have been deleted\"\n",
    "    except:\n",
    "        return_message = \"WARNING: Something went wrong during the deleting of temporary layer. Please check.\"\n",
    "    #Return\n",
    "    return return_message"
   ]
  },
  {
   "cell_type": "code",
   "execution_count": 255,
   "metadata": {
    "collapsed": true
   },
   "outputs": [],
   "source": [
    "def GetTileFeatures(current_tile):\n",
    "    start_tile = start_processing() \n",
    "    print \"Start processing on tile %s\"%current_tile\n",
    "    #Declare empty list for saving output messages\n",
    "    output_message = [] \n",
    "    #Launch mapset and create it if not exists\n",
    "    message = launch_mapset(current_tile)  \n",
    "    [output_message.append(a) for a in message]\n",
    "#    print \"\\n\".join(message)\n",
    "    #Add access to other mapset with input data\n",
    "    message = GetMapsetsAccess()  \n",
    "    output_message.append(message)\n",
    "#    print message\n",
    "    #Define computational region and mask\n",
    "    message = DefineComputationRegion(current_tile) \n",
    "    output_message.append(message)\n",
    "#    print message\n",
    "    #Unzip attributes from OBIA classification and import as SQlite table\n",
    "    message = GetObiaAttributes(current_tile) \n",
    "    output_message.append(message)\n",
    "#    print message\n",
    "    #Get nDSM value\n",
    "    message = GetObiaNdsm(current_tile)\n",
    "    output_message.append(message)\n",
    "#    print message\n",
    "    #Compute proportion and modal value of ORTHO_LC\n",
    "    message = GetPixelProportion(data['ortho_lc'][0], \"segmentation\", prefixcolumn=data['ortho_lc'][0])  \n",
    "    output_message.append(message)\n",
    "#    print message\n",
    "    #Compute modal value SENTI_LC\n",
    "    message = GetPixelModal(data['senti_lc'][0], \"segmentation\", prefixcolumn=data['senti_lc'][0]) \n",
    "    output_message.append(message)\n",
    "#    print message\n",
    "    #Compute modal value SENT2AGRI\n",
    "    message = GetPixelModal(data['senti_croptype'][0], \"segmentation\", prefixcolumn=data['senti_croptype'][0]) \n",
    "    output_message.append(message)\n",
    "#    print message\n",
    "    #Compute modal value MASK CROP \n",
    "    #message = GetPixelModal(data['binary_crop'][0], \"segmentation\", prefixcolumn=data['binary_crop'][0]) \n",
    "    #output_message.append(message)\n",
    "#    print message\n",
    "    #Compute modal value MASK SIGEC\n",
    "    message = GetPixelModal(data['binary_agri'][0], \"segmentation\", prefixcolumn=data['binary_agri'][0]) \n",
    "    output_message.append(message)\n",
    "#    print message\n",
    "    #Compute modal value MASK FOREST (Gembloux)\n",
    "    message = GetPixelModal(data['binary_forest'][0], \"segmentation\", prefixcolumn=data['binary_forest'][0]) \n",
    "    output_message.append(message)\n",
    "#    print message\n",
    "    #Compute modal value MASK HYDRO (Squelette vecto)\n",
    "    message = GetPixelModal(data['binary_hydro'][0], \"segmentation\", prefixcolumn=data['binary_hydro'][0]) \n",
    "    output_message.append(message)\n",
    "#    print message    \n",
    "    #Compute modal value MASK ROADNET (Squelette vecto)\n",
    "    message = GetPixelModal(data['binary_roadnet'][0], \"segmentation\", prefixcolumn=data['binary_roadnet'][0]) \n",
    "    output_message.append(message)\n",
    "#    print message    \n",
    "    #Compute modal value MASK BUILT (Squelette vecto)\n",
    "    message = GetPixelModal(data['binary_built'][0], \"segmentation\", prefixcolumn=data['binary_built'][0]) \n",
    "    output_message.append(message)\n",
    "#    print message    \n",
    "    #Export GRASS GIS SQlite table to csv\n",
    "    message = ExportFeatureCsv(current_tile)\n",
    "    output_message.append(message)\n",
    "#    print message\n",
    "    #Delete temporary layers and MASK\n",
    "    message = DeleteTmpData(current_tile)\n",
    "    output_message.append(message)\n",
    "#    print message\n",
    "    #Print processing time\n",
    "    message = print_processing_time(start_tile, \"Extraction of classification feature for tile '%s' achieved in \"%current_tile)\n",
    "    output_message.append(message)\n",
    "#    print message\n",
    "    #Export Log file\n",
    "    fout = open(os.path.join(config_parameters['outputfolder_Logfile'],\"Log_feature_extrac_tile_%s.txt\"%current_tile),\"w\")\n",
    "    [fout.writelines('%s\\n'%content) for content in output_message]\n",
    "    fout.close()"
   ]
  },
  {
   "cell_type": "markdown",
   "metadata": {},
   "source": [
    "**-_-_-_-_-_-_-_-_-_-_-_-_-_-_-_-_-_-_-_-_-_-_-_-_-_-_-_-_-_-_-_-_-_-_-_-_-_-_-_-_-_-_-_-_-_-_-_-_-_-_-_-_-_-_-_-_-_-_-_-_-**"
   ]
  },
  {
   "cell_type": "markdown",
   "metadata": {},
   "source": [
    "## Create new directories"
   ]
  },
  {
   "cell_type": "code",
   "execution_count": 256,
   "metadata": {},
   "outputs": [
    {
     "name": "stdout",
     "output_type": "stream",
     "text": [
      "The folder '../../../Results/Classification_features' already exists\n",
      "The folder '../../../Results/Log_file' already exists\n"
     ]
    }
   ],
   "source": [
    "# Check and create folder if needed\n",
    "check_create_dir(config_parameters['outputfolder_classfeatures'])\n",
    "check_create_dir(config_parameters['outputfolder_Logfile'])"
   ]
  },
  {
   "cell_type": "markdown",
   "metadata": {},
   "source": [
    "**-_-_-_-_-_-_-_-_-_-_-_-_-_-_-_-_-_-_-_-_-_-_-_-_-_-_-_-_-_-_-_-_-_-_-_-_-_-_-_-_-_-_-_-_-_-_-_-_-_-_-_-_-_-_-_-_-_-_-_-_-**"
   ]
  },
  {
   "cell_type": "markdown",
   "metadata": {},
   "source": [
    "# Processing"
   ]
  },
  {
   "cell_type": "code",
   "execution_count": 257,
   "metadata": {
    "scrolled": true
   },
   "outputs": [
    {
     "data": {
      "text/plain": [
       "[\"Location 'WALOUS_31370' already exist\",\n",
       " \"'PERMANENT' mapset already exists in location 'WALOUS_31370'\",\n",
       " \"You are now working in mapset 'WALOUS_31370/PERMANENT'\"]"
      ]
     },
     "execution_count": 257,
     "metadata": {},
     "output_type": "execute_result"
    }
   ],
   "source": [
    "# Create mapset \n",
    "launch_mapset(\"PERMANENT\")"
   ]
  },
  {
   "cell_type": "markdown",
   "metadata": {},
   "source": [
    "**Get a list of tiles to be processed**"
   ]
  },
  {
   "cell_type": "code",
   "execution_count": 258,
   "metadata": {
    "collapsed": true
   },
   "outputs": [],
   "source": [
    "# Return cat and ZONE values of tile layer\n",
    "a = gscript.parse_command('v.db.select', flags='c', map=data['tiles'][0], columns='cat').keys()\n",
    "a.sort(key=natural_keys)\n",
    "tile_list = a"
   ]
  },
  {
   "cell_type": "markdown",
   "metadata": {},
   "source": [
    "**Export list of tiles to file (for other script later)**"
   ]
  },
  {
   "cell_type": "markdown",
   "metadata": {},
   "source": [
    "https://www.techcoil.com/blog/how-to-save-and-load-objects-to-and-from-file-in-python-via-facilities-from-the-pickle-module/"
   ]
  },
  {
   "cell_type": "code",
   "execution_count": 259,
   "metadata": {
    "collapsed": true
   },
   "outputs": [],
   "source": [
    "# Export python object to file\n",
    "with open(config_parameters['list_tiles'], 'wb') as outputfile:\n",
    "  pickle.dump(tile_list, outputfile)"
   ]
  },
  {
   "cell_type": "markdown",
   "metadata": {},
   "source": [
    "**Get a list of classes in pixel-based classification**"
   ]
  },
  {
   "cell_type": "code",
   "execution_count": 260,
   "metadata": {},
   "outputs": [
    {
     "data": {
      "text/plain": [
       "['0', '2', '3', '5', '6', '9', '11', '12', '41', '42', '232']"
      ]
     },
     "execution_count": 260,
     "metadata": {},
     "output_type": "execute_result"
    }
   ],
   "source": [
    "# Import list of class of 'ortho_lc' map\n",
    "with open(config_parameters['pixel_classes_list'], 'rb') as outputfile: \n",
    "    pixel_classes_list = pickle.load(outputfile) \n",
    "pixel_classes_list"
   ]
  },
  {
   "cell_type": "markdown",
   "metadata": {},
   "source": [
    "## Extract classification features by segment"
   ]
  },
  {
   "cell_type": "code",
   "execution_count": 261,
   "metadata": {
    "collapsed": true
   },
   "outputs": [],
   "source": [
    "# Define number of cores\n",
    "ncores = 20"
   ]
  },
  {
   "cell_type": "code",
   "execution_count": 262,
   "metadata": {
    "scrolled": false
   },
   "outputs": [
    {
     "name": "stdout",
     "output_type": "stream",
     "text": [
      "Going to process 293 tiles on 20 cores\n"
     ]
    }
   ],
   "source": [
    "# Define current tile\n",
    "print \"Going to process %s tiles on %s cores\"%(len(tile_list),ncores)"
   ]
  },
  {
   "cell_type": "code",
   "execution_count": 263,
   "metadata": {
    "scrolled": true
   },
   "outputs": [
    {
     "name": "stdout",
     "output_type": "stream",
     "text": [
      "Start processing on tile 817\n",
      "Start processing on tile 1839\n",
      "Start processing on tile 1178\n",
      "Start processing on tile 1207\n",
      "Start processing on tile 1893\n",
      "Start processing on tile 1252\n",
      "Start processing on tile 1790\n",
      "Start processing on tile 1848\n",
      "Start processing on tile 1182\n",
      "Start processing on tile 1843\n",
      "Start processing on tile 1128\n",
      "Start processing on tile 1987\n",
      "Start processing on tile 2212\n",
      "Start processing on tile 2139\n",
      "Start processing on tile 2019\n",
      "Start processing on tile 2147\n",
      "Start processing on tile 2039\n",
      "Start processing on tile 2043\n",
      "Start processing on tile 1897\n",
      "Start processing on tile 2023\n",
      "Start processing on tile 2213\n",
      "Start processing on tile 1894\n",
      "Start processing on tile 1157\n",
      "Start processing on tile 2044\n",
      "Start processing on tile 2140\n",
      "Start processing on tile 2016\n",
      "Start processing on tile 1253\n",
      "Start processing on tile 2153\n",
      "Start processing on tile 1059\n",
      "Start processing on tile 1875\n",
      "Start processing on tile 1844\n",
      "Start processing on tile 2040\n",
      "Start processing on tile 1914\n",
      "Start processing on tile 1179\n",
      "Start processing on tile 1183\n",
      "Start processing on tile 1208\n",
      "Start processing on tile 2020\n",
      "Start processing on tile 2214\n",
      "Start processing on tile 1791\n",
      "Start processing on tile 1734\n",
      "Start processing on tile 2197\n",
      "Start processing on tile 2141\n",
      "Start processing on tile 2045\n",
      "Start processing on tile 1876\n",
      "Start processing on tile 1895\n",
      "Start processing on tile 1840\n",
      "Start processing on tile 1068\n",
      "Start processing on tile 1158\n",
      "Start processing on tile 2041\n",
      "Start processing on tile 1982\n",
      "Start processing on tile 2219\n",
      "Start processing on tile 1180\n",
      "Start processing on tile 1846\n",
      "Start processing on tile 2024\n",
      "Start processing on tile 2198\n",
      "Start processing on tile 2146\n",
      "Start processing on tile 1896\n",
      "Start processing on tile 1216\n",
      "Start processing on tile 1197\n",
      "Start processing on tile 2138\n",
      "Start processing on tile 2021\n",
      "Start processing on tile 2334\n",
      "Start processing on tile 2017\n",
      "Start processing on tile 1841\n",
      "Start processing on tile 2042\n",
      "Start processing on tile 1789\n",
      "Start processing on tile 1792\n",
      "Start processing on tile 1892\n",
      "Start processing on tile 1986\n",
      "Start processing on tile 1069\n",
      "Start processing on tile 1181\n",
      "Start processing on tile 2400\n",
      "Start processing on tile 2482\n",
      "Start processing on tile 1847\n",
      "Start processing on tile 1177\n",
      "Start processing on tile 2486\n",
      "Start processing on tile 2025\n",
      "Start processing on tile 1205\n",
      "Start processing on tile 1217\n",
      "Start processing on tile 2335\n",
      "Start processing on tile 2495\n",
      "Start processing on tile 2518\n",
      "Start processing on tile 2483\n",
      "Start processing on tile 2523\n",
      "Start processing on tile 2527\n",
      "Start processing on tile 2401\n",
      "Start processing on tile 1842\n",
      "Start processing on tile 2541\n",
      "Start processing on tile 1793\n",
      "Start processing on tile 2545\n",
      "Start processing on tile 2666\n",
      "Start processing on tile 2397\n",
      "Start processing on tile 2022\n",
      "Start processing on tile 2773\n",
      "Start processing on tile 2821\n",
      "Start processing on tile 2487\n",
      "Start processing on tile 2496\n",
      "Start processing on tile 2542\n",
      "Start processing on tile 2484\n",
      "Start processing on tile 2956\n",
      "Start processing on tile 2018\n",
      "Start processing on tile 2538\n",
      "Start processing on tile 2770\n",
      "Start processing on tile 2524\n",
      "Start processing on tile 2480\n",
      "Start processing on tile 2520\n",
      "Start processing on tile 2774\n",
      "Start processing on tile 2546\n",
      "Start processing on tile 3288\n",
      "Start processing on tile 2398\n",
      "Start processing on tile 2028\n",
      "Start processing on tile 2895\n",
      "Start processing on tile 2481\n",
      "Start processing on tile 2543\n",
      "Start processing on tile 2516\n",
      "Start processing on tile 2488\n",
      "Start processing on tile 3384\n",
      "Start processing on tile 2771\n",
      "Start processing on tile 2817\n",
      "Start processing on tile 2525\n",
      "Start processing on tile 3629\n",
      "Start processing on tile 3048\n",
      "Start processing on tile 2539\n",
      "Start processing on tile 3831\n",
      "Start processing on tile 2664\n",
      "Start processing on tile 2521\n",
      "Start processing on tile 2485\n",
      "Start processing on tile 2912\n",
      "Start processing on tile 3304\n",
      "Start processing on tile 3871\n",
      "Start processing on tile 3933\n",
      "Start processing on tile 4325\n",
      "Start processing on tile 2517\n",
      "Start processing on tile 2544\n",
      "Start processing on tile 2820\n",
      "Start processing on tile 2494\n",
      "Start processing on tile 2772\n",
      "Start processing on tile 3054\n",
      "Start processing on tile 2665\n",
      "Start processing on tile 3407\n",
      "Start processing on tile 2540\n",
      "Start processing on tile 2522\n",
      "Start processing on tile 3838\n",
      "Start processing on tile 3307\n",
      "Start processing on tile 2526\n",
      "Start processing on tile 4692\n",
      "Start processing on tile 2949\n",
      "Start processing on tile 4748\n",
      "Start processing on tile 3872\n",
      "Start processing on tile 4344\n",
      "Start processing on tile 4785\n",
      "Start processing on tile 3825\n",
      "Start processing on tile 4808\n",
      "Start processing on tile 4813\n",
      "Start processing on tile 3939\n",
      "Start processing on tile 5029\n",
      "Start processing on tile 3309\n",
      "Start processing on tile 3219\n",
      "Start processing on tile 3409\n",
      "Start processing on tile 5063\n",
      "Start processing on tile 3839\n",
      "Start processing on tile 5293\n",
      "Start processing on tile 5462\n",
      "Start processing on tile 4754\n",
      "Start processing on tile 5563\n",
      "Start processing on tile 5663\n",
      "Start processing on tile 4787\n",
      "Start processing on tile 4809\n",
      "Start processing on tile 4693\n",
      "Start processing on tile 5763\n",
      "Start processing on tile 3888\n",
      "Start processing on tile 5035\n",
      "Start processing on tile 4441\n",
      "Start processing on tile 3826\n",
      "Start processing on tile 3966\n",
      "Start processing on tile 3544\n",
      "Start processing on tile 5464\n",
      "Start processing on tile 5064\n",
      "Start processing on tile 4814\n",
      "Start processing on tile 5792\n",
      "Start processing on tile 4755\n",
      "Start processing on tile 5294\n",
      "Start processing on tile 3840\n",
      "Start processing on tile 5572\n",
      "Start processing on tile 5758\n",
      "Start processing on tile 4704\n",
      "Start processing on tile 5818\n",
      "Start processing on tile 3932\n",
      "Start processing on tile 4797\n",
      "Start processing on tile 5845\n",
      "Start processing on tile 3830\n",
      "Start processing on tile 5065\n",
      "Start processing on tile 4691\n",
      "Start processing on tile 5787\n",
      "Start processing on tile 3967\n",
      "Start processing on tile 5050\n",
      "Start processing on tile 4816\n",
      "Start processing on tile 5796\n",
      "Start processing on tile 5491\n",
      "Start processing on tile 4810\n",
      "Start processing on tile 4708\n",
      "Start processing on tile 5648\n",
      "Start processing on tile 4798\n",
      "Start processing on tile 5920\n",
      "Start processing on tile 5511\n",
      "Start processing on tile 5396\n",
      "Start processing on tile 5846\n",
      "Start processing on tile 4781\n",
      "Start processing on tile 5931\n",
      "Start processing on tile 6061\n",
      "Start processing on tile 5820\n",
      "Start processing on tile 5028\n",
      "Start processing on tile 6231\n",
      "Start processing on tile 5054\n",
      "Start processing on tile 5788\n",
      "Start processing on tile 5066\n",
      "Start processing on tile 6333\n",
      "Start processing on tile 5797\n",
      "Start processing on tile 5921\n",
      "Start processing on tile 5847\n",
      "Start processing on tile 5398\n",
      "Start processing on tile 5761\n",
      "Start processing on tile 5934\n",
      "Start processing on tile 4811\n",
      "Start processing on tile 6325\n",
      "Start processing on tile 6192\n",
      "Start processing on tile 5662\n",
      "Start processing on tile 5830\n",
      "Start processing on tile 5929\n",
      "Start processing on tile 5789\n",
      "Start processing on tile 5848\n",
      "Start processing on tile 5935\n",
      "Start processing on tile 6351\n",
      "Start processing on tile 6326\n",
      "Start processing on tile 5762\n",
      "Start processing on tile 5817\n",
      "Start processing on tile 6194\n",
      "Start processing on tile 5844\n",
      "Start processing on tile 5930\n",
      "Start processing on tile 5936\n",
      "Start processing on tile 6357\n",
      "Start processing on tile 6327\n",
      "Start processing on tile 6229\n"
     ]
    },
    {
     "data": {
      "text/plain": [
       "'Computation (on 20 cores) achieved in 2 hours and 53 minutes and 6.6 seconds'"
      ]
     },
     "execution_count": 263,
     "metadata": {},
     "output_type": "execute_result"
    }
   ],
   "source": [
    "# Launch processes in parallel\n",
    "start_parallel = start_processing()\n",
    "p = Pool(ncores)\n",
    "output = p.map(GetTileFeatures, tile_list[50:])  # Launch the processes for as many items in the list (if function with a return, the returned results are ordered thanks to 'map' function)\n",
    "p.close()\n",
    "p.join()\n",
    "# Print\n",
    "print_processing_time(start_parallel, \"Computation (on %s cores) achieved in \"%ncores)"
   ]
  },
  {
   "cell_type": "markdown",
   "metadata": {
    "collapsed": true
   },
   "source": [
    "**Check log file for ERRORS**"
   ]
  },
  {
   "cell_type": "code",
   "execution_count": 274,
   "metadata": {},
   "outputs": [
    {
     "name": "stdout",
     "output_type": "stream",
     "text": [
      "284 log files in the folder\n"
     ]
    }
   ],
   "source": [
    "# Get list of csv with classification feature of individual tiles\n",
    "import glob\n",
    "list_log = glob.glob(os.path.join(config_parameters['outputfolder_Logfile'],\"Log_feature_extrac_tile_*.txt\"))\n",
    "print \"%s log files in the folder\"%len(list_log)"
   ]
  },
  {
   "cell_type": "code",
   "execution_count": 275,
   "metadata": {},
   "outputs": [
    {
     "name": "stdout",
     "output_type": "stream",
     "text": [
      "0 tile(s) faced an ERROR during the processing.\n",
      "\n",
      "\n"
     ]
    }
   ],
   "source": [
    "# Declare new counter\n",
    "count = 0\n",
    "# Declare new list that will contain list of tile with error\n",
    "tile_error_list = []\n",
    "# Loop on list of log file\n",
    "for logfile in list_log:\n",
    "    got_error = False\n",
    "    tile_num = os.path.splitext(os.path.basename(logfile))[0].split(\"_\")[-1]\n",
    "    fin = open(logfile, 'r')\n",
    "    for row in fin:\n",
    "        if row[:5] == \"ERROR\":  # If at least one line have error message, the whole file will be counted as 1 error\n",
    "            got_error = True\n",
    "    if got_error:    \n",
    "        count += 1\n",
    "        tile_error_list.append(tile_num)  # Add tile number to the list\n",
    "# Print\n",
    "print \"%s tile(s) faced an ERROR during the processing.\\n\"%count\n",
    "\n",
    "# Update tile list with only tiles that have ERROR in log \n",
    "print \"\\n\".join([\"Error on tile %s\"%(a) for a in tile_error_list])"
   ]
  },
  {
   "cell_type": "code",
   "execution_count": 276,
   "metadata": {
    "scrolled": true
   },
   "outputs": [
    {
     "data": {
      "text/plain": [
       "[]"
      ]
     },
     "execution_count": 276,
     "metadata": {},
     "output_type": "execute_result"
    }
   ],
   "source": [
    "tile_error_list"
   ]
  },
  {
   "cell_type": "code",
   "execution_count": null,
   "metadata": {
    "collapsed": true
   },
   "outputs": [],
   "source": []
  },
  {
   "cell_type": "code",
   "execution_count": null,
   "metadata": {
    "collapsed": true
   },
   "outputs": [],
   "source": []
  },
  {
   "cell_type": "code",
   "execution_count": null,
   "metadata": {
    "collapsed": true
   },
   "outputs": [],
   "source": []
  },
  {
   "cell_type": "code",
   "execution_count": null,
   "metadata": {
    "collapsed": true
   },
   "outputs": [],
   "source": []
  },
  {
   "cell_type": "code",
   "execution_count": null,
   "metadata": {
    "collapsed": true
   },
   "outputs": [],
   "source": []
  },
  {
   "cell_type": "code",
   "execution_count": null,
   "metadata": {
    "collapsed": true
   },
   "outputs": [],
   "source": []
  }
 ],
 "metadata": {
  "kernelspec": {
   "display_name": "Python 2",
   "language": "python",
   "name": "python2"
  },
  "language_info": {
   "codemirror_mode": {
    "name": "ipython",
    "version": 2
   },
   "file_extension": ".py",
   "mimetype": "text/x-python",
   "name": "python",
   "nbconvert_exporter": "python",
   "pygments_lexer": "ipython2",
   "version": "2.7.12"
  }
 },
 "nbformat": 4,
 "nbformat_minor": 2
}
