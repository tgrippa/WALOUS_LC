{
 "cells": [
  {
   "cell_type": "markdown",
   "metadata": {},
   "source": [
    "<p><strong><font size=\"6\">WALOUS</font></strong></p>"
   ]
  },
  {
   "cell_type": "markdown",
   "metadata": {},
   "source": [
    "<p><strong><font size=\"6\">Fusion LC classifications results</font></strong></p>"
   ]
  },
  {
   "cell_type": "markdown",
   "metadata": {},
   "source": [
    "<p><strong><font size=\"6\">Test validation</font></strong></p>"
   ]
  },
  {
   "cell_type": "markdown",
   "metadata": {},
   "source": [
    "This python code implement the method developed by ANAGEO (ULB). \n",
    "\n",
    "Code developped on Linux Mint 18.1 (Ubuntu Xenial 16.04) and GRASS GIS 7.3.svn (r71315)."
   ]
  },
  {
   "cell_type": "markdown",
   "metadata": {},
   "source": [
    "# Table of Contents"
   ]
  },
  {
   "cell_type": "markdown",
   "metadata": {},
   "source": [
    "<div id=\"toc\"></div>"
   ]
  },
  {
   "cell_type": "markdown",
   "metadata": {},
   "source": [
    "The following cell is a Javascript section of code for building the Jupyter notebook's table of content."
   ]
  },
  {
   "cell_type": "code",
   "execution_count": 2,
   "metadata": {},
   "outputs": [
    {
     "data": {
      "application/javascript": [
       "$.getScript('https://kmahelona.github.io/ipython_notebook_goodies/ipython_notebook_toc.js')"
      ],
      "text/plain": [
       "<IPython.core.display.Javascript object>"
      ]
     },
     "metadata": {},
     "output_type": "display_data"
    }
   ],
   "source": [
    "%%javascript\n",
    "$.getScript('https://kmahelona.github.io/ipython_notebook_goodies/ipython_notebook_toc.js')"
   ]
  },
  {
   "cell_type": "markdown",
   "metadata": {},
   "source": [
    "# Define working environment"
   ]
  },
  {
   "cell_type": "markdown",
   "metadata": {},
   "source": [
    "**Import libraries**"
   ]
  },
  {
   "cell_type": "code",
   "execution_count": 3,
   "metadata": {
    "collapsed": true
   },
   "outputs": [],
   "source": [
    "# Import libraries needed for setting parameters of operating system \n",
    "import os\n",
    "import sys\n",
    "import csv\n",
    "import tempfile\n",
    "import glob\n",
    "import math\n",
    "import pickle"
   ]
  },
  {
   "cell_type": "markdown",
   "metadata": {},
   "source": [
    "** Add folder with SCR provided belong to this notebook**"
   ]
  },
  {
   "cell_type": "code",
   "execution_count": 21,
   "metadata": {
    "collapsed": true
   },
   "outputs": [],
   "source": [
    "# Add local module to the path\n",
    "src = os.path.abspath('../SRC')\n",
    "if src not in sys.path:\n",
    "    sys.path.append(src)"
   ]
  },
  {
   "cell_type": "markdown",
   "metadata": {},
   "source": [
    "** Setup environment variables for TAIS DESKTOP (Linux Mint + GRASS Dev) **"
   ]
  },
  {
   "cell_type": "markdown",
   "metadata": {},
   "source": [
    "Please edit the file in `../SRC/config.py`, containing the configuration parameters, according to your own computer setup. The following cell is used to run this file.\n",
    "\n"
   ]
  },
  {
   "cell_type": "code",
   "execution_count": 22,
   "metadata": {
    "collapsed": true,
    "scrolled": true
   },
   "outputs": [],
   "source": [
    "run ../SRC/config.py"
   ]
  },
  {
   "cell_type": "code",
   "execution_count": 23,
   "metadata": {
    "scrolled": true
   },
   "outputs": [
    {
     "name": "stdout",
     "output_type": "stream",
     "text": [
      "{'outputfolder_classifRF_tiles': '../../../Results_V2/Classif_RF/classif_tiles', 'outputfolder_classifRF': '../../../Results_V2/Classif_RF', 'outputfolder_Logfile': '../../../Results_V2/Log_file', 'permanent_mapset': 'PERMANENT', 'outputfolder_training_sample': '../../../Results_V2/Training_sample', 'locationepsg': '31370', 'outputfolder': '../../../Results_V2', 'list_tiles': '../../../Results_V2/list_tiles', 'pixel_classes_list': '../../../Results_V2/pixel_classes_list', 'outputfolder_classifRF_csv': '../../../Results_V2/Classif_RF/classif_csv', 'gisdb': '../../GRASSDATA', 'location': 'WALOUS_31370', 'outputfolder_classfeatures': '../../../Results_V2/Classification_features', 'PYTHONLIB': '/usr/lib/python2.7', 'njobs': 6, 'outputfolder_classifRF_valid': '../../../Results_V2/Classif_RF/test_valid', 'rf_trained_model': '../../../Results_V2/Classif_RF/rf_trained_model.rda', 'GISBASE': '/usr/lib/grass76'}\n"
     ]
    }
   ],
   "source": [
    "print config_parameters"
   ]
  },
  {
   "cell_type": "code",
   "execution_count": 24,
   "metadata": {
    "collapsed": true
   },
   "outputs": [],
   "source": [
    "# Import functions that setup the environmental variables\n",
    "import environ_variables as envi"
   ]
  },
  {
   "cell_type": "code",
   "execution_count": 25,
   "metadata": {
    "scrolled": true
   },
   "outputs": [
    {
     "name": "stdout",
     "output_type": "stream",
     "text": [
      "MDMSESSION = mate \t\n",
      "MANDATORY_PATH = /usr/share/gconf/mate.mandatory.path \t\n",
      "MATE_DESKTOP_SESSION_ID = this-is-deprecated \t\n",
      "LESSOPEN = | /usr/bin/lesspipe %s \t\n",
      "MDM_LANG = fr_BE.UTF-8 \t\n",
      "LOGNAME = tais \t\n",
      "USER = tais \t\n",
      "HOME = /home/tais \t\n",
      "XDG_VTNR = 8 \t\n",
      "PATH = /usr/local/bin:/home/tais/BIN:/home/tais/bin:/home/tais/.local/bin:/usr/local/sbin:/usr/local/bin:/usr/sbin:/usr/bin:/sbin:/bin:/usr/games:/usr/local/games:/usr/lib/grass76/bin:/usr/lib/grass76/script:/usr/lib/grass76/lib:/usr/lib/grass76/bin:/usr/lib/grass76/scripts:/home/tais/.grass7/addons/scripts:/home/tais/.grass7/addons/bin:/usr/lib/grass76/bin:/usr/lib/grass76/scripts:/home/tais/.grass7/addons/scripts:/home/tais/.grass7/addons/bin:/usr/lib/grass76/bin:/usr/lib/grass76/script:/usr/lib/grass76/lib \t\n",
      "CLICOLOR = 1 \t\n",
      "DISPLAY = :0.0 \t\n",
      "SSH_AGENT_PID = 1986 \t\n",
      "LANG = fr_BE.UTF-8 \t\n",
      "TERM = xterm-color \t\n",
      "SHELL = /bin/bash \t\n",
      "GIS_LOCK = $$ \t\n",
      "XAUTHORITY = /home/tais/.Xauthority \t\n",
      "SESSION_MANAGER = local/tais-HP-Z620-Workstation:@/tmp/.ICE-unix/1915,unix/tais-HP-Z620-Workstation:/tmp/.ICE-unix/1915 \t\n",
      "SHLVL = 1 \t\n",
      "QT_LINUX_ACCESSIBILITY_ALWAYS_ON = 1 \t\n",
      "INSIDE_CAJA_PYTHON =  \t\n",
      "QT_ACCESSIBILITY = 1 \t\n",
      "LD_LIBRARY_PATH = :/usr/lib/grass76/lib:/usr/lib/grass76/lib:/usr/lib/grass76/lib:/usr/lib/grass76/lib \t\n",
      "COMPIZ_CONFIG_PROFILE = mate \t\n",
      "WINDOWPATH = 8 \t\n",
      "GTK_OVERLAY_SCROLLING = 0 \t\n",
      "PYTHONPATH = /usr/lib/grass76/etc/python:/usr/lib/grass76/etc/python::/usr/lib/grass76/etc/python:/usr/lib/grass76/etc/python/grass:/usr/lib/grass76/etc/python/grass/script:/usr/lib/grass76/etc/python:/usr/lib/grass76/etc/python/grass:/usr/lib/grass76/etc/python/grass/script \t\n",
      "GISBASE = /usr/lib/grass76 \t\n",
      "CLUTTER_BACKEND = x11 \t\n",
      "USERNAME = tais \t\n",
      "XDG_SESSION_DESKTOP = mate \t\n",
      "GDM_XSERVER_LOCATION = local \t\n",
      "XDG_RUNTIME_DIR = /run/user/1000 \t\n",
      "JPY_PARENT_PID = 6412 \t\n",
      "QT_STYLE_OVERRIDE = gtk \t\n",
      "SSH_AUTH_SOCK = /run/user/1000/keyring/ssh \t\n",
      "VTE_VERSION = 4205 \t\n",
      "GDMSESSION = mate \t\n",
      "GISRC = /home/tais/.grass7/rc \t\n",
      "GIT_PAGER = cat \t\n",
      "XDG_CONFIG_DIRS = /etc/xdg/xdg-mate:/etc/xdg \t\n",
      "XDG_CURRENT_DESKTOP = MATE \t\n",
      "XDG_SESSION_ID = c1 \t\n",
      "DBUS_SESSION_BUS_ADDRESS = unix:abstract=/tmp/dbus-Cdbeh7LCdd,guid=a02767871f27bb60d182f0b15cf7a7c8 \t\n",
      "_ = /usr/local/bin/jupyter \t\n",
      "XDG_SESSION_COOKIE = 8441891e86e24d76b9616edf516d5734-1559734215.914737-1689936333 \t\n",
      "DESKTOP_SESSION = mate \t\n",
      "WINDOWID = 79756533 \t\n",
      "LESSCLOSE = /usr/bin/lesspipe %s %s \t\n",
      "DEFAULTS_PATH = /usr/share/gconf/mate.default.path \t\n",
      "MPLBACKEND = module://ipykernel.pylab.backend_inline \t\n",
      "MDM_XSERVER_LOCATION = local \t\n",
      "GTK_MODULES = gail:atk-bridge \t\n",
      "XDG_DATA_DIRS = /usr/share/mate:/usr/local/share/:/usr/share/:/usr/share/mdm/ \t\n",
      "PWD = /media/tais/data/WALOUS/Processing \t\n",
      "GRASS_ADDON_BASE = /home/tais/.grass7/addons \t\n",
      "COLORTERM = mate-terminal \t\n",
      "PYTHONLIB = /usr/lib/python2.7 \t\n",
      "LS_COLORS = rs=0:di=01;34:ln=01;36:mh=00:pi=40;33:so=01;35:do=01;35:bd=40;33;01:cd=40;33;01:or=40;31;01:mi=00:su=37;41:sg=30;43:ca=30;41:tw=30;42:ow=34;42:st=37;44:ex=01;32:*.tar=01;31:*.tgz=01;31:*.arc=01;31:*.arj=01;31:*.taz=01;31:*.lha=01;31:*.lz4=01;31:*.lzh=01;31:*.lzma=01;31:*.tlz=01;31:*.txz=01;31:*.tzo=01;31:*.t7z=01;31:*.zip=01;31:*.z=01;31:*.Z=01;31:*.dz=01;31:*.gz=01;31:*.lrz=01;31:*.lz=01;31:*.lzo=01;31:*.xz=01;31:*.bz2=01;31:*.bz=01;31:*.tbz=01;31:*.tbz2=01;31:*.tz=01;31:*.deb=01;31:*.rpm=01;31:*.jar=01;31:*.war=01;31:*.ear=01;31:*.sar=01;31:*.rar=01;31:*.alz=01;31:*.ace=01;31:*.zoo=01;31:*.cpio=01;31:*.7z=01;31:*.rz=01;31:*.cab=01;31:*.jpg=01;35:*.jpeg=01;35:*.gif=01;35:*.bmp=01;35:*.pbm=01;35:*.pgm=01;35:*.ppm=01;35:*.tga=01;35:*.xbm=01;35:*.xpm=01;35:*.tif=01;35:*.tiff=01;35:*.png=01;35:*.svg=01;35:*.svgz=01;35:*.mng=01;35:*.pcx=01;35:*.mov=01;35:*.mpg=01;35:*.mpeg=01;35:*.m2v=01;35:*.mkv=01;35:*.webm=01;35:*.ogm=01;35:*.mp4=01;35:*.m4v=01;35:*.mp4v=01;35:*.vob=01;35:*.qt=01;35:*.nuv=01;35:*.wmv=01;35:*.asf=01;35:*.rm=01;35:*.rmvb=01;35:*.flc=01;35:*.avi=01;35:*.fli=01;35:*.flv=01;35:*.gl=01;35:*.dl=01;35:*.xcf=01;35:*.xwd=01;35:*.yuv=01;35:*.cgm=01;35:*.emf=01;35:*.ogv=01;35:*.ogx=01;35:*.aac=00;36:*.au=00;36:*.flac=00;36:*.m4a=00;36:*.mid=00;36:*.midi=00;36:*.mka=00;36:*.mp3=00;36:*.mpc=00;36:*.ogg=00;36:*.ra=00;36:*.wav=00;36:*.oga=00;36:*.opus=00;36:*.spx=00;36:*.xspf=00;36: \t\n",
      "PAGER = cat \t\n",
      "GRASS_PYTHON = python \t\n",
      "XDG_SEAT = seat0 \t\n"
     ]
    }
   ],
   "source": [
    "# Set environmental variables\n",
    "envi.setup_environmental_variables() \n",
    "# Display current environment variables of your computer\n",
    "envi.print_environmental_variables()"
   ]
  },
  {
   "cell_type": "markdown",
   "metadata": {},
   "source": [
    "** GRASS GIS Python libraries **"
   ]
  },
  {
   "cell_type": "code",
   "execution_count": 26,
   "metadata": {
    "collapsed": true
   },
   "outputs": [],
   "source": [
    "# Import libraries needed to launch GRASS GIS in the jupyter notebook\n",
    "import grass.script.setup as gsetup\n",
    "# Import libraries needed to call GRASS using Python\n",
    "import grass.script as gscript"
   ]
  },
  {
   "cell_type": "markdown",
   "metadata": {},
   "source": [
    "** Other functions**"
   ]
  },
  {
   "cell_type": "code",
   "execution_count": 27,
   "metadata": {
    "collapsed": true
   },
   "outputs": [],
   "source": [
    "# Import function that check existance and create GRASS GIS database folder if needed\n",
    "from grass_database import check_gisdb, check_location, check_mapset, working_mapset\n",
    "# Import functions for processing time information\n",
    "from processing_time import start_processing, print_processing_time\n",
    "# Import function that generate a random name in the GRASS GIS environement\n",
    "from random_layer_name import random_layer_name\n",
    "# Import function that check and create folder\n",
    "from mkdir import check_create_dir\n",
    "# Import function that check if GRASS GIS add-on is installed and install it if needed\n",
    "from gextension import check_install_addon\n",
    "# Import function that change .csv delimiter\n",
    "from ChangeCsvDelimiter import ChangeCsvDelimiter\n",
    "# Import function for .gzip archive management\n",
    "from gzip_management import decompress_gzip\n",
    "# Import function for getting list of class of a raster\n",
    "from data_prep import data_prep\n",
    "# Import function the allow sorting strings with number as if they was number (natural order)\n",
    "from sorting_natural import natural_keys"
   ]
  },
  {
   "cell_type": "markdown",
   "metadata": {},
   "source": [
    "**-_-_-_-_-_-_-_-_-_-_-_-_-_-_-_-_-_-_-_-_-_-_-_-_-_-_-_-_-_-_-_-_-_-_-_-_-_-_-_-_-_-_-_-_-_-_-_-_-_-_-_-_-_-_-_-_-_-_-_-_-**"
   ]
  },
  {
   "cell_type": "code",
   "execution_count": 28,
   "metadata": {
    "collapsed": true
   },
   "outputs": [],
   "source": [
    "def launch_mapset(mapset):\n",
    "    #Declare empty list that will contain the messages to return\n",
    "    return_message = []\n",
    "    # Check if the location exists and create it if not, with the CRS defined by the epsg code \n",
    "    return_message.append(check_location(config_parameters[\"gisdb\"],config_parameters['location'],config_parameters[\"locationepsg\"]))\n",
    "    # Check if mapset exists\n",
    "    return_message.append(check_mapset(config_parameters[\"gisdb\"],config_parameters['location'],mapset))\n",
    "    # Change the current working GRASS GIS session mapset\n",
    "    return_message.append(working_mapset(config_parameters[\"gisdb\"],config_parameters['location'],mapset))\n",
    "    # Return\n",
    "    return return_message"
   ]
  },
  {
   "cell_type": "markdown",
   "metadata": {},
   "source": [
    "**-_-_-_-_-_-_-_-_-_-_-_-_-_-_-_-_-_-_-_-_-_-_-_-_-_-_-_-_-_-_-_-_-_-_-_-_-_-_-_-_-_-_-_-_-_-_-_-_-_-_-_-_-_-_-_-_-_-_-_-_-**"
   ]
  },
  {
   "cell_type": "markdown",
   "metadata": {},
   "source": [
    "## Create new directory"
   ]
  },
  {
   "cell_type": "code",
   "execution_count": 29,
   "metadata": {},
   "outputs": [
    {
     "name": "stdout",
     "output_type": "stream",
     "text": [
      "The folder '../../../Results_V2/Classif_RF/test_valid' already exists\n"
     ]
    }
   ],
   "source": [
    "# Check and create folder if needed\n",
    "check_create_dir(config_parameters['outputfolder_classifRF_valid'])"
   ]
  },
  {
   "cell_type": "markdown",
   "metadata": {},
   "source": [
    "# Collect training data"
   ]
  },
  {
   "cell_type": "markdown",
   "metadata": {},
   "source": [
    "## Create csv with list of validation point and their tile_id and seg_id "
   ]
  },
  {
   "cell_type": "code",
   "execution_count": 30,
   "metadata": {},
   "outputs": [
    {
     "data": {
      "text/plain": [
       "[\"Location 'WALOUS_31370' already exist\",\n",
       " \"'validation' mapset already exists in location 'WALOUS_31370'\",\n",
       " \"You are now working in mapset 'WALOUS_31370/validation'\"]"
      ]
     },
     "execution_count": 30,
     "metadata": {},
     "output_type": "execute_result"
    }
   ],
   "source": [
    "# Create mapset \n",
    "launch_mapset(\"validation\")"
   ]
  },
  {
   "cell_type": "code",
   "execution_count": 32,
   "metadata": {},
   "outputs": [
    {
     "data": {
      "text/plain": [
       "0"
      ]
     },
     "execution_count": 32,
     "metadata": {},
     "output_type": "execute_result"
    }
   ],
   "source": [
    "# Allow access to other mapsets\n",
    "gscript.run_command('g.mapsets', mapset='OBIA', operation='add')"
   ]
  },
  {
   "cell_type": "code",
   "execution_count": 33,
   "metadata": {},
   "outputs": [
    {
     "data": {
      "text/plain": [
       "0"
      ]
     },
     "execution_count": 33,
     "metadata": {},
     "output_type": "execute_result"
    }
   ],
   "source": [
    "# Import vector\n",
    "gscript.run_command('v.in.ogr', overwrite=True, input=data['validation_points'][1], \n",
    "                    layer=data['validation_points_gpkg_layer'][2],\n",
    "                    output=data['validation_points'][0])\n",
    "gscript.run_command('g.region', raster='segmentation')\n",
    "# Get only point within tile vector \n",
    "gscript.run_command('v.clip', overwrite=True, input=data['validation_points'][0], clip='tiles', \n",
    "                    output='%s_tmp'%data['validation_points'][0])\n",
    "gscript.run_command('g.rename', overwrite=True, vector='{layer}_tmp,{layer}'.format(layer=data['validation_points'][0]))"
   ]
  },
  {
   "cell_type": "code",
   "execution_count": 34,
   "metadata": {},
   "outputs": [
    {
     "data": {
      "text/plain": [
       "0"
      ]
     },
     "execution_count": 34,
     "metadata": {},
     "output_type": "execute_result"
    }
   ],
   "source": [
    "# Add seg_id in attribute table\n",
    "gscript.run_command('v.db.addcolumn', map=data['validation_points'][0], columns=\"seg_id integer\")\n",
    "gscript.run_command('v.what.rast', map=data['validation_points'][0], raster='segmentation', column='seg_id')"
   ]
  },
  {
   "cell_type": "code",
   "execution_count": 35,
   "metadata": {},
   "outputs": [
    {
     "data": {
      "text/plain": [
       "0"
      ]
     },
     "execution_count": 35,
     "metadata": {},
     "output_type": "execute_result"
    }
   ],
   "source": [
    "# Add Tile ID in attribute table\n",
    "gscript.run_command('v.db.addcolumn', map=data['validation_points'][0], columns=\"tile_id integer\")\n",
    "gscript.run_command('v.what.vect', map=data['validation_points'][0], column='tile_id', \n",
    "                    query_map=data['tiles'][0], query_column='cat')"
   ]
  },
  {
   "cell_type": "code",
   "execution_count": 36,
   "metadata": {},
   "outputs": [
    {
     "data": {
      "text/plain": [
       "0"
      ]
     },
     "execution_count": 36,
     "metadata": {},
     "output_type": "execute_result"
    }
   ],
   "source": [
    "# Export attribute table as .csv\n",
    "output_file = os.path.join(config_parameters['outputfolder_classifRF_valid'],'validation_points_with_segid.csv')\n",
    "gscript.run_command('v.db.select', overwrite=True, \n",
    "                    map=data['training_points'][0], separator='comma', file=output_file)"
   ]
  },
  {
   "cell_type": "markdown",
   "metadata": {},
   "source": [
    "## Get list of segment ID"
   ]
  },
  {
   "cell_type": "code",
   "execution_count": 159,
   "metadata": {},
   "outputs": [
    {
     "name": "stdout",
     "output_type": "stream",
     "text": [
      "2910 segments out of the 2914 initially available will be used for training.\n"
     ]
    }
   ],
   "source": [
    "# Read csv\n",
    "csvfile = os.path.join(config_parameters['outputfolder_classifRF_valid'],\"validation_points_with_segid.csv\")\n",
    "fin = open(csvfile)\n",
    "reader = csv.reader(fin)\n",
    "# Get list of seg_ID\n",
    "list_segid = []\n",
    "label_dic = {}\n",
    "reader.next()\n",
    "for row in reader:\n",
    "    tilegid = row[-1] # row[-1] for 'tilegid'\n",
    "    segid = row[-2] # row[-2] for 'seg_id'\n",
    "    label = row[-3]  # row[-3] for label 'label_2018'\n",
    "    if tilegid != \"\" and segid != \"\":\n",
    "        twokeyid = \"%s_%s\"%(segid,tilegid)\n",
    "        list_segid.append(twokeyid)   \n",
    "        label_dic[twokeyid] = label\n",
    "initial_count = len(list_segid)\n",
    "# Keep only value that appear once\n",
    "count = [list_segid.count(a) for a in list_segid]  # Get list of count for each value\n",
    "list_segid = [list_segid[i] for i,a in enumerate(count) if a == 1]   # Keep only where count = 1\n",
    "list_segid = [(x.split(\"_\")[0],x.split(\"_\")[1], label_dic[\"%s_%s\"%(x.split(\"_\")[0],x.split(\"_\")[1])]) for x in list_segid]\n",
    "unique_count = len(list_segid)\n",
    "\n",
    "# Create dictionnary with unique segments+tile ID\n",
    "validation_dic = {}\n",
    "segid_list, tileid_list, label_list = zip(*list_segid)\n",
    "for segid, tileid, label in zip(segid_list, tileid_list, label_list):\n",
    "    if tileid not in validation_dic:\n",
    "        validation_dic[tileid] = {}\n",
    "    validation_dic[tileid][segid] = [label,]\n",
    "    if \"\" in validation_dic[tileid]:\n",
    "        del validation_dic[tileid][\"\"]\n",
    "if \"\" in validation_dic:\n",
    "    del validation_dic[\"\"]\n",
    "    \n",
    "# Print\n",
    "print \"%s segments out of the %s initially available will be used for training.\"%(unique_count,initial_count)"
   ]
  },
  {
   "cell_type": "markdown",
   "metadata": {},
   "source": [
    "## Get list of csv file with predictions"
   ]
  },
  {
   "cell_type": "code",
   "execution_count": 163,
   "metadata": {},
   "outputs": [
    {
     "name": "stdout",
     "output_type": "stream",
     "text": [
      "375 .csv files with prediction in folder\n"
     ]
    }
   ],
   "source": [
    "# Get list of csv with classification feature of individual tiles\n",
    "import glob\n",
    "list_predict_csv = glob.glob(os.path.join(config_parameters['outputfolder_classifRF_csv'],\"RF_fusion_tile_*.csv\"))\n",
    "print \"%s .csv files with prediction in folder\"%len(list_predict_csv)"
   ]
  },
  {
   "cell_type": "code",
   "execution_count": 164,
   "metadata": {},
   "outputs": [
    {
     "data": {
      "text/plain": [
       "['../../../Results_V2/Classif_RF/classif_csv/RF_fusion_tile_2335.csv',\n",
       " '../../../Results_V2/Classif_RF/classif_csv/RF_fusion_tile_685.csv',\n",
       " '../../../Results_V2/Classif_RF/classif_csv/RF_fusion_tile_4691.csv',\n",
       " '../../../Results_V2/Classif_RF/classif_csv/RF_fusion_tile_6164.csv',\n",
       " '../../../Results_V2/Classif_RF/classif_csv/RF_fusion_tile_187.csv',\n",
       " '../../../Results_V2/Classif_RF/classif_csv/RF_fusion_tile_256.csv',\n",
       " '../../../Results_V2/Classif_RF/classif_csv/RF_fusion_tile_1181.csv',\n",
       " '../../../Results_V2/Classif_RF/classif_csv/RF_fusion_tile_5920.csv',\n",
       " '../../../Results_V2/Classif_RF/classif_csv/RF_fusion_tile_2401.csv',\n",
       " '../../../Results_V2/Classif_RF/classif_csv/RF_fusion_tile_1179.csv',\n",
       " '../../../Results_V2/Classif_RF/classif_csv/RF_fusion_tile_1208.csv',\n",
       " '../../../Results_V2/Classif_RF/classif_csv/RF_fusion_tile_2023.csv',\n",
       " '../../../Results_V2/Classif_RF/classif_csv/RF_fusion_tile_3510.csv',\n",
       " '../../../Results_V2/Classif_RF/classif_csv/RF_fusion_tile_711.csv',\n",
       " '../../../Results_V2/Classif_RF/classif_csv/RF_fusion_tile_184.csv',\n",
       " '../../../Results_V2/Classif_RF/classif_csv/RF_fusion_tile_4693.csv',\n",
       " '../../../Results_V2/Classif_RF/classif_csv/RF_fusion_tile_185.csv',\n",
       " '../../../Results_V2/Classif_RF/classif_csv/RF_fusion_tile_2399.csv',\n",
       " '../../../Results_V2/Classif_RF/classif_csv/RF_fusion_tile_1896.csv',\n",
       " '../../../Results_V2/Classif_RF/classif_csv/RF_fusion_tile_3544.csv',\n",
       " '../../../Results_V2/Classif_RF/classif_csv/RF_fusion_tile_5464.csv',\n",
       " '../../../Results_V2/Classif_RF/classif_csv/RF_fusion_tile_3385.csv',\n",
       " '../../../Results_V2/Classif_RF/classif_csv/RF_fusion_tile_425.csv',\n",
       " '../../../Results_V2/Classif_RF/classif_csv/RF_fusion_tile_3933.csv',\n",
       " '../../../Results_V2/Classif_RF/classif_csv/RF_fusion_tile_186.csv',\n",
       " '../../../Results_V2/Classif_RF/classif_csv/RF_fusion_tile_2523.csv',\n",
       " '../../../Results_V2/Classif_RF/classif_csv/RF_fusion_tile_3310.csv',\n",
       " '../../../Results_V2/Classif_RF/classif_csv/RF_fusion_tile_632.csv',\n",
       " '../../../Results_V2/Classif_RF/classif_csv/RF_fusion_tile_2482.csv',\n",
       " '../../../Results_V2/Classif_RF/classif_csv/RF_fusion_tile_3888.csv',\n",
       " '../../../Results_V2/Classif_RF/classif_csv/RF_fusion_tile_3303.csv',\n",
       " '../../../Results_V2/Classif_RF/classif_csv/RF_fusion_tile_5054.csv',\n",
       " '../../../Results_V2/Classif_RF/classif_csv/RF_fusion_tile_2485.csv',\n",
       " '../../../Results_V2/Classif_RF/classif_csv/RF_fusion_tile_1791.csv',\n",
       " '../../../Results_V2/Classif_RF/classif_csv/RF_fusion_tile_3288.csv',\n",
       " '../../../Results_V2/Classif_RF/classif_csv/RF_fusion_tile_5035.csv',\n",
       " '../../../Results_V2/Classif_RF/classif_csv/RF_fusion_tile_5063.csv',\n",
       " '../../../Results_V2/Classif_RF/classif_csv/RF_fusion_tile_2516.csv',\n",
       " '../../../Results_V2/Classif_RF/classif_csv/RF_fusion_tile_3719.csv',\n",
       " '../../../Results_V2/Classif_RF/classif_csv/RF_fusion_tile_5845.csv',\n",
       " '../../../Results_V2/Classif_RF/classif_csv/RF_fusion_tile_666.csv',\n",
       " '../../../Results_V2/Classif_RF/classif_csv/RF_fusion_tile_4810.csv',\n",
       " '../../../Results_V2/Classif_RF/classif_csv/RF_fusion_tile_3872.csv',\n",
       " '../../../Results_V2/Classif_RF/classif_csv/RF_fusion_tile_4325.csv',\n",
       " '../../../Results_V2/Classif_RF/classif_csv/RF_fusion_tile_1848.csv',\n",
       " '../../../Results_V2/Classif_RF/classif_csv/RF_fusion_tile_2043.csv',\n",
       " '../../../Results_V2/Classif_RF/classif_csv/RF_fusion_tile_277.csv',\n",
       " '../../../Results_V2/Classif_RF/classif_csv/RF_fusion_tile_608.csv',\n",
       " '../../../Results_V2/Classif_RF/classif_csv/RF_fusion_tile_2019.csv',\n",
       " '../../../Results_V2/Classif_RF/classif_csv/RF_fusion_tile_2042.csv',\n",
       " '../../../Results_V2/Classif_RF/classif_csv/RF_fusion_tile_5848.csv',\n",
       " '../../../Results_V2/Classif_RF/classif_csv/RF_fusion_tile_3308.csv',\n",
       " '../../../Results_V2/Classif_RF/classif_csv/RF_fusion_tile_3307.csv',\n",
       " '../../../Results_V2/Classif_RF/classif_csv/RF_fusion_tile_6040.csv',\n",
       " '../../../Results_V2/Classif_RF/classif_csv/RF_fusion_tile_5064.csv',\n",
       " '../../../Results_V2/Classif_RF/classif_csv/RF_fusion_tile_2039.csv',\n",
       " '../../../Results_V2/Classif_RF/classif_csv/RF_fusion_tile_4754.csv',\n",
       " '../../../Results_V2/Classif_RF/classif_csv/RF_fusion_tile_3840.csv',\n",
       " '../../../Results_V2/Classif_RF/classif_csv/RF_fusion_tile_5028.csv',\n",
       " '../../../Results_V2/Classif_RF/classif_csv/RF_fusion_tile_1790.csv',\n",
       " '../../../Results_V2/Classif_RF/classif_csv/RF_fusion_tile_2140.csv',\n",
       " '../../../Results_V2/Classif_RF/classif_csv/RF_fusion_tile_1893.csv',\n",
       " '../../../Results_V2/Classif_RF/classif_csv/RF_fusion_tile_3077.csv',\n",
       " '../../../Results_V2/Classif_RF/classif_csv/RF_fusion_tile_5101.csv',\n",
       " '../../../Results_V2/Classif_RF/classif_csv/RF_fusion_tile_1182.csv',\n",
       " '../../../Results_V2/Classif_RF/classif_csv/RF_fusion_tile_3967.csv',\n",
       " '../../../Results_V2/Classif_RF/classif_csv/RF_fusion_tile_5936.csv',\n",
       " '../../../Results_V2/Classif_RF/classif_csv/RF_fusion_tile_1914.csv',\n",
       " '../../../Results_V2/Classif_RF/classif_csv/RF_fusion_tile_5787.csv',\n",
       " '../../../Results_V2/Classif_RF/classif_csv/RF_fusion_tile_3724.csv',\n",
       " '../../../Results_V2/Classif_RF/classif_csv/RF_fusion_tile_2774.csv',\n",
       " '../../../Results_V2/Classif_RF/classif_csv/RF_fusion_tile_5359.csv',\n",
       " '../../../Results_V2/Classif_RF/classif_csv/RF_fusion_tile_1183.csv',\n",
       " '../../../Results_V2/Classif_RF/classif_csv/RF_fusion_tile_1895.csv',\n",
       " '../../../Results_V2/Classif_RF/classif_csv/RF_fusion_tile_5934.csv',\n",
       " '../../../Results_V2/Classif_RF/classif_csv/RF_fusion_tile_492.csv',\n",
       " '../../../Results_V2/Classif_RF/classif_csv/RF_fusion_tile_2522.csv',\n",
       " '../../../Results_V2/Classif_RF/classif_csv/RF_fusion_tile_2949.csv',\n",
       " '../../../Results_V2/Classif_RF/classif_csv/RF_fusion_tile_607.csv',\n",
       " '../../../Results_V2/Classif_RF/classif_csv/RF_fusion_tile_493.csv',\n",
       " '../../../Results_V2/Classif_RF/classif_csv/RF_fusion_tile_1069.csv',\n",
       " '../../../Results_V2/Classif_RF/classif_csv/RF_fusion_tile_3054.csv',\n",
       " '../../../Results_V2/Classif_RF/classif_csv/RF_fusion_tile_3048.csv',\n",
       " '../../../Results_V2/Classif_RF/classif_csv/RF_fusion_tile_4004.csv',\n",
       " '../../../Results_V2/Classif_RF/classif_csv/RF_fusion_tile_2770.csv',\n",
       " '../../../Results_V2/Classif_RF/classif_csv/RF_fusion_tile_6325.csv',\n",
       " '../../../Results_V2/Classif_RF/classif_csv/RF_fusion_tile_2486.csv',\n",
       " '../../../Results_V2/Classif_RF/classif_csv/RF_fusion_tile_6351.csv',\n",
       " '../../../Results_V2/Classif_RF/classif_csv/RF_fusion_tile_4003.csv',\n",
       " '../../../Results_V2/Classif_RF/classif_csv/RF_fusion_tile_5789.csv',\n",
       " '../../../Results_V2/Classif_RF/classif_csv/RF_fusion_tile_5818.csv',\n",
       " '../../../Results_V2/Classif_RF/classif_csv/RF_fusion_tile_5817.csv',\n",
       " '../../../Results_V2/Classif_RF/classif_csv/RF_fusion_tile_1252.csv',\n",
       " '../../../Results_V2/Classif_RF/classif_csv/RF_fusion_tile_3679.csv',\n",
       " '../../../Results_V2/Classif_RF/classif_csv/RF_fusion_tile_5851.csv',\n",
       " '../../../Results_V2/Classif_RF/classif_csv/RF_fusion_tile_3629.csv',\n",
       " '../../../Results_V2/Classif_RF/classif_csv/RF_fusion_tile_546.csv',\n",
       " '../../../Results_V2/Classif_RF/classif_csv/RF_fusion_tile_1876.csv',\n",
       " '../../../Results_V2/Classif_RF/classif_csv/RF_fusion_tile_2912.csv',\n",
       " '../../../Results_V2/Classif_RF/classif_csv/RF_fusion_tile_2396.csv',\n",
       " '../../../Results_V2/Classif_RF/classif_csv/RF_fusion_tile_5065.csv',\n",
       " '../../../Results_V2/Classif_RF/classif_csv/RF_fusion_tile_2538.csv',\n",
       " '../../../Results_V2/Classif_RF/classif_csv/RF_fusion_tile_3408.csv',\n",
       " '../../../Results_V2/Classif_RF/classif_csv/RF_fusion_tile_3838.csv',\n",
       " '../../../Results_V2/Classif_RF/classif_csv/RF_fusion_tile_3831.csv',\n",
       " '../../../Results_V2/Classif_RF/classif_csv/RF_fusion_tile_285.csv',\n",
       " '../../../Results_V2/Classif_RF/classif_csv/RF_fusion_tile_6327.csv',\n",
       " '../../../Results_V2/Classif_RF/classif_csv/RF_fusion_tile_3219.csv',\n",
       " '../../../Results_V2/Classif_RF/classif_csv/RF_fusion_tile_5843.csv',\n",
       " '../../../Results_V2/Classif_RF/classif_csv/RF_fusion_tile_2197.csv',\n",
       " '../../../Results_V2/Classif_RF/classif_csv/RF_fusion_tile_5797.csv',\n",
       " '../../../Results_V2/Classif_RF/classif_csv/RF_fusion_tile_5294.csv',\n",
       " '../../../Results_V2/Classif_RF/classif_csv/RF_fusion_tile_5050.csv',\n",
       " '../../../Results_V2/Classif_RF/classif_csv/RF_fusion_tile_1793.csv',\n",
       " '../../../Results_V2/Classif_RF/classif_csv/RF_fusion_tile_2772.csv',\n",
       " '../../../Results_V2/Classif_RF/classif_csv/RF_fusion_tile_2400.csv',\n",
       " '../../../Results_V2/Classif_RF/classif_csv/RF_fusion_tile_4146.csv',\n",
       " '../../../Results_V2/Classif_RF/classif_csv/RF_fusion_tile_2895.csv',\n",
       " '../../../Results_V2/Classif_RF/classif_csv/RF_fusion_tile_3305.csv',\n",
       " '../../../Results_V2/Classif_RF/classif_csv/RF_fusion_tile_2481.csv',\n",
       " '../../../Results_V2/Classif_RF/classif_csv/RF_fusion_tile_276.csv',\n",
       " '../../../Results_V2/Classif_RF/classif_csv/RF_fusion_tile_4813.csv',\n",
       " '../../../Results_V2/Classif_RF/classif_csv/RF_fusion_tile_2040.csv',\n",
       " '../../../Results_V2/Classif_RF/classif_csv/RF_fusion_tile_544.csv',\n",
       " '../../../Results_V2/Classif_RF/classif_csv/RF_fusion_tile_279.csv',\n",
       " '../../../Results_V2/Classif_RF/classif_csv/RF_fusion_tile_2771.csv',\n",
       " '../../../Results_V2/Classif_RF/classif_csv/RF_fusion_tile_1059.csv',\n",
       " '../../../Results_V2/Classif_RF/classif_csv/RF_fusion_tile_3406.csv',\n",
       " '../../../Results_V2/Classif_RF/classif_csv/RF_fusion_tile_5846.csv',\n",
       " '../../../Results_V2/Classif_RF/classif_csv/RF_fusion_tile_2664.csv',\n",
       " '../../../Results_V2/Classif_RF/classif_csv/RF_fusion_tile_2956.csv',\n",
       " '../../../Results_V2/Classif_RF/classif_csv/RF_fusion_tile_4110.csv',\n",
       " '../../../Results_V2/Classif_RF/classif_csv/RF_fusion_tile_5445.csv',\n",
       " '../../../Results_V2/Classif_RF/classif_csv/RF_fusion_tile_3409.csv',\n",
       " '../../../Results_V2/Classif_RF/classif_csv/RF_fusion_tile_3304.csv',\n",
       " '../../../Results_V2/Classif_RF/classif_csv/RF_fusion_tile_1846.csv',\n",
       " '../../../Results_V2/Classif_RF/classif_csv/RF_fusion_tile_2041.csv',\n",
       " '../../../Results_V2/Classif_RF/classif_csv/RF_fusion_tile_2484.csv',\n",
       " '../../../Results_V2/Classif_RF/classif_csv/RF_fusion_tile_2483.csv',\n",
       " '../../../Results_V2/Classif_RF/classif_csv/RF_fusion_tile_5792.csv',\n",
       " '../../../Results_V2/Classif_RF/classif_csv/RF_fusion_tile_178.csv',\n",
       " '../../../Results_V2/Classif_RF/classif_csv/RF_fusion_tile_2334.csv',\n",
       " '../../../Results_V2/Classif_RF/classif_csv/RF_fusion_tile_4099.csv',\n",
       " '../../../Results_V2/Classif_RF/classif_csv/RF_fusion_tile_6217.csv',\n",
       " '../../../Results_V2/Classif_RF/classif_csv/RF_fusion_tile_667.csv',\n",
       " '../../../Results_V2/Classif_RF/classif_csv/RF_fusion_tile_2494.csv',\n",
       " '../../../Results_V2/Classif_RF/classif_csv/RF_fusion_tile_4326.csv',\n",
       " '../../../Results_V2/Classif_RF/classif_csv/RF_fusion_tile_461.csv',\n",
       " '../../../Results_V2/Classif_RF/classif_csv/RF_fusion_tile_2154.csv',\n",
       " '../../../Results_V2/Classif_RF/classif_csv/RF_fusion_tile_305.csv',\n",
       " '../../../Results_V2/Classif_RF/classif_csv/RF_fusion_tile_3826.csv',\n",
       " '../../../Results_V2/Classif_RF/classif_csv/RF_fusion_tile_5847.csv',\n",
       " '../../../Results_V2/Classif_RF/classif_csv/RF_fusion_tile_4798.csv',\n",
       " '../../../Results_V2/Classif_RF/classif_csv/RF_fusion_tile_3292.csv',\n",
       " '../../../Results_V2/Classif_RF/classif_csv/RF_fusion_tile_4343.csv',\n",
       " '../../../Results_V2/Classif_RF/classif_csv/RF_fusion_tile_6326.csv',\n",
       " '../../../Results_V2/Classif_RF/classif_csv/RF_fusion_tile_5027.csv',\n",
       " '../../../Results_V2/Classif_RF/classif_csv/RF_fusion_tile_401.csv',\n",
       " '../../../Results_V2/Classif_RF/classif_csv/RF_fusion_tile_2025.csv',\n",
       " '../../../Results_V2/Classif_RF/classif_csv/RF_fusion_tile_2773.csv',\n",
       " '../../../Results_V2/Classif_RF/classif_csv/RF_fusion_tile_5830.csv',\n",
       " '../../../Results_V2/Classif_RF/classif_csv/RF_fusion_tile_2665.csv',\n",
       " '../../../Results_V2/Classif_RF/classif_csv/RF_fusion_tile_2153.csv',\n",
       " '../../../Results_V2/Classif_RF/classif_csv/RF_fusion_tile_288.csv',\n",
       " '../../../Results_V2/Classif_RF/classif_csv/RF_fusion_tile_499.csv',\n",
       " '../../../Results_V2/Classif_RF/classif_csv/RF_fusion_tile_3830.csv',\n",
       " '../../../Results_V2/Classif_RF/classif_csv/RF_fusion_tile_4993.csv',\n",
       " '../../../Results_V2/Classif_RF/classif_csv/RF_fusion_tile_4064.csv',\n",
       " '../../../Results_V2/Classif_RF/classif_csv/RF_fusion_tile_2495.csv',\n",
       " '../../../Results_V2/Classif_RF/classif_csv/RF_fusion_tile_2045.csv',\n",
       " '../../../Results_V2/Classif_RF/classif_csv/RF_fusion_tile_518.csv',\n",
       " '../../../Results_V2/Classif_RF/classif_csv/RF_fusion_tile_2543.csv',\n",
       " '../../../Results_V2/Classif_RF/classif_csv/RF_fusion_tile_5293.csv',\n",
       " '../../../Results_V2/Classif_RF/classif_csv/RF_fusion_tile_630.csv',\n",
       " '../../../Results_V2/Classif_RF/classif_csv/RF_fusion_tile_5361.csv',\n",
       " '../../../Results_V2/Classif_RF/classif_csv/RF_fusion_tile_631.csv',\n",
       " '../../../Results_V2/Classif_RF/classif_csv/RF_fusion_tile_4108.csv',\n",
       " '../../../Results_V2/Classif_RF/classif_csv/RF_fusion_tile_5763.csv',\n",
       " '../../../Results_V2/Classif_RF/classif_csv/RF_fusion_tile_4816.csv',\n",
       " '../../../Results_V2/Classif_RF/classif_csv/RF_fusion_tile_5796.csv',\n",
       " '../../../Results_V2/Classif_RF/classif_csv/RF_fusion_tile_1894.csv',\n",
       " '../../../Results_V2/Classif_RF/classif_csv/RF_fusion_tile_287.csv',\n",
       " '../../../Results_V2/Classif_RF/classif_csv/RF_fusion_tile_4086.csv',\n",
       " '../../../Results_V2/Classif_RF/classif_csv/RF_fusion_tile_3871.csv',\n",
       " '../../../Results_V2/Classif_RF/classif_csv/RF_fusion_tile_4811.csv',\n",
       " '../../../Results_V2/Classif_RF/classif_csv/RF_fusion_tile_4787.csv',\n",
       " '../../../Results_V2/Classif_RF/classif_csv/RF_fusion_tile_3728.csv',\n",
       " '../../../Results_V2/Classif_RF/classif_csv/RF_fusion_tile_5572.csv',\n",
       " '../../../Results_V2/Classif_RF/classif_csv/RF_fusion_tile_2021.csv',\n",
       " '../../../Results_V2/Classif_RF/classif_csv/RF_fusion_tile_3404.csv',\n",
       " '../../../Results_V2/Classif_RF/classif_csv/RF_fusion_tile_2527.csv',\n",
       " '../../../Results_V2/Classif_RF/classif_csv/RF_fusion_tile_4065.csv',\n",
       " '../../../Results_V2/Classif_RF/classif_csv/RF_fusion_tile_3966.csv',\n",
       " '../../../Results_V2/Classif_RF/classif_csv/RF_fusion_tile_3410.csv',\n",
       " '../../../Results_V2/Classif_RF/classif_csv/RF_fusion_tile_2138.csv',\n",
       " '../../../Results_V2/Classif_RF/classif_csv/RF_fusion_tile_3939.csv',\n",
       " '../../../Results_V2/Classif_RF/classif_csv/RF_fusion_tile_2147.csv',\n",
       " '../../../Results_V2/Classif_RF/classif_csv/RF_fusion_tile_2198.csv',\n",
       " '../../../Results_V2/Classif_RF/classif_csv/RF_fusion_tile_1840.csv',\n",
       " '../../../Results_V2/Classif_RF/classif_csv/RF_fusion_tile_259.csv',\n",
       " '../../../Results_V2/Classif_RF/classif_csv/RF_fusion_tile_2146.csv',\n",
       " '../../../Results_V2/Classif_RF/classif_csv/RF_fusion_tile_6229.csv',\n",
       " '../../../Results_V2/Classif_RF/classif_csv/RF_fusion_tile_4809.csv',\n",
       " '../../../Results_V2/Classif_RF/classif_csv/RF_fusion_tile_5036.csv',\n",
       " '../../../Results_V2/Classif_RF/classif_csv/RF_fusion_tile_2521.csv',\n",
       " '../../../Results_V2/Classif_RF/classif_csv/RF_fusion_tile_5082.csv',\n",
       " '../../../Results_V2/Classif_RF/classif_csv/RF_fusion_tile_2525.csv',\n",
       " '../../../Results_V2/Classif_RF/classif_csv/RF_fusion_tile_4157.csv',\n",
       " '../../../Results_V2/Classif_RF/classif_csv/RF_fusion_tile_2488.csv',\n",
       " '../../../Results_V2/Classif_RF/classif_csv/RF_fusion_tile_1892.csv',\n",
       " '../../../Results_V2/Classif_RF/classif_csv/RF_fusion_tile_4441.csv',\n",
       " '../../../Results_V2/Classif_RF/classif_csv/RF_fusion_tile_260.csv',\n",
       " '../../../Results_V2/Classif_RF/classif_csv/RF_fusion_tile_3098.csv',\n",
       " '../../../Results_V2/Classif_RF/classif_csv/RF_fusion_tile_4797.csv',\n",
       " '../../../Results_V2/Classif_RF/classif_csv/RF_fusion_tile_1207.csv',\n",
       " '../../../Results_V2/Classif_RF/classif_csv/RF_fusion_tile_5462.csv',\n",
       " '../../../Results_V2/Classif_RF/classif_csv/RF_fusion_tile_2542.csv',\n",
       " '../../../Results_V2/Classif_RF/classif_csv/RF_fusion_tile_2545.csv',\n",
       " '../../../Results_V2/Classif_RF/classif_csv/RF_fusion_tile_247.csv',\n",
       " '../../../Results_V2/Classif_RF/classif_csv/RF_fusion_tile_5062.csv',\n",
       " '../../../Results_V2/Classif_RF/classif_csv/RF_fusion_tile_255.csv',\n",
       " '../../../Results_V2/Classif_RF/classif_csv/RF_fusion_tile_402.csv',\n",
       " '../../../Results_V2/Classif_RF/classif_csv/RF_fusion_tile_5029.csv',\n",
       " '../../../Results_V2/Classif_RF/classif_csv/RF_fusion_tile_1216.csv',\n",
       " '../../../Results_V2/Classif_RF/classif_csv/RF_fusion_tile_4748.csv',\n",
       " '../../../Results_V2/Classif_RF/classif_csv/RF_fusion_tile_1842.csv',\n",
       " '../../../Results_V2/Classif_RF/classif_csv/RF_fusion_tile_437.csv',\n",
       " '../../../Results_V2/Classif_RF/classif_csv/RF_fusion_tile_5563.csv',\n",
       " '../../../Results_V2/Classif_RF/classif_csv/RF_fusion_tile_5648.csv',\n",
       " '../../../Results_V2/Classif_RF/classif_csv/RF_fusion_tile_2398.csv',\n",
       " '../../../Results_V2/Classif_RF/classif_csv/RF_fusion_tile_1205.csv',\n",
       " '../../../Results_V2/Classif_RF/classif_csv/RF_fusion_tile_426.csv',\n",
       " '../../../Results_V2/Classif_RF/classif_csv/RF_fusion_tile_2212.csv',\n",
       " '../../../Results_V2/Classif_RF/classif_csv/RF_fusion_tile_5761.csv',\n",
       " '../../../Results_V2/Classif_RF/classif_csv/RF_fusion_tile_4785.csv',\n",
       " '../../../Results_V2/Classif_RF/classif_csv/RF_fusion_tile_4407.csv',\n",
       " '../../../Results_V2/Classif_RF/classif_csv/RF_fusion_tile_4781.csv',\n",
       " '../../../Results_V2/Classif_RF/classif_csv/RF_fusion_tile_3079.csv',\n",
       " '../../../Results_V2/Classif_RF/classif_csv/RF_fusion_tile_462.csv',\n",
       " '../../../Results_V2/Classif_RF/classif_csv/RF_fusion_tile_1986.csv',\n",
       " '../../../Results_V2/Classif_RF/classif_csv/RF_fusion_tile_450.csv',\n",
       " '../../../Results_V2/Classif_RF/classif_csv/RF_fusion_tile_2520.csv',\n",
       " '../../../Results_V2/Classif_RF/classif_csv/RF_fusion_tile_3726.csv',\n",
       " '../../../Results_V2/Classif_RF/classif_csv/RF_fusion_tile_3283.csv',\n",
       " '../../../Results_V2/Classif_RF/classif_csv/RF_fusion_tile_1734.csv',\n",
       " '../../../Results_V2/Classif_RF/classif_csv/RF_fusion_tile_4704.csv',\n",
       " '../../../Results_V2/Classif_RF/classif_csv/RF_fusion_tile_2817.csv',\n",
       " '../../../Results_V2/Classif_RF/classif_csv/RF_fusion_tile_254.csv',\n",
       " '../../../Results_V2/Classif_RF/classif_csv/RF_fusion_tile_6231.csv',\n",
       " '../../../Results_V2/Classif_RF/classif_csv/RF_fusion_tile_1987.csv',\n",
       " '../../../Results_V2/Classif_RF/classif_csv/RF_fusion_tile_2017.csv',\n",
       " '../../../Results_V2/Classif_RF/classif_csv/RF_fusion_tile_1217.csv',\n",
       " '../../../Results_V2/Classif_RF/classif_csv/RF_fusion_tile_5352.csv',\n",
       " '../../../Results_V2/Classif_RF/classif_csv/RF_fusion_tile_3205.csv',\n",
       " '../../../Results_V2/Classif_RF/classif_csv/RF_fusion_tile_1843.csv',\n",
       " '../../../Results_V2/Classif_RF/classif_csv/RF_fusion_tile_5396.csv',\n",
       " '../../../Results_V2/Classif_RF/classif_csv/RF_fusion_tile_2517.csv',\n",
       " '../../../Results_V2/Classif_RF/classif_csv/RF_fusion_tile_282.csv',\n",
       " '../../../Results_V2/Classif_RF/classif_csv/RF_fusion_tile_2544.csv',\n",
       " '../../../Results_V2/Classif_RF/classif_csv/RF_fusion_tile_1982.csv',\n",
       " '../../../Results_V2/Classif_RF/classif_csv/RF_fusion_tile_2546.csv',\n",
       " '../../../Results_V2/Classif_RF/classif_csv/RF_fusion_tile_5511.csv',\n",
       " '../../../Results_V2/Classif_RF/classif_csv/RF_fusion_tile_1847.csv',\n",
       " '../../../Results_V2/Classif_RF/classif_csv/RF_fusion_tile_5662.csv',\n",
       " '../../../Results_V2/Classif_RF/classif_csv/RF_fusion_tile_5820.csv',\n",
       " '../../../Results_V2/Classif_RF/classif_csv/RF_fusion_tile_4019.csv',\n",
       " '../../../Results_V2/Classif_RF/classif_csv/RF_fusion_tile_817.csv',\n",
       " '../../../Results_V2/Classif_RF/classif_csv/RF_fusion_tile_2539.csv',\n",
       " '../../../Results_V2/Classif_RF/classif_csv/RF_fusion_tile_5788.csv',\n",
       " '../../../Results_V2/Classif_RF/classif_csv/RF_fusion_tile_258.csv',\n",
       " '../../../Results_V2/Classif_RF/classif_csv/RF_fusion_tile_4134.csv',\n",
       " '../../../Results_V2/Classif_RF/classif_csv/RF_fusion_tile_2518.csv',\n",
       " '../../../Results_V2/Classif_RF/classif_csv/RF_fusion_tile_177.csv',\n",
       " '../../../Results_V2/Classif_RF/classif_csv/RF_fusion_tile_1197.csv',\n",
       " '../../../Results_V2/Classif_RF/classif_csv/RF_fusion_tile_3839.csv',\n",
       " '../../../Results_V2/Classif_RF/classif_csv/RF_fusion_tile_1841.csv',\n",
       " '../../../Results_V2/Classif_RF/classif_csv/RF_fusion_tile_6297.csv',\n",
       " '../../../Results_V2/Classif_RF/classif_csv/RF_fusion_tile_1789.csv',\n",
       " '../../../Results_V2/Classif_RF/classif_csv/RF_fusion_tile_2524.csv',\n",
       " '../../../Results_V2/Classif_RF/classif_csv/RF_fusion_tile_5267.csv',\n",
       " '../../../Results_V2/Classif_RF/classif_csv/RF_fusion_tile_6333.csv',\n",
       " '../../../Results_V2/Classif_RF/classif_csv/RF_fusion_tile_2044.csv',\n",
       " '../../../Results_V2/Classif_RF/classif_csv/RF_fusion_tile_3384.csv',\n",
       " '../../../Results_V2/Classif_RF/classif_csv/RF_fusion_tile_6194.csv',\n",
       " '../../../Results_V2/Classif_RF/classif_csv/RF_fusion_tile_2028.csv',\n",
       " '../../../Results_V2/Classif_RF/classif_csv/RF_fusion_tile_5762.csv',\n",
       " '../../../Results_V2/Classif_RF/classif_csv/RF_fusion_tile_3727.csv',\n",
       " '../../../Results_V2/Classif_RF/classif_csv/RF_fusion_tile_6061.csv',\n",
       " '../../../Results_V2/Classif_RF/classif_csv/RF_fusion_tile_257.csv',\n",
       " '../../../Results_V2/Classif_RF/classif_csv/RF_fusion_tile_2666.csv',\n",
       " '../../../Results_V2/Classif_RF/classif_csv/RF_fusion_tile_2024.csv',\n",
       " '../../../Results_V2/Classif_RF/classif_csv/RF_fusion_tile_2213.csv',\n",
       " '../../../Results_V2/Classif_RF/classif_csv/RF_fusion_tile_3512.csv',\n",
       " '../../../Results_V2/Classif_RF/classif_csv/RF_fusion_tile_1839.csv',\n",
       " '../../../Results_V2/Classif_RF/classif_csv/RF_fusion_tile_3405.csv',\n",
       " '../../../Results_V2/Classif_RF/classif_csv/RF_fusion_tile_5491.csv',\n",
       " '../../../Results_V2/Classif_RF/classif_csv/RF_fusion_tile_629.csv',\n",
       " '../../../Results_V2/Classif_RF/classif_csv/RF_fusion_tile_2540.csv',\n",
       " '../../../Results_V2/Classif_RF/classif_csv/RF_fusion_tile_2526.csv',\n",
       " '../../../Results_V2/Classif_RF/classif_csv/RF_fusion_tile_655.csv',\n",
       " '../../../Results_V2/Classif_RF/classif_csv/RF_fusion_tile_5320.csv',\n",
       " '../../../Results_V2/Classif_RF/classif_csv/RF_fusion_tile_2480.csv',\n",
       " '../../../Results_V2/Classif_RF/classif_csv/RF_fusion_tile_1180.csv',\n",
       " '../../../Results_V2/Classif_RF/classif_csv/RF_fusion_tile_3407.csv',\n",
       " '../../../Results_V2/Classif_RF/classif_csv/RF_fusion_tile_2496.csv',\n",
       " '../../../Results_V2/Classif_RF/classif_csv/RF_fusion_tile_498.csv',\n",
       " '../../../Results_V2/Classif_RF/classif_csv/RF_fusion_tile_2211.csv',\n",
       " '../../../Results_V2/Classif_RF/classif_csv/RF_fusion_tile_5929.csv',\n",
       " '../../../Results_V2/Classif_RF/classif_csv/RF_fusion_tile_3287.csv',\n",
       " '../../../Results_V2/Classif_RF/classif_csv/RF_fusion_tile_3932.csv',\n",
       " '../../../Results_V2/Classif_RF/classif_csv/RF_fusion_tile_1253.csv',\n",
       " '../../../Results_V2/Classif_RF/classif_csv/RF_fusion_tile_5398.csv',\n",
       " '../../../Results_V2/Classif_RF/classif_csv/RF_fusion_tile_1897.csv',\n",
       " '../../../Results_V2/Classif_RF/classif_csv/RF_fusion_tile_3630.csv',\n",
       " '../../../Results_V2/Classif_RF/classif_csv/RF_fusion_tile_4692.csv',\n",
       " '../../../Results_V2/Classif_RF/classif_csv/RF_fusion_tile_5758.csv',\n",
       " '../../../Results_V2/Classif_RF/classif_csv/RF_fusion_tile_1178.csv',\n",
       " '../../../Results_V2/Classif_RF/classif_csv/RF_fusion_tile_6357.csv',\n",
       " '../../../Results_V2/Classif_RF/classif_csv/RF_fusion_tile_2020.csv',\n",
       " '../../../Results_V2/Classif_RF/classif_csv/RF_fusion_tile_414.csv',\n",
       " '../../../Results_V2/Classif_RF/classif_csv/RF_fusion_tile_680.csv',\n",
       " '../../../Results_V2/Classif_RF/classif_csv/RF_fusion_tile_1844.csv',\n",
       " '../../../Results_V2/Classif_RF/classif_csv/RF_fusion_tile_1158.csv',\n",
       " '../../../Results_V2/Classif_RF/classif_csv/RF_fusion_tile_3309.csv',\n",
       " '../../../Results_V2/Classif_RF/classif_csv/RF_fusion_tile_572.csv',\n",
       " '../../../Results_V2/Classif_RF/classif_csv/RF_fusion_tile_1068.csv',\n",
       " '../../../Results_V2/Classif_RF/classif_csv/RF_fusion_tile_3723.csv',\n",
       " '../../../Results_V2/Classif_RF/classif_csv/RF_fusion_tile_5931.csv',\n",
       " '../../../Results_V2/Classif_RF/classif_csv/RF_fusion_tile_5921.csv',\n",
       " '../../../Results_V2/Classif_RF/classif_csv/RF_fusion_tile_2139.csv',\n",
       " '../../../Results_V2/Classif_RF/classif_csv/RF_fusion_tile_5849.csv',\n",
       " '../../../Results_V2/Classif_RF/classif_csv/RF_fusion_tile_5844.csv',\n",
       " '../../../Results_V2/Classif_RF/classif_csv/RF_fusion_tile_4755.csv',\n",
       " '../../../Results_V2/Classif_RF/classif_csv/RF_fusion_tile_3306.csv',\n",
       " '../../../Results_V2/Classif_RF/classif_csv/RF_fusion_tile_4344.csv',\n",
       " '../../../Results_V2/Classif_RF/classif_csv/RF_fusion_tile_5663.csv',\n",
       " '../../../Results_V2/Classif_RF/classif_csv/RF_fusion_tile_2820.csv',\n",
       " '../../../Results_V2/Classif_RF/classif_csv/RF_fusion_tile_2219.csv',\n",
       " '../../../Results_V2/Classif_RF/classif_csv/RF_fusion_tile_4814.csv',\n",
       " '../../../Results_V2/Classif_RF/classif_csv/RF_fusion_tile_3721.csv',\n",
       " '../../../Results_V2/Classif_RF/classif_csv/RF_fusion_tile_1792.csv',\n",
       " '../../../Results_V2/Classif_RF/classif_csv/RF_fusion_tile_5935.csv',\n",
       " '../../../Results_V2/Classif_RF/classif_csv/RF_fusion_tile_1128.csv',\n",
       " '../../../Results_V2/Classif_RF/classif_csv/RF_fusion_tile_4109.csv',\n",
       " '../../../Results_V2/Classif_RF/classif_csv/RF_fusion_tile_2022.csv',\n",
       " '../../../Results_V2/Classif_RF/classif_csv/RF_fusion_tile_1157.csv',\n",
       " '../../../Results_V2/Classif_RF/classif_csv/RF_fusion_tile_5930.csv',\n",
       " '../../../Results_V2/Classif_RF/classif_csv/RF_fusion_tile_545.csv',\n",
       " '../../../Results_V2/Classif_RF/classif_csv/RF_fusion_tile_5360.csv',\n",
       " '../../../Results_V2/Classif_RF/classif_csv/RF_fusion_tile_2821.csv',\n",
       " '../../../Results_V2/Classif_RF/classif_csv/RF_fusion_tile_3825.csv',\n",
       " '../../../Results_V2/Classif_RF/classif_csv/RF_fusion_tile_2541.csv',\n",
       " '../../../Results_V2/Classif_RF/classif_csv/RF_fusion_tile_5337.csv',\n",
       " '../../../Results_V2/Classif_RF/classif_csv/RF_fusion_tile_2487.csv',\n",
       " '../../../Results_V2/Classif_RF/classif_csv/RF_fusion_tile_4708.csv',\n",
       " '../../../Results_V2/Classif_RF/classif_csv/RF_fusion_tile_4149.csv',\n",
       " '../../../Results_V2/Classif_RF/classif_csv/RF_fusion_tile_5350.csv',\n",
       " '../../../Results_V2/Classif_RF/classif_csv/RF_fusion_tile_2141.csv',\n",
       " '../../../Results_V2/Classif_RF/classif_csv/RF_fusion_tile_656.csv',\n",
       " '../../../Results_V2/Classif_RF/classif_csv/RF_fusion_tile_1177.csv',\n",
       " '../../../Results_V2/Classif_RF/classif_csv/RF_fusion_tile_281.csv',\n",
       " '../../../Results_V2/Classif_RF/classif_csv/RF_fusion_tile_278.csv',\n",
       " '../../../Results_V2/Classif_RF/classif_csv/RF_fusion_tile_5351.csv',\n",
       " '../../../Results_V2/Classif_RF/classif_csv/RF_fusion_tile_2214.csv',\n",
       " '../../../Results_V2/Classif_RF/classif_csv/RF_fusion_tile_4324.csv',\n",
       " '../../../Results_V2/Classif_RF/classif_csv/RF_fusion_tile_2397.csv',\n",
       " '../../../Results_V2/Classif_RF/classif_csv/RF_fusion_tile_2018.csv',\n",
       " '../../../Results_V2/Classif_RF/classif_csv/RF_fusion_tile_2016.csv',\n",
       " '../../../Results_V2/Classif_RF/classif_csv/RF_fusion_tile_6192.csv',\n",
       " '../../../Results_V2/Classif_RF/classif_csv/RF_fusion_tile_4808.csv',\n",
       " '../../../Results_V2/Classif_RF/classif_csv/RF_fusion_tile_1875.csv',\n",
       " '../../../Results_V2/Classif_RF/classif_csv/RF_fusion_tile_4147.csv',\n",
       " '../../../Results_V2/Classif_RF/classif_csv/RF_fusion_tile_4085.csv',\n",
       " '../../../Results_V2/Classif_RF/classif_csv/RF_fusion_tile_413.csv',\n",
       " '../../../Results_V2/Classif_RF/classif_csv/RF_fusion_tile_5066.csv']"
      ]
     },
     "execution_count": 164,
     "metadata": {},
     "output_type": "execute_result"
    }
   ],
   "source": [
    "list_predict_csv"
   ]
  },
  {
   "cell_type": "markdown",
   "metadata": {},
   "source": [
    "## Get csv file with tile_id, seg_ig, validation_label and prediction"
   ]
  },
  {
   "cell_type": "code",
   "execution_count": 165,
   "metadata": {
    "collapsed": true
   },
   "outputs": [],
   "source": [
    "# Define path to training file\n",
    "validationfile = os.path.join(config_parameters['outputfolder_classifRF_valid'],\"validation_samples.csv\")"
   ]
  },
  {
   "cell_type": "code",
   "execution_count": 166,
   "metadata": {
    "scrolled": true
   },
   "outputs": [
    {
     "name": "stdout",
     "output_type": "stream",
     "text": [
      "Process finished\n"
     ]
    }
   ],
   "source": [
    "import os,sys\n",
    "import copy\n",
    "overwrite=True\n",
    "outputcsv = validationfile\n",
    "# Check\n",
    "if os.path.isfile(outputcsv) and overwrite==False:\n",
    "    print \"File '\"+str(outputcsv)+\"' aleady exists and overwrite option is not enabled.\"\n",
    "    sys.exit()\n",
    "else:\n",
    "    if os.path.isfile(outputcsv) and overwrite==True:\n",
    "        open(outputcsv,\"r\").close()\n",
    "        os.remove(outputcsv)\n",
    "\n",
    "# Initialization\n",
    "available_csv = [os.path.split(a)[1].split(\".csv\")[0].split(\"_\")[-1] for a in list_predict_csv]\n",
    "remaining_dic = copy.deepcopy(validation_dic)\n",
    "select_dic = {}\n",
    "counter=0  #To count how many items will be find\n",
    "fout = open(outputcsv,\"a\")  #Output csv\n",
    "writer = csv.writer(fout)   #Writer for output\n",
    "header = ['cat','tile_id','seg_id','validation_label','prediction_label']\n",
    "writer.writerow(header)\n",
    "# Start looking in list of .csv files\n",
    "for tileid in validation_dic:\n",
    "    if tileid in available_csv:\n",
    "        classifcsv = os.path.join(config_parameters['outputfolder_classifRF_csv'],\"RF_fusion_tile_%s.csv\"%tileid)\n",
    "        fin = open(classifcsv,\"r\")\n",
    "        reader = csv.reader(fin)\n",
    "        reader.next()\n",
    "        for line in reader:\n",
    "            if len(remaining_dic[tileid])==0: #If no remaining segid to look for in this tile\n",
    "                break\n",
    "            current_segid=line[0]\n",
    "            if current_segid in validation_dic[tileid]:\n",
    "                valid_label = line[1]\n",
    "                counter+=1\n",
    "                validation_dic[tileid][current_segid].append(valid_label) #Append the value of the prediction \n",
    "                newrow = []\n",
    "                newrow.append(counter)  # Add 'cat'\n",
    "                newrow.append(tileid)  # Add 'tile_id'\n",
    "                newrow.append(current_segid)  # Add 'seg_id'\n",
    "                newrow.append(valid_label)  # Add 'validation_label'                \n",
    "                newrow.append(validation_dic[tileid][current_segid][0])  # Add 'prediction_label'\n",
    "                writer.writerow(newrow)\n",
    "                del remaining_dic[tileid][current_segid]\n",
    "                if valid_label not in select_dic:\n",
    "                    select_dic[valid_label] = []\n",
    "                select_dic[valid_label].append(1)\n",
    "fout.close()\n",
    "count_remain = len([remaining_dic[subdic][key] for subdic in remaining_dic for key in remaining_dic[subdic]])\n",
    "if counter==0:\n",
    "    print \"ERROR: Nothing found\"\n",
    "    os.remove(outputcsv)\n",
    "    sys.exit()\n",
    "if count_remain>0:  #If the research goes through all the .csv files in the list but still remain unfind items\n",
    "    print \"WARNING: %s item(s) not found.\"%count_remain\n",
    "print \"Process finished\""
   ]
  },
  {
   "cell_type": "markdown",
   "metadata": {},
   "source": [
    "## Count of point in each class"
   ]
  },
  {
   "cell_type": "code",
   "execution_count": 167,
   "metadata": {},
   "outputs": [
    {
     "name": "stdout",
     "output_type": "stream",
     "text": [
      "Number of samples per class \n",
      "\n",
      "\n",
      "Class '11'        315 samples\n",
      "Class '12'        130 samples\n",
      "Class '42'        664 samples\n",
      "Class '62'        55 samples\n",
      "Class '41'        341 samples\n",
      "Class '61'        25 samples\n",
      "Class '3'        347 samples\n",
      "Class '2'        108 samples\n",
      "Class '5'        925 samples\n"
     ]
    }
   ],
   "source": [
    "print \"Number of samples per class \\n\\n\"\n",
    "for label in select_dic:\n",
    "    print \"Class '%s'        %s samples\"%(label,sum(select_dic[label]))"
   ]
  },
  {
   "cell_type": "markdown",
   "metadata": {},
   "source": [
    "## Compute confusion matrix and plot it"
   ]
  },
  {
   "cell_type": "code",
   "execution_count": 193,
   "metadata": {
    "collapsed": true
   },
   "outputs": [],
   "source": [
    "## Import libraries\n",
    "import matplotlib.pyplot as plt\n",
    "from sklearn.metrics import confusion_matrix\n",
    "import itertools\n",
    "import numpy as np\n",
    "%matplotlib inline"
   ]
  },
  {
   "cell_type": "code",
   "execution_count": 194,
   "metadata": {
    "collapsed": true
   },
   "outputs": [],
   "source": [
    "def plot_confusion_matrix(cm, classes,\n",
    "                          normalize=False,\n",
    "                          title='Confusion matrix',\n",
    "                          cmap=plt.cm.Blues):\n",
    "    \"\"\"\n",
    "    This function prints and plots the confusion matrix.\n",
    "    Normalization can be applied by setting `normalize=True`.\n",
    "    \"\"\"\n",
    "    plt.imshow(cm, interpolation='nearest', cmap=cmap)\n",
    "    plt.title(title)\n",
    "    plt.colorbar()\n",
    "    tick_marks = np.arange(len(classes))\n",
    "    plt.xticks(tick_marks, classes, ha='right', rotation=45)\n",
    "    plt.yticks(tick_marks, classes)\n",
    "\n",
    "    if normalize:\n",
    "        cm = cm.astype('float') / cm.sum(axis=1)[:, np.newaxis]\n",
    "        print(\"Normalized confusion matrix\")\n",
    "    else:\n",
    "        print('Confusion matrix, without normalization')\n",
    "\n",
    "    #print(cm)\n",
    "\n",
    "    thresh = cm.max() / 2.\n",
    "    for i, j in itertools.product(range(cm.shape[0]), range(cm.shape[1])):\n",
    "        if normalize:\n",
    "            plt.text(j, i, round(cm[i, j],2),\n",
    "            horizontalalignment=\"center\",\n",
    "            color=\"white\" if cm[i, j] > thresh else \"black\")\n",
    "        else:\n",
    "            plt.text(j, i, cm[i, j],\n",
    "            horizontalalignment=\"center\",\n",
    "            color=\"white\" if cm[i, j] > thresh else \"black\")\n",
    "\n",
    "    plt.tight_layout()\n",
    "    plt.ylabel('True label')\n",
    "    plt.xlabel('Predicted label')"
   ]
  },
  {
   "cell_type": "code",
   "execution_count": 197,
   "metadata": {
    "collapsed": true
   },
   "outputs": [],
   "source": [
    "# Get a list with validation label and a list with prediction label\n",
    "valid_list, predict_list = zip(*[(validation_dic[tile][segid][0], validation_dic[tile][segid][1]) \n",
    "                                 for tile in validation_dic.keys() \n",
    "                                 for segid in validation_dic[tile].keys()])"
   ]
  },
  {
   "cell_type": "code",
   "execution_count": 198,
   "metadata": {},
   "outputs": [
    {
     "data": {
      "text/plain": [
       "27"
      ]
     },
     "execution_count": 198,
     "metadata": {},
     "output_type": "execute_result"
    }
   ],
   "source": [
    "# Number of misclassification\n",
    "len([a for i,a in enumerate(valid_list) if a <> predict_list[i]])"
   ]
  },
  {
   "cell_type": "code",
   "execution_count": 199,
   "metadata": {
    "collapsed": true
   },
   "outputs": [],
   "source": [
    "# Compute confusion matrix\n",
    "cnf_matrix=confusion_matrix(valid_list, predict_list)"
   ]
  },
  {
   "cell_type": "code",
   "execution_count": 200,
   "metadata": {
    "collapsed": true
   },
   "outputs": [],
   "source": [
    "## Set the path to the output\n",
    "output_rowconfmat=os.path.join(config_parameters['outputfolder_classifRF_valid'],\"rowconfusionmatrix.txt\")\n",
    "## Export the row confusion matrix\n",
    "np.savetxt(output_rowconfmat, cnf_matrix.astype(np.int), fmt='%d', delimiter=\",\")"
   ]
  },
  {
   "cell_type": "code",
   "execution_count": 204,
   "metadata": {
    "collapsed": true
   },
   "outputs": [],
   "source": [
    "# List of \n",
    "classes = ['Sol nu','Terre arable','Herbage','Articialise (sol)','Artificialise (contruction haute)','Conifere','Feuillus','Eau (cours)','Eau (plan)']"
   ]
  },
  {
   "cell_type": "code",
   "execution_count": 205,
   "metadata": {},
   "outputs": [
    {
     "name": "stdout",
     "output_type": "stream",
     "text": [
      "Confusion matrix, without normalization\n",
      "Normalized confusion matrix\n"
     ]
    },
    {
     "data": {
      "image/png": "[encoded data removed]",
      "text/plain": [
       "<Figure size 1080x720 with 2 Axes>"
      ]
     },
     "metadata": {},
     "output_type": "display_data"
    },
    {
     "data": {
      "image/png": "[encoded data removed]",
      "text/plain": [
       "<Figure size 1080x720 with 2 Axes>"
      ]
     },
     "metadata": {},
     "output_type": "display_data"
    }
   ],
   "source": [
    "# Plot non-normalized confusion matrix\n",
    "fig_cm=plt.figure(figsize=(15,10))\n",
    "plot_confusion_matrix(cnf_matrix, classes=classes,\n",
    "                      title='Confusion matrix, without normalization')\n",
    "# Plot normalized confusion matrix\n",
    "fig_cm_normal=plt.figure(figsize=(15,10))\n",
    "plot_confusion_matrix(cnf_matrix, classes=classes, normalize=True,\n",
    "                      title='Normalized confusion matrix')\n",
    "\n",
    "plt.show()"
   ]
  },
  {
   "cell_type": "code",
   "execution_count": 209,
   "metadata": {
    "collapsed": true
   },
   "outputs": [],
   "source": [
    "## Set the path to the output\n",
    "output_confmat_pdf=os.path.join(config_parameters['outputfolder_classifRF_valid'],\"confusionmatrix.pdf\")\n",
    "output_confmatA_png=os.path.join(config_parameters['outputfolder_classifRF_valid'],\"confusionmatrixA.png\")\n",
    "output_confmatB_png=os.path.join(config_parameters['outputfolder_classifRF_valid'],\"confusionmatrixB.png\")"
   ]
  },
  {
   "cell_type": "code",
   "execution_count": 210,
   "metadata": {
    "collapsed": true
   },
   "outputs": [],
   "source": [
    "# Export in PDF\n",
    "from matplotlib.backends.backend_pdf import PdfPages\n",
    "pp=PdfPages(output_confmat_pdf)\n",
    "pp.savefig(fig_cm)\n",
    "pp.savefig(fig_cm_normal)\n",
    "pp.close()\n",
    "\n",
    "# Export in PNG\n",
    "fig_cm.savefig(output_confmatA_png, format='png', dpi=300)\n",
    "fig_cm_normal.savefig(output_confmatB_png, format='png', dpi=300)"
   ]
  },
  {
   "cell_type": "markdown",
   "metadata": {},
   "source": [
    "## Compute validation report"
   ]
  },
  {
   "cell_type": "code",
   "execution_count": 211,
   "metadata": {
    "collapsed": true
   },
   "outputs": [],
   "source": [
    "## Import libraries\n",
    "from sklearn.metrics import accuracy_score\n",
    "from sklearn.metrics import cohen_kappa_score\n",
    "from sklearn.metrics import classification_report\n",
    "\n",
    "from sklearn.metrics import f1_score"
   ]
  },
  {
   "cell_type": "code",
   "execution_count": 212,
   "metadata": {
    "collapsed": true
   },
   "outputs": [],
   "source": [
    "## Set the path to the output\n",
    "output=os.path.join(config_parameters['outputfolder_classifRF_valid'],\"RF_classif_repport.txt\")"
   ]
  },
  {
   "cell_type": "code",
   "execution_count": 214,
   "metadata": {},
   "outputs": [
    {
     "name": "stdout",
     "output_type": "stream",
     "text": [
      "Performance evalutation: \n",
      "Overall Accuracy: 0.9907216494845361\n",
      "Cohen's Kappa: 0.9884607097963243\n",
      "F1-score: 0.9906983383479401\n",
      "\n",
      "\n",
      "Classification report: \n",
      "                                    precision    recall  f1-score   support\n",
      "\n",
      "                           Sol nu       1.00      1.00      1.00       316\n",
      "                     Terre arable       0.99      1.00      1.00       129\n",
      "                          Herbage       1.00      0.97      0.99       111\n",
      "                Articialise (sol)       0.99      0.96      0.97       355\n",
      "Artificialise (contruction haute)       0.99      0.99      0.99       339\n",
      "                         Conifere       1.00      1.00      1.00       663\n",
      "                         Feuillus       0.98      0.99      0.99       917\n",
      "                      Eau (cours)       1.00      1.00      1.00        25\n",
      "                       Eau (plan)       1.00      1.00      1.00        55\n",
      "\n",
      "                      avg / total       0.99      0.99      0.99      2910\n",
      "\n"
     ]
    }
   ],
   "source": [
    "# Define dataset to take into account\n",
    "y_true=valid_list\n",
    "y_pred=predict_list\n",
    "class_label=classes\n",
    "\n",
    "# Compute precision accuracy\n",
    "accuracy=accuracy_score(y_true, y_pred, normalize=True)\n",
    "# Compute Cohen's Kappa\n",
    "cohen_kappa=cohen_kappa_score(y_true, y_pred)\n",
    "# Compute f1-score\n",
    "f_1=f1_score(y_true, y_pred, average='weighted')\n",
    "# Compute 'classification report'\n",
    "classif_report=classification_report(y_true, y_pred, target_names=class_label)\n",
    "\n",
    "# Save as .txt file\n",
    "f=open(output, 'w')\n",
    "f.write(\"Performance evalutation: \\n\")\n",
    "f.write(\"Overall Accuracy: \"+str(accuracy)+\"\\n\")\n",
    "f.write(\"Cohen's Kappa: \"+str(cohen_kappa)+\"\\n\")\n",
    "f.write(\"F1-score: \"+str(f_1)+\"\\n\")\n",
    "f.write(\"\\n\\n\")\n",
    "f.write(\"Classification report: \\n \"+classif_report)\n",
    "f.close()\n",
    "\n",
    "# Show file content\n",
    "f=open(output,'r')\n",
    "file_contents=f.read()\n",
    "print (file_contents)\n",
    "f.close()"
   ]
  },
  {
   "cell_type": "code",
   "execution_count": null,
   "metadata": {
    "collapsed": true
   },
   "outputs": [],
   "source": []
  }
 ],
 "metadata": {
  "kernelspec": {
   "display_name": "Python 2",
   "language": "python",
   "name": "python2"
  },
  "language_info": {
   "codemirror_mode": {
    "name": "ipython",
    "version": 2
   },
   "file_extension": ".py",
   "mimetype": "text/x-python",
   "name": "python",
   "nbconvert_exporter": "python",
   "pygments_lexer": "ipython2",
   "version": "2.7.12"
  }
 },
 "nbformat": 4,
 "nbformat_minor": 2
}
