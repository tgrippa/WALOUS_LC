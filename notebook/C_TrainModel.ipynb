{
 "cells": [
  {
   "cell_type": "markdown",
   "metadata": {},
   "source": [
    "<p><strong><font size=\"6\">WALOUS</font></strong></p>"
   ]
  },
  {
   "cell_type": "markdown",
   "metadata": {},
   "source": [
    "<p><strong><font size=\"6\">Fusion LC classifications results</font></strong></p>"
   ]
  },
  {
   "cell_type": "markdown",
   "metadata": {},
   "source": [
    "<p><strong><font size=\"6\">Train machine learning model</font></strong></p>"
   ]
  },
  {
   "cell_type": "markdown",
   "metadata": {},
   "source": [
    "This python code implement the method developed by ANAGEO (ULB). \n",
    "\n",
    "Code developped on Linux Mint 18.1 (Ubuntu Xenial 16.04) and GRASS GIS 7.3.svn (r71315)."
   ]
  },
  {
   "cell_type": "markdown",
   "metadata": {},
   "source": [
    "# Table of Contents"
   ]
  },
  {
   "cell_type": "markdown",
   "metadata": {},
   "source": [
    "<div id=\"toc\"></div>"
   ]
  },
  {
   "cell_type": "markdown",
   "metadata": {},
   "source": [
    "The following cell is a Javascript section of code for building the Jupyter notebook's table of content."
   ]
  },
  {
   "cell_type": "code",
   "execution_count": 1,
   "metadata": {},
   "outputs": [
    {
     "data": {
      "application/javascript": [
       "$.getScript('https://kmahelona.github.io/ipython_notebook_goodies/ipython_notebook_toc.js')"
      ],
      "text/plain": [
       "<IPython.core.display.Javascript object>"
      ]
     },
     "metadata": {},
     "output_type": "display_data"
    }
   ],
   "source": [
    "%%javascript\n",
    "$.getScript('https://kmahelona.github.io/ipython_notebook_goodies/ipython_notebook_toc.js')"
   ]
  },
  {
   "cell_type": "markdown",
   "metadata": {},
   "source": [
    "# Define working environment"
   ]
  },
  {
   "cell_type": "markdown",
   "metadata": {},
   "source": [
    "**Import libraries**"
   ]
  },
  {
   "cell_type": "code",
   "execution_count": 2,
   "metadata": {
    "collapsed": true
   },
   "outputs": [],
   "source": [
    "# Import libraries needed for setting parameters of operating system \n",
    "import os\n",
    "import sys\n",
    "import csv\n",
    "import tempfile"
   ]
  },
  {
   "cell_type": "markdown",
   "metadata": {},
   "source": [
    "** Add folder with SCR provided belong to this notebook**"
   ]
  },
  {
   "cell_type": "code",
   "execution_count": 3,
   "metadata": {
    "collapsed": true
   },
   "outputs": [],
   "source": [
    "# Add local module to the path\n",
    "src = os.path.abspath('../SRC')\n",
    "if src not in sys.path:\n",
    "    sys.path.append(src)"
   ]
  },
  {
   "cell_type": "markdown",
   "metadata": {},
   "source": [
    "** Setup environment variables for TAIS DESKTOP (Linux Mint + GRASS Dev) **"
   ]
  },
  {
   "cell_type": "markdown",
   "metadata": {},
   "source": [
    "Please edit the file in `../SRC/config.py`, containing the configuration parameters, according to your own computer setup. The following cell is used to run this file.\n",
    "\n"
   ]
  },
  {
   "cell_type": "code",
   "execution_count": 4,
   "metadata": {
    "collapsed": true,
    "scrolled": true
   },
   "outputs": [],
   "source": [
    "run ../SRC/config.py"
   ]
  },
  {
   "cell_type": "code",
   "execution_count": 5,
   "metadata": {
    "scrolled": true
   },
   "outputs": [
    {
     "name": "stdout",
     "output_type": "stream",
     "text": [
      "{'outputfolder_classifRF_tiles': '../../../Results/Classif_RF/classif_tiles', 'outputfolder_classifRF': '../../../Results/Classif_RF', 'outputfolder_Logfile': '../../../Results/Log_file', 'permanent_mapset': 'PERMANENT', 'outputfolder_training_sample': '../../../Results/Training_sample', 'locationepsg': '31370', 'outputfolder': '../../../Results', 'list_tiles': '../../../Results/list_tiles', 'pixel_classes_list': '../../../Results/pixel_classes_list', 'outputfolder_classifRF_csv': '../../../Results/Classif_RF/classif_csv', 'gisdb': '../../GRASSDATA', 'location': 'WALOUS_31370', 'outputfolder_classfeatures': '../../../Results/Classification_features', 'PYTHONLIB': '/usr/lib/python2.7', 'njobs': 6, 'rf_trained_model': '../../../Results/Classif_RF/rf_trained_model.rda', 'GISBASE': '/usr/lib/grass76'}\n"
     ]
    }
   ],
   "source": [
    "print config_parameters"
   ]
  },
  {
   "cell_type": "markdown",
   "metadata": {},
   "source": [
    "## Special functions"
   ]
  },
  {
   "cell_type": "code",
   "execution_count": 6,
   "metadata": {
    "collapsed": true
   },
   "outputs": [],
   "source": [
    "# Import function that check and create folder\n",
    "from mkdir import check_create_dir"
   ]
  },
  {
   "cell_type": "code",
   "execution_count": 7,
   "metadata": {
    "collapsed": true
   },
   "outputs": [],
   "source": [
    "def CheckNumColCsv(fileList):\n",
    "    import sys,os,csv\n",
    "    error = False\n",
    "    if len(fileList)<=1:\n",
    "        sys.exit(\"This function require at least two .csv files.\")\n",
    "    # first file header\n",
    "    filename = fileList[0]\n",
    "    tile_num = os.path.splitext(os.path.basename(filename))[0].split(\"_\")[-1]\n",
    "    f=open(filename)\n",
    "    reader = csv.reader(f)\n",
    "    count_firstfile = len(reader.next())\n",
    "    print \"Expected number of columns to be found in all files is %s (correspond to tile '%s')\"%(count_firstfile,tile_num)\n",
    "    # now the rest of files\n",
    "    for filename in fileList[1:]:\n",
    "        tile_num = os.path.splitext(os.path.basename(filename))[0].split(\"_\")[-1]\n",
    "        f=open(filename)\n",
    "        reader = csv.reader(f)\n",
    "        count_column = len(reader.next())\n",
    "        if count_column != count_firstfile:\n",
    "            error = True\n",
    "            print \"ERROR: Tile '%s' has %s columns\"%(tile_num,count_column)\n",
    "    if not error:\n",
    "        print \"All the files have the same number of columns\"\n",
    "    else: \n",
    "        sys.exit()"
   ]
  },
  {
   "cell_type": "code",
   "execution_count": 20,
   "metadata": {
    "collapsed": true
   },
   "outputs": [],
   "source": [
    "def StackCsv(fileList,outfile,overwrite=False):\n",
    "    import sys,os,csv\n",
    "    if len(fileList)<=1:\n",
    "        sys.exit(\"This function require at least two .csv files to be stacked together.\")\n",
    "    if os.path.isfile(outfile) and overwrite==False:\n",
    "        print \"File '\"+str(outfile)+\"' aleady exists and overwrite option is not enabled.\"\n",
    "    else:\n",
    "        if overwrite==True:\n",
    "            if os.path.exists(outfile):\n",
    "                os.remove(outfile)\n",
    "        stacked_csv=open(outfile,\"a\")  #Open in mode 'append'\n",
    "        # first file including header:\n",
    "        for line in open(fileList[0]):\n",
    "            if len(line.split(\"\\n\")[0])>0:\n",
    "                stacked_csv.write(line)\n",
    "        # now the rest without header:\n",
    "        for filename in fileList[1:]:\n",
    "            f=open(filename)\n",
    "            header = f.next() # skip the header\n",
    "            for line in f:\n",
    "                if len(line.split(\"\\n\")[0])>0:\n",
    "                    stacked_csv.write(line)\n",
    "            f.close() # not really needed\n",
    "        stacked_csv.close()\n",
    "        print str(len(fileList))+\" individual .csv files will be stacked each other.\""
   ]
  },
  {
   "cell_type": "markdown",
   "metadata": {},
   "source": [
    "**-_-_-_-_-_-_-_-_-_-_-_-_-_-_-_-_-_-_-_-_-_-_-_-_-_-_-_-_-_-_-_-_-_-_-_-_-_-_-_-_-_-_-_-_-_-_-_-_-_-_-_-_-_-_-_-_-_-_-_-_-**"
   ]
  },
  {
   "cell_type": "markdown",
   "metadata": {},
   "source": [
    "## Create new directories"
   ]
  },
  {
   "cell_type": "code",
   "execution_count": 21,
   "metadata": {},
   "outputs": [
    {
     "name": "stdout",
     "output_type": "stream",
     "text": [
      "The folder '../../../Results/Classification_features' already exists\n",
      "The folder '../../../Results/Log_file' already exists\n",
      "The folder '../../../Results/Classif_RF' already exists\n",
      "The folder '../../../Results/Classif_RF/classif_csv' already exists\n",
      "The folder '../../../Results/Classif_RF/classif_tiles' already exists\n"
     ]
    }
   ],
   "source": [
    "# Check and create folder if needed\n",
    "check_create_dir(config_parameters['outputfolder_classfeatures'])\n",
    "check_create_dir(config_parameters['outputfolder_Logfile'])\n",
    "check_create_dir(config_parameters['outputfolder_classifRF'])\n",
    "check_create_dir(config_parameters['outputfolder_classifRF_csv'])\n",
    "check_create_dir(config_parameters['outputfolder_classifRF_tiles'])"
   ]
  },
  {
   "cell_type": "markdown",
   "metadata": {},
   "source": [
    "# Collect training data"
   ]
  },
  {
   "cell_type": "markdown",
   "metadata": {},
   "source": [
    "## Get list of segment ID"
   ]
  },
  {
   "cell_type": "code",
   "execution_count": 22,
   "metadata": {
    "scrolled": true
   },
   "outputs": [
    {
     "name": "stdout",
     "output_type": "stream",
     "text": [
      "2910 segments out of the 2914 initially available will be used for training.\n"
     ]
    }
   ],
   "source": [
    "# Read csv\n",
    "csvfile = os.path.join(config_parameters['outputfolder_training_sample'],\"training_points_with_segid.csv\")\n",
    "fin = open(csvfile)\n",
    "reader = csv.reader(fin)\n",
    "# Get list of seg_ID\n",
    "list_segid = []\n",
    "label_dic = {}\n",
    "reader.next()\n",
    "for row in reader:\n",
    "    tilegid = row[-1] # row[-1] for 'tilegid'\n",
    "    segid = row[-2] # row[-2] for 'seg_id'\n",
    "    label = row[-3]  # row[-3] for label 'label_2018'\n",
    "    if tilegid != \"\" and segid != \"\":\n",
    "        twokeyid = \"%s_%s\"%(segid,tilegid)\n",
    "        list_segid.append(twokeyid)   \n",
    "        label_dic[twokeyid] = label\n",
    "initial_count = len(list_segid)\n",
    "# Keep only value that appear once\n",
    "count = [list_segid.count(a) for a in list_segid]  # Get list of count for each value\n",
    "list_segid = [list_segid[i] for i,a in enumerate(count) if a == 1]   # Keep only where count = 1\n",
    "list_segid = [(x.split(\"_\")[0],x.split(\"_\")[1], label_dic[\"%s_%s\"%(x.split(\"_\")[0],x.split(\"_\")[1])]) for x in list_segid]\n",
    "unique_count = len(list_segid)\n",
    "\n",
    "# Create dictionnary with unique segments+tile ID\n",
    "training_dic = {}\n",
    "segid_list, tileid_list, label_list = zip(*list_segid)\n",
    "for segid, tileid, label in zip(segid_list, tileid_list, label_list):\n",
    "    if tileid not in training_dic:\n",
    "        training_dic[tileid] = {}\n",
    "    training_dic[tileid][segid] = label\n",
    "    if \"\" in training_dic[tileid]:\n",
    "        del training_dic[tileid][\"\"]\n",
    "if \"\" in training_dic:\n",
    "    del training_dic[\"\"]\n",
    "    \n",
    "# Print\n",
    "print \"%s segments out of the %s initially available will be used for training.\"%(unique_count,initial_count)"
   ]
  },
  {
   "cell_type": "markdown",
   "metadata": {},
   "source": [
    "## Check that all .csv have the same number of columns"
   ]
  },
  {
   "cell_type": "code",
   "execution_count": 90,
   "metadata": {
    "scrolled": true
   },
   "outputs": [
    {
     "name": "stdout",
     "output_type": "stream",
     "text": [
      "375 .csv files with classification feature in folder\n",
      "Expected number of columns to be found in all files is 42 (correspond to tile '5920')\n",
      "All the files have the same number of columns\n"
     ]
    }
   ],
   "source": [
    "# Get list of csv with classification feature of individual tiles\n",
    "import glob\n",
    "list_feature_csv = glob.glob(os.path.join(config_parameters['outputfolder_classfeatures'],\"features_tile_*.csv\"))\n",
    "print \"%s .csv files with classification feature in folder\"%len(list_feature_csv)\n",
    "\n",
    "# Verify if all .csv files have the same number of columns\n",
    "CheckNumColCsv(list_feature_csv)"
   ]
  },
  {
   "cell_type": "markdown",
   "metadata": {},
   "source": [
    "### Fix .csv that miss one colomn with \"rf_class_prob\""
   ]
  },
  {
   "cell_type": "markdown",
   "metadata": {},
   "source": [
    "This part of the script should be use with care and only for specific problems well identified. "
   ]
  },
  {
   "cell_type": "code",
   "execution_count": 37,
   "metadata": {
    "collapsed": true
   },
   "outputs": [],
   "source": [
    "# Define the header content of the first file as reference. PLEASE CHECK IF IT IS WELL the case. If not, choose another .csv in the list which can be use as reference\n",
    "fin = open(list_feature_csv[0],\"r\")\n",
    "reader = csv.reader(fin)\n",
    "\n",
    "# Save list with name of columns in the reference file\n",
    "ref_columns = reader.next()\n",
    "\n",
    "from os import remove\n",
    "from shutil import move\n",
    "\n",
    "for _file in list_feature_csv:\n",
    "    #Decompose path into path and filename\n",
    "    path, filename = os.path.split(_file)\n",
    "    fin = open(_file,\"r\")\n",
    "    reader = csv.reader(fin)\n",
    "    file_header = reader.next()  #Save header of current file\n",
    "    # Check if file header have the same header than reference file - Continue the loop on the next item if header is the same as reference one \n",
    "    if file_header == ref_columns:\n",
    "        continue\n",
    "    #Find extra column(s) and its index\n",
    "    extra = [(column,index) for index,column in enumerate(file_header) if column not in ref_columns] \n",
    "    if extra:\n",
    "        extra_column,extra_index = zip(*extra)\n",
    "    #Find missing column(s) and its index\n",
    "    missing = [(column,index) for index,column in enumerate(ref_columns) if column not in file_header] \n",
    "    if missing:\n",
    "        missing_column,missing_index = zip(*missing)\n",
    "    #Print\n",
    "    if extra:\n",
    "        print \"The file %s have extra column(s) '%s' and will be fixed\"%(filename,\"','\".join(extra_column))\n",
    "    if missing:\n",
    "        print \"The file %s miss column(s) '%s' and will be fixed\"%(filename,\"','\".join(missing_column))\n",
    "    else:\n",
    "        print \"ERROR: Files don't have to same header but neither extra of missing column(s) were find. Please check!\"\n",
    "    #Create a new outputfile (tmp) and csv writer\n",
    "    temp_path = os.path.join(path,\"%s.tmp\"%filename)\n",
    "    fou = open(temp_path, 'w')\n",
    "    writer = csv.writer(fou)    \n",
    "    #Create content list for the new file\n",
    "    content = []\n",
    "    content.append(ref_columns) #Add header of the reference file\n",
    "    for row in reader:\n",
    "        new_row = row\n",
    "        if extra:  #Remove values at indexes where there is an extra column  \n",
    "            for index in extra_index:\n",
    "                del new_row[index]       \n",
    "        if missing:  #Insert 0 value at indexes where there is a missing column\n",
    "            for index in missing_index:\n",
    "                new_row.insert(index,0) \n",
    "        content.append(new_row)#Append the new row to the content list\n",
    "    #Write new content in the new csv\n",
    "    writer.writerows(content)\n",
    "    #Rename the temporary file to overwrite original file\n",
    "    remove(_file)\n",
    "    move(temp_path, _file)"
   ]
  },
  {
   "cell_type": "code",
   "execution_count": null,
   "metadata": {
    "collapsed": true
   },
   "outputs": [],
   "source": []
  },
  {
   "cell_type": "markdown",
   "metadata": {},
   "source": [
    "## Get file with training sample (features + label)"
   ]
  },
  {
   "cell_type": "code",
   "execution_count": 91,
   "metadata": {
    "collapsed": true
   },
   "outputs": [],
   "source": [
    "# Define path to training file\n",
    "trainingfile = os.path.join(config_parameters['outputfolder_training_sample'],\"training_samples.csv\")"
   ]
  },
  {
   "cell_type": "code",
   "execution_count": 92,
   "metadata": {},
   "outputs": [
    {
     "name": "stdout",
     "output_type": "stream",
     "text": [
      "Process finished\n"
     ]
    }
   ],
   "source": [
    "import os,sys\n",
    "overwrite=True\n",
    "outputcsv = trainingfile\n",
    "# Check\n",
    "if os.path.isfile(outputcsv) and overwrite==False:\n",
    "    print \"File '\"+str(outputcsv)+\"' aleady exists and overwrite option is not enabled.\"\n",
    "    sys.exit()\n",
    "else:\n",
    "    if os.path.isfile(outputcsv) and overwrite==True:\n",
    "        open(outputcsv,\"r\").close\n",
    "        os.remove(outputcsv)\n",
    "\n",
    "# Initialization\n",
    "available_csv = [os.path.split(a)[1].split(\".csv\")[0].split(\"_\")[-1] for a in list_feature_csv]\n",
    "remaining_dic = training_dic\n",
    "select_dic = {}\n",
    "found_counter=0  #To count how many items will be find\n",
    "fout = open(outputcsv,\"a\")  #Output csv\n",
    "writer = csv.writer(fout)   #Writer for output\n",
    "first_file = True\n",
    "# Start looking in list of .csv files\n",
    "for tileid in training_dic:\n",
    "    if tileid in available_csv:\n",
    "        featurecsv = os.path.join(config_parameters['outputfolder_classfeatures'],\"features_tile_%s.csv\"%tileid)\n",
    "        fin = open(featurecsv,\"r\")\n",
    "        reader = csv.reader(fin)\n",
    "        if first_file:  # If first .csv in the list\n",
    "            header = reader.next()\n",
    "            header.append(\"training_label\")  # Add \"training_label\" as column name in last position of the header\n",
    "            writer.writerow(header)\n",
    "            first_file = False\n",
    "        for line in reader:\n",
    "            current_segid=line[0]\n",
    "            if current_segid in training_dic[tileid]:\n",
    "                label = training_dic[tileid][current_segid]\n",
    "                newrow = line\n",
    "                newrow.append(label)  # Add the label in last position of the new row\n",
    "                writer.writerow(newrow)\n",
    "                found_counter+=1\n",
    "                del remaining_dic[tileid][current_segid]\n",
    "                if label not in select_dic:\n",
    "                    select_dic[label] = []\n",
    "                select_dic[label].append(1)\n",
    "fout.close()\n",
    "count_remain = len([remaining_dic[subdic][key] for subdic in remaining_dic for key in remaining_dic[subdic]])\n",
    "if found_counter==0:\n",
    "    print \"ERROR: Nothing found\"\n",
    "    os.remove(outputcsv)\n",
    "    sys.exit()\n",
    "if count_remain>0:  #If the research goes through all the .csv files in the list but still remain unfind items\n",
    "    print \"WARNING: %s item(s) not found.\"%count_remain\n",
    "print \"Process finished\""
   ]
  },
  {
   "cell_type": "markdown",
   "metadata": {},
   "source": [
    "## Restart the 'cat' id from scratch"
   ]
  },
  {
   "cell_type": "markdown",
   "metadata": {},
   "source": [
    "Restart the 'cat' id from scratch to avoid duplicate (in case two segment from different tiles have the same id)"
   ]
  },
  {
   "cell_type": "code",
   "execution_count": 93,
   "metadata": {
    "collapsed": true
   },
   "outputs": [],
   "source": [
    "with open(trainingfile, 'r') as readFile:\n",
    "    reader = csv.reader(readFile)\n",
    "    header = reader.next()\n",
    "    lines = list(reader)\n",
    "\n",
    "for i, row in enumerate(lines, 1):\n",
    "    row[0] = i\n",
    "\n",
    "with open(trainingfile, 'w') as writeFile:\n",
    "    writer = csv.writer(writeFile)\n",
    "    writer.writerow(header)\n",
    "    writer.writerows(lines)\n",
    "\n",
    "readFile.close()\n",
    "writeFile.close()"
   ]
  },
  {
   "cell_type": "markdown",
   "metadata": {},
   "source": [
    "## Count of point in each class"
   ]
  },
  {
   "cell_type": "code",
   "execution_count": 94,
   "metadata": {
    "scrolled": false
   },
   "outputs": [
    {
     "name": "stdout",
     "output_type": "stream",
     "text": [
      "Number of samples per class \n",
      "\n",
      "\n",
      "Class '11'        316 samples\n",
      "Class '12'        129 samples\n",
      "Class '42'        663 samples\n",
      "Class '62'        55 samples\n",
      "Class '41'        339 samples\n",
      "Class '61'        25 samples\n",
      "Class '3'        355 samples\n",
      "Class '2'        111 samples\n",
      "Class '5'        917 samples\n"
     ]
    }
   ],
   "source": [
    "print \"Number of samples per class \\n\\n\"\n",
    "for label in select_dic:\n",
    "    print \"Class '%s'        %s samples\"%(label,sum(select_dic[label]))"
   ]
  },
  {
   "cell_type": "markdown",
   "metadata": {},
   "source": [
    "# Train random forest model (R)"
   ]
  },
  {
   "cell_type": "markdown",
   "metadata": {
    "collapsed": true
   },
   "source": [
    "### Define parameters for the R script"
   ]
  },
  {
   "cell_type": "code",
   "execution_count": 95,
   "metadata": {
    "collapsed": true
   },
   "outputs": [],
   "source": [
    "## Set the path to the output of random forest classification\n",
    "output_accuracy=os.path.join(config_parameters['outputfolder_classifRF'],\"accuracy_RF.csv\")\n",
    "output_varimp=os.path.join(config_parameters['outputfolder_classifRF'],\"VariablesImportance_RF.pdf\")\n",
    "output_rfmodel=os.path.join(config_parameters['outputfolder_classifRF'],\"RF_model.txt\")\n",
    "output_cv=os.path.join(config_parameters['outputfolder_classifRF'],\"RF_cv.pdf\")"
   ]
  },
  {
   "cell_type": "code",
   "execution_count": 96,
   "metadata": {
    "collapsed": true
   },
   "outputs": [],
   "source": [
    "# Column name with label in training file\n",
    "train_label = \"training_label\""
   ]
  },
  {
   "cell_type": "code",
   "execution_count": 97,
   "metadata": {
    "collapsed": true
   },
   "outputs": [],
   "source": [
    "# Set number of cores\n",
    "r_ncores = 15"
   ]
  },
  {
   "cell_type": "markdown",
   "metadata": {
    "collapsed": true
   },
   "source": [
    "### Create R script for the training"
   ]
  },
  {
   "cell_type": "code",
   "execution_count": 98,
   "metadata": {
    "collapsed": true
   },
   "outputs": [],
   "source": [
    "# Create and open new temporary R script\n",
    "r_commands = os.path.join(config_parameters['outputfolder_classifRF'],\"Fusion_walous_RF_Train.R\").replace(\"\\\\\", \"/\")\n",
    "r_file = open(r_commands, 'w')"
   ]
  },
  {
   "cell_type": "code",
   "execution_count": 99,
   "metadata": {
    "collapsed": true
   },
   "outputs": [],
   "source": [
    "# Create a list with all lines to write in the script\n",
    "r_instuction = []\n",
    "\n",
    "# Piece of R script for intallation of R package\n",
    "install_package = \"if(!is.element('%s', installed.packages()[,1])){\\n\"\n",
    "install_package += \"cat('\\\\n\\\\nInstalling %s package from CRAN\\n')\\n\"\n",
    "install_package += \"if(!file.exists(Sys.getenv('R_LIBS_USER'))){\\n\"\n",
    "install_package += \"dir.create(Sys.getenv('R_LIBS_USER'), recursive=TRUE)\\n\"\n",
    "install_package += \".libPaths(Sys.getenv('R_LIBS_USER'))}\\n\"\n",
    "install_package += \"chooseCRANmirror(ind=1)\\n\"\n",
    "install_package += \"install.packages('%s', dependencies=TRUE)}\"\n",
    "r_instuction.append(install_package % ('doParallel', 'doParallel', 'doParallel')) #Package for parallel processing in R\n",
    "r_instuction.append(install_package % ('caret', 'caret', 'caret')) #Package for machine learning in R\n",
    "r_instuction.append(install_package % ('e1071', 'e1071', 'e1071')) \n",
    "r_instuction.append(install_package % ('randomForest', 'randomForest', 'randomForest')) #Package for Random Forest\n",
    "r_instuction.append(install_package % ('pROC', 'pROC', 'pROC')) \n",
    "\n",
    "# Piece of R script for loading libraries and dependencies\n",
    "lib_require = \"library(%s)\\n\"\n",
    "lib_require += \"require(%s)\"\n",
    "r_instuction.append(lib_require % ('parallel', 'parallel')) \n",
    "r_instuction.append(lib_require % ('doParallel', 'doParallel')) \n",
    "r_instuction.append(lib_require % ('caret', 'caret')) \n",
    "r_instuction.append(lib_require % ('randomForest', 'randomForest')) \n",
    "r_instuction.append(lib_require % ('e1071', 'e1071')) \n",
    "r_instuction.append(lib_require % ('pROC', 'pROC')) \n",
    "\n",
    "# Set number of cores to use\n",
    "r_instuction.append(\"# Set number of cores to use\")\n",
    "r_instuction.append(\"usedcores=%s\"%r_ncores)\n",
    "#r_instuction.append(\"usedcores=detectCores()-5\")\n",
    "r_instuction.append(\"registerDoParallel(usedcores)\")\n",
    "\n",
    "# Import training\n",
    "r_instuction.append(\"# Import training\")\n",
    "r_instuction.append(\"training <- read.csv('%s', sep=',', header=TRUE, row.names=1)\"%trainingfile.replace(\"\\\\\", \"/\"))\n",
    "# Define factor\n",
    "r_instuction.append(\"# Define factor\")\n",
    "r_instuction.append(\"training$%s <- as.factor(training$%s)\"%(train_label,train_label))\n",
    "\n",
    "# Cross-validation setting\n",
    "r_instuction.append(\"# Cross-validation setting\")\n",
    "r_instuction.append(\"MyFolds.cv <- createMultiFolds(training$%s, k=5, times=10)\"%train_label)\n",
    "r_instuction.append(\"MyControl.cv <- trainControl(method='repeatedCV', index=MyFolds.cv, allowParallel = TRUE)\")\n",
    "\n",
    "# Train Random Forest\n",
    "r_instuction.append(\"# Train Random Forest\")\n",
    "r_instuction.append(\"rfModel <- train(%s~.,training,method='rf', trControl=MyControl.cv,tuneLength=10)\"%train_label)\n",
    "r_instuction.append(\"resamps.cv <- rfModel$resample\")\n",
    "r_instuction.append(\"accuracy_means <- mean(resamps.cv$Accuracy)\")\n",
    "r_instuction.append(\"kappa_means <- mean(resamps.cv$Kappa)\")\n",
    "r_instuction.append(\"df_means <- data.frame(method='rf',accuracy=accuracy_means, kappa=kappa_means)\")\n",
    "r_instuction.append(\"write.csv(df_means, '%s', row.names=FALSE, quote=FALSE)\"%output_accuracy.replace(\"\\\\\", \"/\"))\n",
    "\n",
    "# Plot variable importance\n",
    "r_instuction.append(\"# Plot variable importance\")\n",
    "r_instuction.append(\"importance <- varImp(rfModel, scale=FALSE)\")\n",
    "#r_instuction.append(\"pdf('%s', width = 11, height = ncol(features)/6 )\"%output_varimp.replace(\"\\\\\", \"/\"))\n",
    "r_instuction.append(\"pdf('%s', width = 11, height = ncol(training)/6 )\"%output_varimp.replace(\"\\\\\", \"/\"))\n",
    "r_instuction.append(\"print(plot(importance))\")\n",
    "r_instuction.append(\"dev.off()\")\n",
    "\n",
    "# Show final model\n",
    "r_instuction.append(\"# Show final model\")\n",
    "r_instuction.append(\"tmp<-rfModel$finalModel\")\n",
    "r_instuction.append(\"sink('%s')\"%output_rfmodel.replace(\"\\\\\", \"/\"))\n",
    "r_instuction.append(\"print(tmp)\")\n",
    "r_instuction.append(\"sink()\")\n",
    "\n",
    "# Plot cross validation tuning results\n",
    "r_instuction.append(\"# Plot cross validation tuning results\")\n",
    "r_instuction.append(\"pdf('%s')\"%output_cv.replace(\"\\\\\", \"/\"))\n",
    "r_instuction.append(\"print(plot(rfModel))\")\n",
    "r_instuction.append(\"dev.off()\")\n",
    "\n",
    "# Export trained model in file\n",
    "r_instuction.append(\"# Export trained model in file\")\n",
    "r_instuction.append(\"saveRDS(rfModel, file = '%s')\"%config_parameters['rf_trained_model'].replace(\"\\\\\", \"/\"))\n",
    "\n",
    "# Write instructions to the R script file\n",
    "r_file.write(\"\\n\".join(r_instuction))\n",
    "r_file.close()"
   ]
  },
  {
   "cell_type": "markdown",
   "metadata": {
    "collapsed": true
   },
   "source": [
    "### Execute R script"
   ]
  },
  {
   "cell_type": "code",
   "execution_count": 100,
   "metadata": {
    "collapsed": true
   },
   "outputs": [],
   "source": [
    "import subprocess"
   ]
  },
  {
   "cell_type": "code",
   "execution_count": 101,
   "metadata": {
    "scrolled": true
   },
   "outputs": [
    {
     "name": "stdout",
     "output_type": "stream",
     "text": [
      "Running R now. Following output is R output.\n",
      "Finished running R.\n"
     ]
    }
   ],
   "source": [
    "start_trainmodel = start_processing()\n",
    "print \"Running R now. Following output is R output.\"\n",
    "try:\n",
    "    subprocess.check_call(['Rscript', r_commands], stderr=subprocess.STDOUT, )\n",
    "except subprocess.CalledProcessError:\n",
    "    print \"There was an error in the execution of the R script.\\nPlease check the R output.\"\n",
    "print \"Finished running R.\"\n",
    "print_processing_time(start_trainmodel, \"Computation (on %s cores) achieved in \"%r_ncores)"
   ]
  },
  {
   "cell_type": "markdown",
   "metadata": {
    "collapsed": true
   },
   "source": [
    "### Display results of R"
   ]
  },
  {
   "cell_type": "code",
   "execution_count": 102,
   "metadata": {},
   "outputs": [
    {
     "data": {
      "text/html": [
       "<div>\n",
       "<style scoped>\n",
       "    .dataframe tbody tr th:only-of-type {\n",
       "        vertical-align: middle;\n",
       "    }\n",
       "\n",
       "    .dataframe tbody tr th {\n",
       "        vertical-align: top;\n",
       "    }\n",
       "\n",
       "    .dataframe thead th {\n",
       "        text-align: right;\n",
       "    }\n",
       "</style>\n",
       "<table border=\"1\" class=\"dataframe\">\n",
       "  <thead>\n",
       "    <tr style=\"text-align: right;\">\n",
       "      <th></th>\n",
       "      <th>method</th>\n",
       "      <th>accuracy</th>\n",
       "      <th>kappa</th>\n",
       "    </tr>\n",
       "  </thead>\n",
       "  <tbody>\n",
       "    <tr>\n",
       "      <th>0</th>\n",
       "      <td>rf</td>\n",
       "      <td>0.801409</td>\n",
       "      <td>0.750778</td>\n",
       "    </tr>\n",
       "  </tbody>\n",
       "</table>\n",
       "</div>"
      ],
      "text/plain": [
       "  method  accuracy     kappa\n",
       "0     rf  0.801409  0.750778"
      ]
     },
     "execution_count": 102,
     "metadata": {},
     "output_type": "execute_result"
    }
   ],
   "source": [
    "import pandas as pd \n",
    "#### Show mean accuracy results from cross-validation for tuning\n",
    "## Import .csv file\n",
    "accuracy=pd.read_csv(output_accuracy, sep=',',header=0)\n",
    "## Display table\n",
    "accuracy.head(15)"
   ]
  },
  {
   "cell_type": "code",
   "execution_count": 103,
   "metadata": {},
   "outputs": [
    {
     "name": "stdout",
     "output_type": "stream",
     "text": [
      "\n",
      "Call:\n",
      " randomForest(x = x, y = y, mtry = param$mtry) \n",
      "               Type of random forest: classification\n",
      "                     Number of trees: 500\n",
      "No. of variables tried at each split: 10\n",
      "\n",
      "        OOB estimate of  error rate: 19.55%\n",
      "Confusion matrix:\n",
      "    2   3   5  11 12  41  42 61 62 class.error\n",
      "2  16   3  38  35  0   9   9  0  1   0.8558559\n",
      "3   4 295  52   2  1   0   1  0  0   0.1690141\n",
      "5   5  43 784  17  1  22  45  0  0   0.1450382\n",
      "11  6   0  16 269 19   0   5  1  0   0.1487342\n",
      "12  0   0   2  34 90   0   3  0  0   0.3023256\n",
      "41  0   0  17   0  0 284  38  0  0   0.1622419\n",
      "42  0   1  69   2  2  37 550  0  2   0.1704374\n",
      "61  0   0   1   1  1   0   1 14  7   0.4400000\n",
      "62  0   0   4   6  0   0   4  2 39   0.2909091\n",
      "\n"
     ]
    }
   ],
   "source": [
    "#### Import classifiers tuning parameters and confusion matrix\n",
    "## Open file\n",
    "classifier_runs = open(output_rfmodel, 'r')  \n",
    "## Read file\n",
    "print classifier_runs.read()"
   ]
  },
  {
   "cell_type": "markdown",
   "metadata": {},
   "source": [
    "The following cell display pdf figures. Please first install the **Wand** package using the folowwing command in the terminal : \n",
    "\n",
    "``` sudo pip instal Wand ```"
   ]
  },
  {
   "cell_type": "code",
   "execution_count": 104,
   "metadata": {},
   "outputs": [
    {
     "data": {
      "image/png": "[encoded data removed]",
      "text/plain": [
       "<wand.image.Image: 24bd592 'PNG' (792x504)>"
      ]
     },
     "execution_count": 104,
     "metadata": {},
     "output_type": "execute_result"
    }
   ],
   "source": [
    "## Display graphs\n",
    "import wand\n",
    "from wand.image import Image as WImage\n",
    "img = WImage(filename=output_varimp)\n",
    "img"
   ]
  },
  {
   "cell_type": "code",
   "execution_count": 105,
   "metadata": {},
   "outputs": [
    {
     "data": {
      "image/png": "[encoded data removed]",
      "text/plain": [
       "<wand.image.Image: 013ea3d 'PNG' (504x504)>"
      ]
     },
     "execution_count": 105,
     "metadata": {},
     "output_type": "execute_result"
    }
   ],
   "source": [
    "## Display graphs\n",
    "import wand\n",
    "from wand.image import Image as WImage\n",
    "img = WImage(filename=output_cv)\n",
    "img"
   ]
  },
  {
   "cell_type": "code",
   "execution_count": null,
   "metadata": {
    "collapsed": true
   },
   "outputs": [],
   "source": []
  },
  {
   "cell_type": "code",
   "execution_count": null,
   "metadata": {
    "collapsed": true
   },
   "outputs": [],
   "source": []
  },
  {
   "cell_type": "code",
   "execution_count": null,
   "metadata": {
    "collapsed": true
   },
   "outputs": [],
   "source": []
  }
 ],
 "metadata": {
  "kernelspec": {
   "display_name": "Python 2",
   "language": "python",
   "name": "python2"
  },
  "language_info": {
   "codemirror_mode": {
    "name": "ipython",
    "version": 2
   },
   "file_extension": ".py",
   "mimetype": "text/x-python",
   "name": "python",
   "nbconvert_exporter": "python",
   "pygments_lexer": "ipython2",
   "version": "2.7.12"
  }
 },
 "nbformat": 4,
 "nbformat_minor": 2
}
