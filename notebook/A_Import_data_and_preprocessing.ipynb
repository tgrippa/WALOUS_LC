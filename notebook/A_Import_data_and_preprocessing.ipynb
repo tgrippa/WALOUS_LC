{
 "cells": [
  {
   "cell_type": "markdown",
   "metadata": {},
   "source": [
    "<p><strong><font size=\"6\">WALOUS</font></strong></p>"
   ]
  },
  {
   "cell_type": "markdown",
   "metadata": {},
   "source": [
    "<p><strong><font size=\"6\">Fusion LC classifications results</font></strong></p>"
   ]
  },
  {
   "cell_type": "markdown",
   "metadata": {},
   "source": [
    "<p><strong><font size=\"6\">Import data and preprocessing</font></strong></p>"
   ]
  },
  {
   "cell_type": "markdown",
   "metadata": {},
   "source": [
    "This python code implement the method developed by ANAGEO (ULB). \n",
    "\n",
    "Code developped on Linux Mint 18.1 (Ubuntu Xenial 16.04) and GRASS GIS 7.3.svn (r71315)."
   ]
  },
  {
   "cell_type": "markdown",
   "metadata": {},
   "source": [
    "# Table of Contents"
   ]
  },
  {
   "cell_type": "markdown",
   "metadata": {},
   "source": [
    "<div id=\"toc\"></div>"
   ]
  },
  {
   "cell_type": "markdown",
   "metadata": {},
   "source": [
    "The following cell is a Javascript section of code for building the Jupyter notebook's table of content."
   ]
  },
  {
   "cell_type": "code",
   "execution_count": 1,
   "metadata": {},
   "outputs": [
    {
     "data": {
      "application/javascript": [
       "$.getScript('https://kmahelona.github.io/ipython_notebook_goodies/ipython_notebook_toc.js')"
      ],
      "text/plain": [
       "<IPython.core.display.Javascript object>"
      ]
     },
     "metadata": {},
     "output_type": "display_data"
    }
   ],
   "source": [
    "%%javascript\n",
    "$.getScript('https://kmahelona.github.io/ipython_notebook_goodies/ipython_notebook_toc.js')"
   ]
  },
  {
   "cell_type": "markdown",
   "metadata": {},
   "source": [
    "# Define working environment"
   ]
  },
  {
   "cell_type": "markdown",
   "metadata": {},
   "source": [
    "**Import libraries**"
   ]
  },
  {
   "cell_type": "code",
   "execution_count": 51,
   "metadata": {
    "collapsed": true
   },
   "outputs": [],
   "source": [
    "# Import libraries needed for setting parameters of operating system \n",
    "import os\n",
    "import sys\n",
    "import csv\n",
    "import tempfile\n",
    "import glob\n",
    "import math"
   ]
  },
  {
   "cell_type": "code",
   "execution_count": 3,
   "metadata": {
    "collapsed": true
   },
   "outputs": [],
   "source": [
    "## Import multiprocessing and functools libraries\n",
    "import multiprocessing\n",
    "from multiprocessing import Pool\n",
    "from functools import partial"
   ]
  },
  {
   "cell_type": "markdown",
   "metadata": {},
   "source": [
    "** Add folder with SCR provided belong to this notebook**"
   ]
  },
  {
   "cell_type": "code",
   "execution_count": 4,
   "metadata": {
    "collapsed": true
   },
   "outputs": [],
   "source": [
    "# Add local module to the path\n",
    "src = os.path.abspath('../SRC')\n",
    "if src not in sys.path:\n",
    "    sys.path.append(src)"
   ]
  },
  {
   "cell_type": "markdown",
   "metadata": {},
   "source": [
    "** Setup environment variables for TAIS DESKTOP (Linux Mint + GRASS Dev) **"
   ]
  },
  {
   "cell_type": "markdown",
   "metadata": {},
   "source": [
    "Please edit the file in `../SRC/config.py`, containing the configuration parameters, according to your own computer setup. The following cell is used to run this file.\n",
    "\n"
   ]
  },
  {
   "cell_type": "code",
   "execution_count": 97,
   "metadata": {
    "collapsed": true,
    "scrolled": true
   },
   "outputs": [],
   "source": [
    "run ../SRC/config.py"
   ]
  },
  {
   "cell_type": "code",
   "execution_count": 31,
   "metadata": {
    "scrolled": true
   },
   "outputs": [
    {
     "name": "stdout",
     "output_type": "stream",
     "text": [
      "{'permanent_mapset': 'PERMANENT', 'locationepsg': '31370', 'outputfolder': '../../../Results', 'gisdb': '../../GRASSDATA', 'location': 'WALOUS_31370', 'PYTHONLIB': '/usr/lib/python2.7', 'njobs': 6, 'GISBASE': '/usr/lib/grass76'}\n"
     ]
    }
   ],
   "source": [
    "print config_parameters"
   ]
  },
  {
   "cell_type": "code",
   "execution_count": 20,
   "metadata": {
    "collapsed": true
   },
   "outputs": [],
   "source": [
    "# Import functions that setup the environmental variables\n",
    "import environ_variables as envi"
   ]
  },
  {
   "cell_type": "code",
   "execution_count": 8,
   "metadata": {
    "scrolled": true
   },
   "outputs": [
    {
     "name": "stdout",
     "output_type": "stream",
     "text": [
      "MDMSESSION = mate \t\n",
      "MANDATORY_PATH = /usr/share/gconf/mate.mandatory.path \t\n",
      "MATE_DESKTOP_SESSION_ID = this-is-deprecated \t\n",
      "LESSOPEN = | /usr/bin/lesspipe %s \t\n",
      "MDM_LANG = fr_BE.UTF-8 \t\n",
      "LOGNAME = tais \t\n",
      "USER = tais \t\n",
      "HOME = /home/tais \t\n",
      "XDG_VTNR = 8 \t\n",
      "PATH = /usr/local/bin:/home/tais/BIN:/home/tais/bin:/home/tais/.local/bin:/usr/local/sbin:/usr/local/bin:/usr/sbin:/usr/bin:/sbin:/bin:/usr/games:/usr/local/games:/usr/lib/grass76/bin:/usr/lib/grass76/script:/usr/lib/grass76/lib \t\n",
      "CLICOLOR = 1 \t\n",
      "DISPLAY = :0.0 \t\n",
      "SSH_AGENT_PID = 2118 \t\n",
      "LANG = fr_BE.UTF-8 \t\n",
      "TERM = xterm-color \t\n",
      "SHELL = /bin/bash \t\n",
      "GIS_LOCK = $$ \t\n",
      "XAUTHORITY = /home/tais/.Xauthority \t\n",
      "SESSION_MANAGER = local/tais-HP-Z620-Workstation:@/tmp/.ICE-unix/2046,unix/tais-HP-Z620-Workstation:/tmp/.ICE-unix/2046 \t\n",
      "SHLVL = 1 \t\n",
      "QT_LINUX_ACCESSIBILITY_ALWAYS_ON = 1 \t\n",
      "INSIDE_CAJA_PYTHON =  \t\n",
      "QT_ACCESSIBILITY = 1 \t\n",
      "LD_LIBRARY_PATH = :/usr/lib/grass76/lib \t\n",
      "COMPIZ_CONFIG_PROFILE = mate \t\n",
      "WINDOWPATH = 8 \t\n",
      "GTK_OVERLAY_SCROLLING = 0 \t\n",
      "PYTHONPATH = :/usr/lib/grass76/etc/python:/usr/lib/grass76/etc/python/grass:/usr/lib/grass76/etc/python/grass/script \t\n",
      "GISBASE = /usr/lib/grass76 \t\n",
      "CLUTTER_BACKEND = x11 \t\n",
      "USERNAME = tais \t\n",
      "XDG_SESSION_DESKTOP = mate \t\n",
      "GDM_XSERVER_LOCATION = local \t\n",
      "XDG_RUNTIME_DIR = /run/user/1000 \t\n",
      "JPY_PARENT_PID = 12406 \t\n",
      "QT_STYLE_OVERRIDE = gtk \t\n",
      "SSH_AUTH_SOCK = /run/user/1000/keyring/ssh \t\n",
      "VTE_VERSION = 4205 \t\n",
      "GDMSESSION = mate \t\n",
      "GISRC = /home/tais/.grass7/rc \t\n",
      "GIT_PAGER = cat \t\n",
      "XDG_CONFIG_DIRS = /etc/xdg/xdg-mate:/etc/xdg \t\n",
      "XDG_CURRENT_DESKTOP = MATE \t\n",
      "XDG_SESSION_ID = c1 \t\n",
      "DBUS_SESSION_BUS_ADDRESS = unix:abstract=/tmp/dbus-z9SquAB5cR,guid=3445d50f93e715dd9feae0dd5cb82a8d \t\n",
      "_ = /usr/local/bin/jupyter \t\n",
      "XDG_SESSION_COOKIE = 8441891e86e24d76b9616edf516d5734-1555573389.275164-887308279 \t\n",
      "DESKTOP_SESSION = mate \t\n",
      "WINDOWID = 52428806 \t\n",
      "LESSCLOSE = /usr/bin/lesspipe %s %s \t\n",
      "DEFAULTS_PATH = /usr/share/gconf/mate.default.path \t\n",
      "MPLBACKEND = module://ipykernel.pylab.backend_inline \t\n",
      "MDM_XSERVER_LOCATION = local \t\n",
      "GTK_MODULES = gail:atk-bridge \t\n",
      "XDG_DATA_DIRS = /usr/share/mate:/usr/local/share/:/usr/share/:/usr/share/mdm/ \t\n",
      "PWD = /media/tais/data/WALOUS/Processing/GithubRepository_WALOUS \t\n",
      "COLORTERM = mate-terminal \t\n",
      "PYTHONLIB = /usr/lib/python2.7 \t\n",
      "LS_COLORS = rs=0:di=01;34:ln=01;36:mh=00:pi=40;33:so=01;35:do=01;35:bd=40;33;01:cd=40;33;01:or=40;31;01:mi=00:su=37;41:sg=30;43:ca=30;41:tw=30;42:ow=34;42:st=37;44:ex=01;32:*.tar=01;31:*.tgz=01;31:*.arc=01;31:*.arj=01;31:*.taz=01;31:*.lha=01;31:*.lz4=01;31:*.lzh=01;31:*.lzma=01;31:*.tlz=01;31:*.txz=01;31:*.tzo=01;31:*.t7z=01;31:*.zip=01;31:*.z=01;31:*.Z=01;31:*.dz=01;31:*.gz=01;31:*.lrz=01;31:*.lz=01;31:*.lzo=01;31:*.xz=01;31:*.bz2=01;31:*.bz=01;31:*.tbz=01;31:*.tbz2=01;31:*.tz=01;31:*.deb=01;31:*.rpm=01;31:*.jar=01;31:*.war=01;31:*.ear=01;31:*.sar=01;31:*.rar=01;31:*.alz=01;31:*.ace=01;31:*.zoo=01;31:*.cpio=01;31:*.7z=01;31:*.rz=01;31:*.cab=01;31:*.jpg=01;35:*.jpeg=01;35:*.gif=01;35:*.bmp=01;35:*.pbm=01;35:*.pgm=01;35:*.ppm=01;35:*.tga=01;35:*.xbm=01;35:*.xpm=01;35:*.tif=01;35:*.tiff=01;35:*.png=01;35:*.svg=01;35:*.svgz=01;35:*.mng=01;35:*.pcx=01;35:*.mov=01;35:*.mpg=01;35:*.mpeg=01;35:*.m2v=01;35:*.mkv=01;35:*.webm=01;35:*.ogm=01;35:*.mp4=01;35:*.m4v=01;35:*.mp4v=01;35:*.vob=01;35:*.qt=01;35:*.nuv=01;35:*.wmv=01;35:*.asf=01;35:*.rm=01;35:*.rmvb=01;35:*.flc=01;35:*.avi=01;35:*.fli=01;35:*.flv=01;35:*.gl=01;35:*.dl=01;35:*.xcf=01;35:*.xwd=01;35:*.yuv=01;35:*.cgm=01;35:*.emf=01;35:*.ogv=01;35:*.ogx=01;35:*.aac=00;36:*.au=00;36:*.flac=00;36:*.m4a=00;36:*.mid=00;36:*.midi=00;36:*.mka=00;36:*.mp3=00;36:*.mpc=00;36:*.ogg=00;36:*.ra=00;36:*.wav=00;36:*.oga=00;36:*.opus=00;36:*.spx=00;36:*.xspf=00;36: \t\n",
      "PAGER = cat \t\n",
      "XDG_SEAT = seat0 \t\n"
     ]
    }
   ],
   "source": [
    "# Set environmental variables\n",
    "envi.setup_environmental_variables() \n",
    "# Display current environment variables of your computer\n",
    "envi.print_environmental_variables()"
   ]
  },
  {
   "cell_type": "markdown",
   "metadata": {},
   "source": [
    "** GRASS GIS Python libraries **"
   ]
  },
  {
   "cell_type": "code",
   "execution_count": 9,
   "metadata": {
    "collapsed": true
   },
   "outputs": [],
   "source": [
    "# Import libraries needed to launch GRASS GIS in the jupyter notebook\n",
    "import grass.script.setup as gsetup\n",
    "# Import libraries needed to call GRASS using Python\n",
    "import grass.script as gscript"
   ]
  },
  {
   "cell_type": "markdown",
   "metadata": {},
   "source": [
    "** Other functions**"
   ]
  },
  {
   "cell_type": "code",
   "execution_count": 10,
   "metadata": {
    "collapsed": true
   },
   "outputs": [],
   "source": [
    "# Import function that check existance and create GRASS GIS database folder if needed\n",
    "from grass_database import check_gisdb, check_location, check_mapset, working_mapset\n",
    "# Import functions for processing time information\n",
    "from processing_time import start_processing, print_processing_time\n",
    "# Import function that generate a random name in the GRASS GIS environement\n",
    "from random_layer_name import random_layer_name\n",
    "# Import function that check and create folder\n",
    "from mkdir import check_create_dir\n",
    "# Import function that check if GRASS GIS add-on is installed and install it if needed\n",
    "from gextension import check_install_addon\n",
    "# Import function that change .csv delimiter\n",
    "from ChangeCsvDelimiter import ChangeCsvDelimiter\n",
    "# Import function for .gzip archive management\n",
    "from gzip_management import decompress_gzip\n",
    "# Import function for computation of proportion of categorical raster in zones (segments)\n",
    "import compute_proportion_categorical\n",
    "from compute_proportion_categorical import proportion_class\n",
    "# Import function for getting list of class of a raster\n",
    "from data_prep import data_prep"
   ]
  },
  {
   "cell_type": "markdown",
   "metadata": {},
   "source": [
    "**-_-_-_-_-_-_-_-_-_-_-_-_-_-_-_-_-_-_-_-_-_-_-_-_-_-_-_-_-_-_-_-_-_-_-_-_-_-_-_-_-_-_-_-_-_-_-_-_-_-_-_-_-_-_-_-_-_-_-_-_-**"
   ]
  },
  {
   "cell_type": "code",
   "execution_count": 11,
   "metadata": {
    "collapsed": true
   },
   "outputs": [],
   "source": [
    "def launch_mapset(mapset):\n",
    "    #Declare empty list that will contain the messages to return\n",
    "    return_message = []\n",
    "    # Check if the location exists and create it if not, with the CRS defined by the epsg code \n",
    "    return_message.append(check_location(config_parameters[\"gisdb\"],config_parameters['location'],config_parameters[\"locationepsg\"]))\n",
    "    # Check if mapset exists\n",
    "    return_message.append(check_mapset(config_parameters[\"gisdb\"],config_parameters['location'],mapset))\n",
    "    # Change the current working GRASS GIS session mapset\n",
    "    return_message.append(working_mapset(config_parameters[\"gisdb\"],config_parameters['location'],mapset))\n",
    "    # Return\n",
    "    return return_message"
   ]
  },
  {
   "cell_type": "code",
   "execution_count": 12,
   "metadata": {
    "collapsed": true
   },
   "outputs": [],
   "source": [
    "def import_inputdata(timeclass):\n",
    "    #Declare empty list that will contain the messages to return\n",
    "    return_message = []\n",
    "    \n",
    "    #Start GRASS session on a new mapset\n",
    "    message = launch_mapset(timeclass)\n",
    "    [return_message.append(a) for a in message]\n",
    "    \n",
    "    #Import the segmentation layer\n",
    "    case_study = os.path.split(data[\"obia_folder\"])[-1].lower()\n",
    "    input_file = os.path.join(data[\"obia_folder\"],\"SEGMENTS\",\"segs_%s_%s.tif\"%(case_study,timeclass))\n",
    "    try:\n",
    "        gscript.run_command('r.in.gdal', overwrite=True, input=input_file, output='segments')\n",
    "        #gscript.run_command('r.external', overwrite=True, input=input_file, output='segments')\n",
    "        return_message.append(\"Segmentation layer has been imported.\")\n",
    "    except:\n",
    "        return_message.append(\"ERROR: Segmentation layer has not been imported. Please check for problem.\")\n",
    "\n",
    "    #Define computational region and save it as default\n",
    "    gscript.run_command('g.region', flags='s', raster='segments')  \n",
    "    \n",
    "    #Import the OBIA classification\n",
    "    input_file = os.path.join(data[\"obia_folder\"],\"RASTER\",\"classification_%s_%s.tif\"%(case_study,timeclass))\n",
    "    try:\n",
    "        gscript.run_command('r.in.gdal', flags='r', overwrite=True, input=input_file, output='obia_clas')\n",
    "        #gscript.run_command('r.external', overwrite=True, input=input_file, output='obia_clas')\n",
    "        return_message.append(\"OBIA classification layer has been imported.\")\n",
    "    except:\n",
    "        return_message.append(\"ERROR: OBIA classification layer has not been imported. Please check for problem.\")\n",
    "\n",
    "    #Import the Pixel-based classification\n",
    "    input_file = data['pix_orth']\n",
    "    try:\n",
    "        gscript.run_command('r.in.gdal', flags='r', overwrite=True, input=input_file, output='pixel_clas')\n",
    "        return_message.append(\"Pixel-based classification layer has been imported.\")\n",
    "    except:\n",
    "        return_message.append(\"ERROR: Pixel-based classification layer has not been imported. Please check for problem.\")\n",
    "     \n",
    "    #Import the tiles only of a specific 'timeclass'\n",
    "    condition = \"timeclass=%s\"%timeclass\n",
    "    try:\n",
    "        gscript.run_command('v.in.ogr', overwrite=True, input=tile_file, output='cutline', \n",
    "                            where=condition, key='cat') \n",
    "        #gscript.run_command('v.external', overwrite=True, input=tile_file, output='timeclass_%s'%timeclass, where=condition) \n",
    "        return_message.append(\"Tiles with condition 'timeclass=%s' has been imported.\"%timeclass)\n",
    "    except:\n",
    "        return_message.append(\"ERROR: Tiles has not been imported. Please check for problem.\"%timeclass)\n",
    "\n",
    "    # Get a list with unique 'cat' of cutlines tile\n",
    "    cutlines_cats = list(gscript.parse_command('v.db.select', flags='c', map='cutline', columns='cat'))\n",
    "            \n",
    "    #Return\n",
    "    return return_message, cutlines_cats"
   ]
  },
  {
   "cell_type": "markdown",
   "metadata": {},
   "source": [
    "**-_-_-_-_-_-_-_-_-_-_-_-_-_-_-_-_-_-_-_-_-_-_-_-_-_-_-_-_-_-_-_-_-_-_-_-_-_-_-_-_-_-_-_-_-_-_-_-_-_-_-_-_-_-_-_-_-_-_-_-_-**"
   ]
  },
  {
   "cell_type": "markdown",
   "metadata": {},
   "source": [
    "## Create new directories"
   ]
  },
  {
   "cell_type": "code",
   "execution_count": 94,
   "metadata": {},
   "outputs": [
    {
     "name": "stdout",
     "output_type": "stream",
     "text": [
      "The folder '../../../Results/Training_sample' has been created\n"
     ]
    }
   ],
   "source": [
    "# Output folder stat\n",
    "config_parameters['outputfolder_training_sample'] = os.path.join(config_parameters['outputfolder'],\"Training_sample\")\n",
    "# Check and create folder if needed\n",
    "check_create_dir(config_parameters['outputfolder_training_sample'])"
   ]
  },
  {
   "cell_type": "markdown",
   "metadata": {},
   "source": [
    "# Create mapsets with input data for the processing"
   ]
  },
  {
   "cell_type": "markdown",
   "metadata": {},
   "source": [
    "## OBIA land cover"
   ]
  },
  {
   "cell_type": "code",
   "execution_count": 13,
   "metadata": {},
   "outputs": [
    {
     "data": {
      "text/plain": [
       "[\"Location 'WALOUS_31370' already exist\",\n",
       " \"'OBIA' mapset already exists in location 'WALOUS_31370'\",\n",
       " \"You are now working in mapset 'WALOUS_31370/OBIA'\"]"
      ]
     },
     "execution_count": 13,
     "metadata": {},
     "output_type": "execute_result"
    }
   ],
   "source": [
    "# Create mapset \n",
    "launch_mapset(\"OBIA\")"
   ]
  },
  {
   "cell_type": "code",
   "execution_count": 14,
   "metadata": {
    "collapsed": true
   },
   "outputs": [],
   "source": [
    "list_of_obia_raster = []\n",
    "for zone in (\"ARLON\",\"CHARLEROI\",\"MARCHE\",\"HERVE\"):\n",
    "    list_file = glob.glob(os.path.join(data['obia_folder'],zone,\"SEGMENTS\",\"segs_*.tif\"))\n",
    "    [list_of_obia_raster.append((os.path.splitext(a)[0].split(os.sep)[-1],a)) for a in list_file]"
   ]
  },
  {
   "cell_type": "code",
   "execution_count": 15,
   "metadata": {
    "scrolled": true
   },
   "outputs": [
    {
     "name": "stdout",
     "output_type": "stream",
     "text": [
      "('segs_arlon_147385', '../../../Data/obia_2016/ARLON/SEGMENTS/segs_arlon_147385.tif')\n",
      "('segs_arlon_147480', '../../../Data/obia_2016/ARLON/SEGMENTS/segs_arlon_147480.tif')\n",
      "('segs_arlon_147783', '../../../Data/obia_2016/ARLON/SEGMENTS/segs_arlon_147783.tif')\n",
      "('segs_charleroi_147376', '../../../Data/obia_2016/CHARLEROI/SEGMENTS/segs_charleroi_147376.tif')\n",
      "('segs_charleroi_147332', '../../../Data/obia_2016/CHARLEROI/SEGMENTS/segs_charleroi_147332.tif')\n",
      "('segs_charleroi_147333', '../../../Data/obia_2016/CHARLEROI/SEGMENTS/segs_charleroi_147333.tif')\n",
      "('segs_charleroi_147375', '../../../Data/obia_2016/CHARLEROI/SEGMENTS/segs_charleroi_147375.tif')\n",
      "('segs_marche_147109', '../../../Data/obia_2016/MARCHE/SEGMENTS/segs_marche_147109.tif')\n",
      "('segs_herve_146555', '../../../Data/obia_2016/HERVE/SEGMENTS/segs_herve_146555.tif')\n",
      "('segs_herve_146894', '../../../Data/obia_2016/HERVE/SEGMENTS/segs_herve_146894.tif')\n",
      "('segs_herve_147343', '../../../Data/obia_2016/HERVE/SEGMENTS/segs_herve_147343.tif')\n",
      "('segs_herve_147324', '../../../Data/obia_2016/HERVE/SEGMENTS/segs_herve_147324.tif')\n",
      "('segs_herve_146892', '../../../Data/obia_2016/HERVE/SEGMENTS/segs_herve_146892.tif')\n"
     ]
    }
   ],
   "source": [
    "for a in list_of_obia_raster:\n",
    "    print a"
   ]
  },
  {
   "cell_type": "code",
   "execution_count": null,
   "metadata": {
    "collapsed": true
   },
   "outputs": [],
   "source": [
    "# Import individual segmentation raster (for each zone and timeclass)\n",
    "for rast in list_of_obia_raster:\n",
    "    gscript.run_command('r.in.gdal', overwrite=True, input=rast[1] , output=rast[0])"
   ]
  },
  {
   "cell_type": "code",
   "execution_count": 17,
   "metadata": {
    "scrolled": true
   },
   "outputs": [
    {
     "data": {
      "text/plain": [
       "0"
      ]
     },
     "execution_count": 17,
     "metadata": {},
     "output_type": "execute_result"
    }
   ],
   "source": [
    "# Create virtual raster\n",
    "gscript.run_command('r.buildvrt', overwrite=True, \n",
    "                    input=\",\".join([a[0] for a in list_of_obia_raster]), \n",
    "                    output='segmentation')"
   ]
  },
  {
   "cell_type": "markdown",
   "metadata": {},
   "source": [
    "## Pixel ortho land cover"
   ]
  },
  {
   "cell_type": "code",
   "execution_count": 33,
   "metadata": {},
   "outputs": [
    {
     "data": {
      "text/plain": [
       "[\"Location 'WALOUS_31370' already exist\",\n",
       " \"'PIXEL_ORTHO_LC' mapset created in location 'WALOUS_31370'\",\n",
       " \"You are now working in mapset 'WALOUS_31370/PIXEL_ORTHO_LC'\"]"
      ]
     },
     "execution_count": 33,
     "metadata": {},
     "output_type": "execute_result"
    }
   ],
   "source": [
    "# Create mapset \n",
    "launch_mapset(\"PIXEL_ORTHO_LC\")"
   ]
  },
  {
   "cell_type": "code",
   "execution_count": 40,
   "metadata": {
    "collapsed": true
   },
   "outputs": [],
   "source": [
    "# Define input data\n",
    "inputs = data['ortho_lc']\n",
    "# Define tile number (average)\n",
    "tile_number = 2000"
   ]
  },
  {
   "cell_type": "code",
   "execution_count": null,
   "metadata": {
    "collapsed": true
   },
   "outputs": [],
   "source": [
    "### Create VRT\n",
    "# Import raster \n",
    "gscript.run_command('r.in.gdal', overwrite=True, input=input_data[1] , output=input_data[0])\n",
    "# Get raster information\n",
    "info = gscript.raster_info(input_data[0])\n",
    "# Tile raster \n",
    "gscript.run_command('r.tile', overwrite=True, input=input_data[0], output=\"%s_tile\"%input_data[0],\n",
    "                    width=math.ceil(int(info.cols)/math.sqrt(tile_number)), \n",
    "                    height=math.ceil(int(info.rows)/math.sqrt(tile_number)))\n",
    "# Get a list of tiles name\n",
    "list_of_tile_raster = gscript.list_strings(type='raster',pattern=\"%s_tile*\"%input_data[0])\n",
    "# Create virtual raster\n",
    "gscript.run_command('r.buildvrt', overwrite=True, \n",
    "                    input=\",\".join(list_of_tile_raster), \n",
    "                    output=input_data[0])"
   ]
  },
  {
   "cell_type": "markdown",
   "metadata": {},
   "source": [
    "## Pixel SENTINEL (land cover and Sent2Agri)"
   ]
  },
  {
   "cell_type": "code",
   "execution_count": 21,
   "metadata": {},
   "outputs": [
    {
     "data": {
      "text/plain": [
       "[\"Location 'WALOUS_31370' already exist\",\n",
       " \"'PIXEL_SENTINEL' mapset already exists in location 'WALOUS_31370'\",\n",
       " \"You are now working in mapset 'WALOUS_31370/PIXEL_SENTINEL'\"]"
      ]
     },
     "execution_count": 21,
     "metadata": {},
     "output_type": "execute_result"
    }
   ],
   "source": [
    "# Create mapset \n",
    "launch_mapset(\"PIXEL_SENTINEL\")"
   ]
  },
  {
   "cell_type": "code",
   "execution_count": 26,
   "metadata": {
    "collapsed": true
   },
   "outputs": [],
   "source": [
    "# Define input data\n",
    "inputs = [data['senti_lc'], data['senti2agri']]\n",
    "\n",
    "# Define tile number (average)\n",
    "tile_number = 400\n",
    "\n",
    "# Create VRT\n",
    "for input_data in inputs:\n",
    "    # Import raster \n",
    "    gscript.run_command('r.in.gdal', overwrite=True, input=input_data[1] , output=input_data[0])\n",
    "    # Get raster information\n",
    "    info = gscript.raster_info(input_data[0])\n",
    "    # Tile raster \n",
    "    gscript.run_command('r.tile', overwrite=True, input=input_data[0], output=\"%s_tile\"%input_data[0],\n",
    "                        width=math.ceil(int(info.cols)/math.sqrt(tile_number)), \n",
    "                        height=math.ceil(int(info.rows)/math.sqrt(tile_number)))\n",
    "    # Get a list of tiles name\n",
    "    list_of_tile_raster = gscript.list_strings(type='raster',pattern=\"%s_tile*\"%input_data[0])\n",
    "    # Create virtual raster\n",
    "    gscript.run_command('r.buildvrt', overwrite=True, \n",
    "                        input=\",\".join(list_of_tile_raster),\n",
    "                        output=input_data[0])"
   ]
  },
  {
   "cell_type": "markdown",
   "metadata": {},
   "source": [
    "## Binaries from vectorial reference data (Squelette vectoriel, SIGEC, masque forestier)"
   ]
  },
  {
   "cell_type": "code",
   "execution_count": 98,
   "metadata": {},
   "outputs": [
    {
     "data": {
      "text/plain": [
       "[\"Location 'WALOUS_31370' already exist\",\n",
       " \"'BINARIES' mapset already exists in location 'WALOUS_31370'\",\n",
       " \"You are now working in mapset 'WALOUS_31370/BINARIES'\"]"
      ]
     },
     "execution_count": 98,
     "metadata": {},
     "output_type": "execute_result"
    }
   ],
   "source": [
    "# Create mapset \n",
    "launch_mapset(\"BINARIES\")"
   ]
  },
  {
   "cell_type": "markdown",
   "metadata": {},
   "source": [
    "**SIGEC agricultural plots + GEMBLOUX forest mask**"
   ]
  },
  {
   "cell_type": "code",
   "execution_count": 50,
   "metadata": {
    "collapsed": true
   },
   "outputs": [],
   "source": [
    "# Define input data\n",
    "inputs = [data['binary_agri'], data['binary_forest']]\n",
    "# Define tile number (average)\n",
    "tile_number = 600\n",
    "\n",
    "# Create VRT\n",
    "for input_data in inputs:\n",
    "    # Import raster \n",
    "    gscript.run_command('r.in.gdal', overwrite=True, input=input_data[1] , output=input_data[0])\n",
    "    # Get raster information\n",
    "    info = gscript.raster_info(input_data[0])\n",
    "    # Tile raster \n",
    "    gscript.run_command('r.tile', overwrite=True, input=input_data[0], output=\"%s_tile\"%input_data[0],\n",
    "                        width=math.ceil(int(info.cols)/math.sqrt(tile_number)), \n",
    "                        height=math.ceil(int(info.rows)/math.sqrt(tile_number)))\n",
    "    # Get a list of tiles name\n",
    "    list_of_tile_raster = gscript.list_strings(type='raster',pattern=\"%s_tile*\"%input_data[0])\n",
    "    # Create virtual raster\n",
    "    gscript.run_command('r.buildvrt', overwrite=True, \n",
    "                        input=\",\".join(list_of_tile_raster),\n",
    "                        output=input_data[0])"
   ]
  },
  {
   "cell_type": "markdown",
   "metadata": {},
   "source": [
    "**Vectorial skeletton (road network, hydrological ways, buildings)**"
   ]
  },
  {
   "cell_type": "code",
   "execution_count": 99,
   "metadata": {
    "collapsed": true
   },
   "outputs": [],
   "source": [
    "# Define input data\n",
    "inputs = [data['binary_roadnet'], data['binary_hydro'], data['binary_built']]\n",
    "# Define tile number (average)\n",
    "tile_number = 1500\n",
    "\n",
    "# Create VRT\n",
    "for input_data in inputs:\n",
    "    # Import raster \n",
    "    gscript.run_command('r.in.gdal', overwrite=True, input=input_data[1] , output=input_data[0])\n",
    "    # Get raster information\n",
    "    info = gscript.raster_info(input_data[0])\n",
    "    # Tile raster \n",
    "    gscript.run_command('r.tile', overwrite=True, input=input_data[0], output=\"%s_tile\"%input_data[0],\n",
    "                        width=math.ceil(int(info.cols)/math.sqrt(tile_number)), \n",
    "                        height=math.ceil(int(info.rows)/math.sqrt(tile_number)))\n",
    "    # Get a list of tiles name\n",
    "    list_of_tile_raster = gscript.list_strings(type='raster',pattern=\"%s_tile*\"%input_data[0])\n",
    "    # Create virtual raster\n",
    "    gscript.run_command('r.buildvrt', overwrite=True, \n",
    "                        input=\",\".join(list_of_tile_raster),\n",
    "                        output=input_data[0])"
   ]
  },
  {
   "cell_type": "markdown",
   "metadata": {},
   "source": [
    "## Other data (Tiles vector layer, training points)"
   ]
  },
  {
   "cell_type": "code",
   "execution_count": 52,
   "metadata": {
    "scrolled": true
   },
   "outputs": [
    {
     "data": {
      "text/plain": [
       "[\"Location 'WALOUS_31370' already exist\",\n",
       " \"'PERMANENT' mapset already exists in location 'WALOUS_31370'\",\n",
       " \"You are now working in mapset 'WALOUS_31370/PERMANENT'\"]"
      ]
     },
     "execution_count": 52,
     "metadata": {},
     "output_type": "execute_result"
    }
   ],
   "source": [
    "# Create mapset \n",
    "launch_mapset(\"PERMANENT\")"
   ]
  },
  {
   "cell_type": "code",
   "execution_count": 93,
   "metadata": {},
   "outputs": [
    {
     "data": {
      "text/plain": [
       "0"
      ]
     },
     "execution_count": 93,
     "metadata": {},
     "output_type": "execute_result"
    }
   ],
   "source": [
    "# Allow access to other mapsets\n",
    "gscript.run_command('g.mapsets', mapset='OBIA', operation='add')"
   ]
  },
  {
   "cell_type": "markdown",
   "metadata": {
    "collapsed": true
   },
   "source": [
    "**Import tiles of OBIA processing**"
   ]
  },
  {
   "cell_type": "code",
   "execution_count": 58,
   "metadata": {},
   "outputs": [
    {
     "data": {
      "text/plain": [
       "0"
      ]
     },
     "execution_count": 58,
     "metadata": {},
     "output_type": "execute_result"
    }
   ],
   "source": [
    "# Import vector\n",
    "gscript.run_command('v.in.ogr', overwrite=True, input=data['tiles'][1], output=data['tiles'][0], key='cat')"
   ]
  },
  {
   "cell_type": "markdown",
   "metadata": {
    "collapsed": true
   },
   "source": [
    "**Import training points, get value of segment ID and export as .csv file**"
   ]
  },
  {
   "cell_type": "code",
   "execution_count": 92,
   "metadata": {},
   "outputs": [
    {
     "data": {
      "text/plain": [
       "0"
      ]
     },
     "execution_count": 92,
     "metadata": {},
     "output_type": "execute_result"
    }
   ],
   "source": [
    "# Import vector\n",
    "gscript.run_command('v.in.ogr', overwrite=True, input=data['training_points'][1], output=data['training_points'][0])"
   ]
  },
  {
   "cell_type": "code",
   "execution_count": 96,
   "metadata": {},
   "outputs": [
    {
     "data": {
      "text/plain": [
       "0"
      ]
     },
     "execution_count": 96,
     "metadata": {},
     "output_type": "execute_result"
    }
   ],
   "source": [
    "# Add seg_id in attribute table\n",
    "gscript.run_command('v.db.addcolumn', map=data['training_points'][0], columns=\"seg_id integer\")\n",
    "gscript.run_command('g.region', raster='segmentation')\n",
    "gscript.run_command('v.what.rast', map=data['training_points'][0], raster='segmentation', column='seg_id')\n",
    "# Export attribute table as .csv\n",
    "output_file = os.path.join(config_parameters['outputfolder_training_sample'],'training_points')\n",
    "gscript.run_command('v.db.select', overwrite=True, \n",
    "                    map=data['training_points'][0], separator='comma', file=output_file)"
   ]
  },
  {
   "cell_type": "code",
   "execution_count": null,
   "metadata": {
    "collapsed": true
   },
   "outputs": [],
   "source": []
  }
 ],
 "metadata": {
  "kernelspec": {
   "display_name": "Python 2",
   "language": "python",
   "name": "python2"
  },
  "language_info": {
   "codemirror_mode": {
    "name": "ipython",
    "version": 2
   },
   "file_extension": ".py",
   "mimetype": "text/x-python",
   "name": "python",
   "nbconvert_exporter": "python",
   "pygments_lexer": "ipython2",
   "version": "2.7.12"
  }
 },
 "nbformat": 4,
 "nbformat_minor": 2
}
