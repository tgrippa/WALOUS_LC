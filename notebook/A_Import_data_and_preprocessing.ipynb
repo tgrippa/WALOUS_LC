{
 "cells": [
  {
   "cell_type": "markdown",
   "metadata": {},
   "source": [
    "<p><strong><font size=\"6\">WALOUS</font></strong></p>"
   ]
  },
  {
   "cell_type": "markdown",
   "metadata": {},
   "source": [
    "<p><strong><font size=\"6\">Fusion LC classifications results</font></strong></p>"
   ]
  },
  {
   "cell_type": "markdown",
   "metadata": {},
   "source": [
    "<p><strong><font size=\"6\">Import data and preprocessing</font></strong></p>"
   ]
  },
  {
   "cell_type": "markdown",
   "metadata": {},
   "source": [
    "This python code implement the method developed by ANAGEO (ULB). \n",
    "\n",
    "Code developped on Linux Mint 18.1 (Ubuntu Xenial 16.04) and GRASS GIS 7.3.svn (r71315)."
   ]
  },
  {
   "cell_type": "markdown",
   "metadata": {},
   "source": [
    "# Table of Contents"
   ]
  },
  {
   "cell_type": "markdown",
   "metadata": {},
   "source": [
    "<div id=\"toc\"></div>"
   ]
  },
  {
   "cell_type": "markdown",
   "metadata": {},
   "source": [
    "The following cell is a Javascript section of code for building the Jupyter notebook's table of content."
   ]
  },
  {
   "cell_type": "code",
   "execution_count": 1,
   "metadata": {},
   "outputs": [
    {
     "data": {
      "application/javascript": [
       "$.getScript('https://kmahelona.github.io/ipython_notebook_goodies/ipython_notebook_toc.js')"
      ],
      "text/plain": [
       "<IPython.core.display.Javascript object>"
      ]
     },
     "metadata": {},
     "output_type": "display_data"
    }
   ],
   "source": [
    "%%javascript\n",
    "$.getScript('https://kmahelona.github.io/ipython_notebook_goodies/ipython_notebook_toc.js')"
   ]
  },
  {
   "cell_type": "markdown",
   "metadata": {},
   "source": [
    "# Define working environment"
   ]
  },
  {
   "cell_type": "markdown",
   "metadata": {},
   "source": [
    "**Import libraries**"
   ]
  },
  {
   "cell_type": "code",
   "execution_count": 2,
   "metadata": {
    "collapsed": true
   },
   "outputs": [],
   "source": [
    "# Import libraries needed for setting parameters of operating system \n",
    "import os\n",
    "import sys\n",
    "import csv\n",
    "import tempfile\n",
    "import glob\n",
    "import math\n",
    "import pickle"
   ]
  },
  {
   "cell_type": "code",
   "execution_count": 3,
   "metadata": {
    "collapsed": true
   },
   "outputs": [],
   "source": [
    "## Import multiprocessing and functools libraries\n",
    "import multiprocessing\n",
    "from multiprocessing import Pool\n",
    "from functools import partial"
   ]
  },
  {
   "cell_type": "markdown",
   "metadata": {},
   "source": [
    "** Add folder with SCR provided belong to this notebook**"
   ]
  },
  {
   "cell_type": "code",
   "execution_count": 4,
   "metadata": {
    "collapsed": true
   },
   "outputs": [],
   "source": [
    "# Add local module to the path\n",
    "src = os.path.abspath('../SRC')\n",
    "if src not in sys.path:\n",
    "    sys.path.append(src)"
   ]
  },
  {
   "cell_type": "markdown",
   "metadata": {},
   "source": [
    "** Setup environment variables for TAIS DESKTOP (Linux Mint + GRASS Dev) **"
   ]
  },
  {
   "cell_type": "markdown",
   "metadata": {},
   "source": [
    "Please edit the file in `../SRC/config.py`, containing the configuration parameters, according to your own computer setup. The following cell is used to run this file.\n",
    "\n"
   ]
  },
  {
   "cell_type": "code",
   "execution_count": 5,
   "metadata": {
    "collapsed": true,
    "scrolled": true
   },
   "outputs": [],
   "source": [
    "run ../SRC/config.py"
   ]
  },
  {
   "cell_type": "code",
   "execution_count": 6,
   "metadata": {
    "scrolled": true
   },
   "outputs": [
    {
     "name": "stdout",
     "output_type": "stream",
     "text": [
      "{'outputfolder_classifRF_tiles': '../../../Results/Classif_RF/classif_tiles', 'outputfolder_classifRF': '../../../Results/Classif_RF', 'outputfolder_Logfile': '../../../Results/Log_file', 'permanent_mapset': 'PERMANENT', 'outputfolder_training_sample': '../../../Results/Training_sample', 'locationepsg': '31370', 'outputfolder': '../../../Results', 'list_tiles': '../../../Results/list_tiles', 'pixel_classes_list': '../../../Results/pixel_classes_list', 'outputfolder_classifRF_csv': '../../../Results/Classif_RF/classif_csv', 'gisdb': '../../GRASSDATA', 'location': 'WALOUS_31370', 'outputfolder_classfeatures': '../../../Results/Classification_features', 'PYTHONLIB': '/usr/lib/python2.7', 'njobs': 6, 'rf_trained_model': '../../../Results/Classif_RF/rf_trained_model.rda', 'GISBASE': '/usr/lib/grass76'}\n"
     ]
    }
   ],
   "source": [
    "print config_parameters"
   ]
  },
  {
   "cell_type": "code",
   "execution_count": 7,
   "metadata": {
    "collapsed": true
   },
   "outputs": [],
   "source": [
    "# Import functions that setup the environmental variables\n",
    "import environ_variables as envi"
   ]
  },
  {
   "cell_type": "code",
   "execution_count": 8,
   "metadata": {
    "scrolled": true
   },
   "outputs": [
    {
     "name": "stdout",
     "output_type": "stream",
     "text": [
      "MDMSESSION = mate \t\n",
      "MANDATORY_PATH = /usr/share/gconf/mate.mandatory.path \t\n",
      "MATE_DESKTOP_SESSION_ID = this-is-deprecated \t\n",
      "LESSOPEN = | /usr/bin/lesspipe %s \t\n",
      "MDM_LANG = fr_BE.UTF-8 \t\n",
      "LOGNAME = tais \t\n",
      "USER = tais \t\n",
      "HOME = /home/tais \t\n",
      "XDG_VTNR = 8 \t\n",
      "PATH = /usr/local/bin:/home/tais/BIN:/home/tais/bin:/home/tais/.local/bin:/usr/local/sbin:/usr/local/bin:/usr/sbin:/usr/bin:/sbin:/bin:/usr/games:/usr/local/games:/usr/lib/grass76/bin:/usr/lib/grass76/script:/usr/lib/grass76/lib \t\n",
      "CLICOLOR = 1 \t\n",
      "DISPLAY = :0.0 \t\n",
      "SSH_AGENT_PID = 1986 \t\n",
      "LANG = fr_BE.UTF-8 \t\n",
      "TERM = xterm-color \t\n",
      "SHELL = /bin/bash \t\n",
      "GIS_LOCK = $$ \t\n",
      "XAUTHORITY = /home/tais/.Xauthority \t\n",
      "SESSION_MANAGER = local/tais-HP-Z620-Workstation:@/tmp/.ICE-unix/1915,unix/tais-HP-Z620-Workstation:/tmp/.ICE-unix/1915 \t\n",
      "SHLVL = 1 \t\n",
      "QT_LINUX_ACCESSIBILITY_ALWAYS_ON = 1 \t\n",
      "INSIDE_CAJA_PYTHON =  \t\n",
      "QT_ACCESSIBILITY = 1 \t\n",
      "LD_LIBRARY_PATH = :/usr/lib/grass76/lib \t\n",
      "COMPIZ_CONFIG_PROFILE = mate \t\n",
      "WINDOWPATH = 8 \t\n",
      "GTK_OVERLAY_SCROLLING = 0 \t\n",
      "PYTHONPATH = :/usr/lib/grass76/etc/python:/usr/lib/grass76/etc/python/grass:/usr/lib/grass76/etc/python/grass/script \t\n",
      "GISBASE = /usr/lib/grass76 \t\n",
      "CLUTTER_BACKEND = x11 \t\n",
      "USERNAME = tais \t\n",
      "XDG_SESSION_DESKTOP = mate \t\n",
      "GDM_XSERVER_LOCATION = local \t\n",
      "XDG_RUNTIME_DIR = /run/user/1000 \t\n",
      "JPY_PARENT_PID = 24090 \t\n",
      "QT_STYLE_OVERRIDE = gtk \t\n",
      "SSH_AUTH_SOCK = /run/user/1000/keyring/ssh \t\n",
      "VTE_VERSION = 4205 \t\n",
      "GDMSESSION = mate \t\n",
      "GISRC = /home/tais/.grass7/rc \t\n",
      "GIT_PAGER = cat \t\n",
      "XDG_CONFIG_DIRS = /etc/xdg/xdg-mate:/etc/xdg \t\n",
      "XDG_CURRENT_DESKTOP = MATE \t\n",
      "XDG_SESSION_ID = c1 \t\n",
      "DBUS_SESSION_BUS_ADDRESS = unix:abstract=/tmp/dbus-Cdbeh7LCdd,guid=a02767871f27bb60d182f0b15cf7a7c8 \t\n",
      "_ = /usr/local/bin/jupyter \t\n",
      "XDG_SESSION_COOKIE = 8441891e86e24d76b9616edf516d5734-1559734215.914737-1689936333 \t\n",
      "DESKTOP_SESSION = mate \t\n",
      "WINDOWID = 69206022 \t\n",
      "LESSCLOSE = /usr/bin/lesspipe %s %s \t\n",
      "DEFAULTS_PATH = /usr/share/gconf/mate.default.path \t\n",
      "MPLBACKEND = module://ipykernel.pylab.backend_inline \t\n",
      "MDM_XSERVER_LOCATION = local \t\n",
      "GTK_MODULES = gail:atk-bridge \t\n",
      "XDG_DATA_DIRS = /usr/share/mate:/usr/local/share/:/usr/share/:/usr/share/mdm/ \t\n",
      "PWD = /media/tais/data/WALOUS/Processing \t\n",
      "COLORTERM = mate-terminal \t\n",
      "PYTHONLIB = /usr/lib/python2.7 \t\n",
      "LS_COLORS = rs=0:di=01;34:ln=01;36:mh=00:pi=40;33:so=01;35:do=01;35:bd=40;33;01:cd=40;33;01:or=40;31;01:mi=00:su=37;41:sg=30;43:ca=30;41:tw=30;42:ow=34;42:st=37;44:ex=01;32:*.tar=01;31:*.tgz=01;31:*.arc=01;31:*.arj=01;31:*.taz=01;31:*.lha=01;31:*.lz4=01;31:*.lzh=01;31:*.lzma=01;31:*.tlz=01;31:*.txz=01;31:*.tzo=01;31:*.t7z=01;31:*.zip=01;31:*.z=01;31:*.Z=01;31:*.dz=01;31:*.gz=01;31:*.lrz=01;31:*.lz=01;31:*.lzo=01;31:*.xz=01;31:*.bz2=01;31:*.bz=01;31:*.tbz=01;31:*.tbz2=01;31:*.tz=01;31:*.deb=01;31:*.rpm=01;31:*.jar=01;31:*.war=01;31:*.ear=01;31:*.sar=01;31:*.rar=01;31:*.alz=01;31:*.ace=01;31:*.zoo=01;31:*.cpio=01;31:*.7z=01;31:*.rz=01;31:*.cab=01;31:*.jpg=01;35:*.jpeg=01;35:*.gif=01;35:*.bmp=01;35:*.pbm=01;35:*.pgm=01;35:*.ppm=01;35:*.tga=01;35:*.xbm=01;35:*.xpm=01;35:*.tif=01;35:*.tiff=01;35:*.png=01;35:*.svg=01;35:*.svgz=01;35:*.mng=01;35:*.pcx=01;35:*.mov=01;35:*.mpg=01;35:*.mpeg=01;35:*.m2v=01;35:*.mkv=01;35:*.webm=01;35:*.ogm=01;35:*.mp4=01;35:*.m4v=01;35:*.mp4v=01;35:*.vob=01;35:*.qt=01;35:*.nuv=01;35:*.wmv=01;35:*.asf=01;35:*.rm=01;35:*.rmvb=01;35:*.flc=01;35:*.avi=01;35:*.fli=01;35:*.flv=01;35:*.gl=01;35:*.dl=01;35:*.xcf=01;35:*.xwd=01;35:*.yuv=01;35:*.cgm=01;35:*.emf=01;35:*.ogv=01;35:*.ogx=01;35:*.aac=00;36:*.au=00;36:*.flac=00;36:*.m4a=00;36:*.mid=00;36:*.midi=00;36:*.mka=00;36:*.mp3=00;36:*.mpc=00;36:*.ogg=00;36:*.ra=00;36:*.wav=00;36:*.oga=00;36:*.opus=00;36:*.spx=00;36:*.xspf=00;36: \t\n",
      "PAGER = cat \t\n",
      "XDG_SEAT = seat0 \t\n"
     ]
    }
   ],
   "source": [
    "# Set environmental variables\n",
    "envi.setup_environmental_variables() \n",
    "# Display current environment variables of your computer\n",
    "envi.print_environmental_variables()"
   ]
  },
  {
   "cell_type": "markdown",
   "metadata": {},
   "source": [
    "** GRASS GIS Python libraries **"
   ]
  },
  {
   "cell_type": "code",
   "execution_count": 9,
   "metadata": {
    "collapsed": true
   },
   "outputs": [],
   "source": [
    "# Import libraries needed to launch GRASS GIS in the jupyter notebook\n",
    "import grass.script.setup as gsetup\n",
    "# Import libraries needed to call GRASS using Python\n",
    "import grass.script as gscript"
   ]
  },
  {
   "cell_type": "markdown",
   "metadata": {},
   "source": [
    "** Other functions**"
   ]
  },
  {
   "cell_type": "code",
   "execution_count": 10,
   "metadata": {
    "collapsed": true
   },
   "outputs": [],
   "source": [
    "# Import function that check existance and create GRASS GIS database folder if needed\n",
    "from grass_database import check_gisdb, check_location, check_mapset, working_mapset\n",
    "# Import functions for processing time information\n",
    "from processing_time import start_processing, print_processing_time\n",
    "# Import function that generate a random name in the GRASS GIS environement\n",
    "from random_layer_name import random_layer_name\n",
    "# Import function that check and create folder\n",
    "from mkdir import check_create_dir\n",
    "# Import function that check if GRASS GIS add-on is installed and install it if needed\n",
    "from gextension import check_install_addon\n",
    "# Import function that change .csv delimiter\n",
    "from ChangeCsvDelimiter import ChangeCsvDelimiter\n",
    "# Import function for .gzip archive management\n",
    "from gzip_management import decompress_gzip\n",
    "# Import function for getting list of class of a raster\n",
    "from data_prep import data_prep\n",
    "# Import function the allow sorting strings with number as if they was number (natural order)\n",
    "from sorting_natural import natural_keys"
   ]
  },
  {
   "cell_type": "markdown",
   "metadata": {},
   "source": [
    "**-_-_-_-_-_-_-_-_-_-_-_-_-_-_-_-_-_-_-_-_-_-_-_-_-_-_-_-_-_-_-_-_-_-_-_-_-_-_-_-_-_-_-_-_-_-_-_-_-_-_-_-_-_-_-_-_-_-_-_-_-**"
   ]
  },
  {
   "cell_type": "code",
   "execution_count": 11,
   "metadata": {
    "collapsed": true
   },
   "outputs": [],
   "source": [
    "def launch_mapset(mapset):\n",
    "    #Declare empty list that will contain the messages to return\n",
    "    return_message = []\n",
    "    # Check if the location exists and create it if not, with the CRS defined by the epsg code \n",
    "    return_message.append(check_location(config_parameters[\"gisdb\"],config_parameters['location'],config_parameters[\"locationepsg\"]))\n",
    "    # Check if mapset exists\n",
    "    return_message.append(check_mapset(config_parameters[\"gisdb\"],config_parameters['location'],mapset))\n",
    "    # Change the current working GRASS GIS session mapset\n",
    "    return_message.append(working_mapset(config_parameters[\"gisdb\"],config_parameters['location'],mapset))\n",
    "    # Return\n",
    "    return return_message"
   ]
  },
  {
   "cell_type": "markdown",
   "metadata": {},
   "source": [
    "**-_-_-_-_-_-_-_-_-_-_-_-_-_-_-_-_-_-_-_-_-_-_-_-_-_-_-_-_-_-_-_-_-_-_-_-_-_-_-_-_-_-_-_-_-_-_-_-_-_-_-_-_-_-_-_-_-_-_-_-_-**"
   ]
  },
  {
   "cell_type": "markdown",
   "metadata": {},
   "source": [
    "## Create new directories"
   ]
  },
  {
   "cell_type": "code",
   "execution_count": 12,
   "metadata": {},
   "outputs": [
    {
     "name": "stdout",
     "output_type": "stream",
     "text": [
      "The folder '../../../Results/Training_sample' has been created\n"
     ]
    }
   ],
   "source": [
    "# Check and create folder if needed\n",
    "check_create_dir(config_parameters['outputfolder_training_sample'])"
   ]
  },
  {
   "cell_type": "markdown",
   "metadata": {},
   "source": [
    "# Create mapsets with input data for the processing"
   ]
  },
  {
   "cell_type": "markdown",
   "metadata": {},
   "source": [
    "## OBIA land cover"
   ]
  },
  {
   "cell_type": "code",
   "execution_count": 17,
   "metadata": {},
   "outputs": [
    {
     "data": {
      "text/plain": [
       "[\"Location 'WALOUS_31370' already exist\",\n",
       " \"'OBIA' mapset already exists in location 'WALOUS_31370'\",\n",
       " \"You are now working in mapset 'WALOUS_31370/OBIA'\"]"
      ]
     },
     "execution_count": 17,
     "metadata": {},
     "output_type": "execute_result"
    }
   ],
   "source": [
    "# Create mapset \n",
    "launch_mapset(\"OBIA\")"
   ]
  },
  {
   "cell_type": "raw",
   "metadata": {
    "collapsed": true
   },
   "source": [
    "list_of_obia_raster = []\n",
    "for zone in (\"ARLON\",\"CHARLEROI\",\"MARCHE\",\"HERVE\"):\n",
    "    list_file = glob.glob(os.path.join(data['obia_folder'],zone,\"SEGMENTS\",\"segs_*.tif\"))\n",
    "    [list_of_obia_raster.append((os.path.splitext(a)[0].split(os.sep)[-1],a)) for a in list_file]"
   ]
  },
  {
   "cell_type": "code",
   "execution_count": 14,
   "metadata": {},
   "outputs": [
    {
     "name": "stdout",
     "output_type": "stream",
     "text": [
      "There are 374 paths in the list\n"
     ]
    }
   ],
   "source": [
    "# Create a list of paths to files with a specific name prefix\n",
    "list_of_obia_raster = []\n",
    "list_file = glob.glob(os.path.join(data['obia_folder'],\"SEGMENTS\",\"segs_tile_*.tif\"))\n",
    "print \"There are %s paths in the list\"%len(list_file)"
   ]
  },
  {
   "cell_type": "code",
   "execution_count": 15,
   "metadata": {
    "scrolled": true
   },
   "outputs": [
    {
     "name": "stdout",
     "output_type": "stream",
     "text": [
      "('segs_tile_2484', '../../../Data/obia_2018/SEGMENTS/segs_tile_2484.tif')\n",
      "('segs_tile_3510', '../../../Data/obia_2018/SEGMENTS/segs_tile_3510.tif')\n",
      "('segs_tile_5792', '../../../Data/obia_2018/SEGMENTS/segs_tile_5792.tif')\n",
      "('segs_tile_5337', '../../../Data/obia_2018/SEGMENTS/segs_tile_5337.tif')\n",
      "('segs_tile_2666', '../../../Data/obia_2018/SEGMENTS/segs_tile_2666.tif')\n",
      "('segs_tile_3872', '../../../Data/obia_2018/SEGMENTS/segs_tile_3872.tif')\n",
      "('segs_tile_6194', '../../../Data/obia_2018/SEGMENTS/segs_tile_6194.tif')\n",
      "('segs_tile_1843', '../../../Data/obia_2018/SEGMENTS/segs_tile_1843.tif')\n",
      "('segs_tile_1197', '../../../Data/obia_2018/SEGMENTS/segs_tile_1197.tif')\n",
      "('segs_tile_1253', '../../../Data/obia_2018/SEGMENTS/segs_tile_1253.tif')\n",
      "('segs_tile_5920', '../../../Data/obia_2018/SEGMENTS/segs_tile_5920.tif')\n",
      "('segs_tile_5758', '../../../Data/obia_2018/SEGMENTS/segs_tile_5758.tif')\n",
      "('segs_tile_4003', '../../../Data/obia_2018/SEGMENTS/segs_tile_4003.tif')\n",
      "('segs_tile_5464', '../../../Data/obia_2018/SEGMENTS/segs_tile_5464.tif')\n",
      "('segs_tile_5359', '../../../Data/obia_2018/SEGMENTS/segs_tile_5359.tif')\n",
      "('segs_tile_4344', '../../../Data/obia_2018/SEGMENTS/segs_tile_4344.tif')\n",
      "('segs_tile_5063', '../../../Data/obia_2018/SEGMENTS/segs_tile_5063.tif')\n",
      "('segs_tile_5931', '../../../Data/obia_2018/SEGMENTS/segs_tile_5931.tif')\n",
      "('segs_tile_2482', '../../../Data/obia_2018/SEGMENTS/segs_tile_2482.tif')\n",
      "('segs_tile_5064', '../../../Data/obia_2018/SEGMENTS/segs_tile_5064.tif')\n",
      "('segs_tile_2397', '../../../Data/obia_2018/SEGMENTS/segs_tile_2397.tif')\n",
      "('segs_tile_1894', '../../../Data/obia_2018/SEGMENTS/segs_tile_1894.tif')\n",
      "('segs_tile_5817', '../../../Data/obia_2018/SEGMENTS/segs_tile_5817.tif')\n",
      "('segs_tile_1895', '../../../Data/obia_2018/SEGMENTS/segs_tile_1895.tif')\n",
      "('segs_tile_305', '../../../Data/obia_2018/SEGMENTS/segs_tile_305.tif')\n",
      "('segs_tile_6351', '../../../Data/obia_2018/SEGMENTS/segs_tile_6351.tif')\n",
      "('segs_tile_1841', '../../../Data/obia_2018/SEGMENTS/segs_tile_1841.tif')\n",
      "('segs_tile_1875', '../../../Data/obia_2018/SEGMENTS/segs_tile_1875.tif')\n",
      "('segs_tile_185', '../../../Data/obia_2018/SEGMENTS/segs_tile_185.tif')\n",
      "('segs_tile_1893', '../../../Data/obia_2018/SEGMENTS/segs_tile_1893.tif')\n",
      "('segs_tile_1183', '../../../Data/obia_2018/SEGMENTS/segs_tile_1183.tif')\n",
      "('segs_tile_2039', '../../../Data/obia_2018/SEGMENTS/segs_tile_2039.tif')\n",
      "('segs_tile_3871', '../../../Data/obia_2018/SEGMENTS/segs_tile_3871.tif')\n",
      "('segs_tile_3098', '../../../Data/obia_2018/SEGMENTS/segs_tile_3098.tif')\n",
      "('segs_tile_2335', '../../../Data/obia_2018/SEGMENTS/segs_tile_2335.tif')\n",
      "('segs_tile_2045', '../../../Data/obia_2018/SEGMENTS/segs_tile_2045.tif')\n",
      "('segs_tile_5818', '../../../Data/obia_2018/SEGMENTS/segs_tile_5818.tif')\n",
      "('segs_tile_4157', '../../../Data/obia_2018/SEGMENTS/segs_tile_4157.tif')\n",
      "('segs_tile_4407', '../../../Data/obia_2018/SEGMENTS/segs_tile_4407.tif')\n",
      "('segs_tile_685', '../../../Data/obia_2018/SEGMENTS/segs_tile_685.tif')\n",
      "('segs_tile_2526', '../../../Data/obia_2018/SEGMENTS/segs_tile_2526.tif')\n",
      "('segs_tile_1792', '../../../Data/obia_2018/SEGMENTS/segs_tile_1792.tif')\n",
      "('segs_tile_656', '../../../Data/obia_2018/SEGMENTS/segs_tile_656.tif')\n",
      "('segs_tile_1914', '../../../Data/obia_2018/SEGMENTS/segs_tile_1914.tif')\n",
      "('segs_tile_630', '../../../Data/obia_2018/SEGMENTS/segs_tile_630.tif')\n",
      "('segs_tile_4781', '../../../Data/obia_2018/SEGMENTS/segs_tile_4781.tif')\n",
      "('segs_tile_4993', '../../../Data/obia_2018/SEGMENTS/segs_tile_4993.tif')\n",
      "('segs_tile_5820', '../../../Data/obia_2018/SEGMENTS/segs_tile_5820.tif')\n",
      "('segs_tile_413', '../../../Data/obia_2018/SEGMENTS/segs_tile_413.tif')\n",
      "('segs_tile_4692', '../../../Data/obia_2018/SEGMENTS/segs_tile_4692.tif')\n",
      "('segs_tile_2211', '../../../Data/obia_2018/SEGMENTS/segs_tile_2211.tif')\n",
      "('segs_tile_5830', '../../../Data/obia_2018/SEGMENTS/segs_tile_5830.tif')\n",
      "('segs_tile_5662', '../../../Data/obia_2018/SEGMENTS/segs_tile_5662.tif')\n",
      "('segs_tile_2517', '../../../Data/obia_2018/SEGMENTS/segs_tile_2517.tif')\n",
      "('segs_tile_4324', '../../../Data/obia_2018/SEGMENTS/segs_tile_4324.tif')\n",
      "('segs_tile_2334', '../../../Data/obia_2018/SEGMENTS/segs_tile_2334.tif')\n",
      "('segs_tile_1846', '../../../Data/obia_2018/SEGMENTS/segs_tile_1846.tif')\n",
      "('segs_tile_2527', '../../../Data/obia_2018/SEGMENTS/segs_tile_2527.tif')\n",
      "('segs_tile_5851', '../../../Data/obia_2018/SEGMENTS/segs_tile_5851.tif')\n",
      "('segs_tile_711', '../../../Data/obia_2018/SEGMENTS/segs_tile_711.tif')\n",
      "('segs_tile_2483', '../../../Data/obia_2018/SEGMENTS/segs_tile_2483.tif')\n",
      "('segs_tile_4108', '../../../Data/obia_2018/SEGMENTS/segs_tile_4108.tif')\n",
      "('segs_tile_1180', '../../../Data/obia_2018/SEGMENTS/segs_tile_1180.tif')\n",
      "('segs_tile_3719', '../../../Data/obia_2018/SEGMENTS/segs_tile_3719.tif')\n",
      "('segs_tile_2821', '../../../Data/obia_2018/SEGMENTS/segs_tile_2821.tif')\n",
      "('segs_tile_2772', '../../../Data/obia_2018/SEGMENTS/segs_tile_2772.tif')\n",
      "('segs_tile_259', '../../../Data/obia_2018/SEGMENTS/segs_tile_259.tif')\n",
      "('segs_tile_680', '../../../Data/obia_2018/SEGMENTS/segs_tile_680.tif')\n",
      "('segs_tile_3629', '../../../Data/obia_2018/SEGMENTS/segs_tile_3629.tif')\n",
      "('segs_tile_5761', '../../../Data/obia_2018/SEGMENTS/segs_tile_5761.tif')\n",
      "('segs_tile_187', '../../../Data/obia_2018/SEGMENTS/segs_tile_187.tif')\n",
      "('segs_tile_2139', '../../../Data/obia_2018/SEGMENTS/segs_tile_2139.tif')\n",
      "('segs_tile_2021', '../../../Data/obia_2018/SEGMENTS/segs_tile_2021.tif')\n",
      "('segs_tile_2017', '../../../Data/obia_2018/SEGMENTS/segs_tile_2017.tif')\n",
      "('segs_tile_5360', '../../../Data/obia_2018/SEGMENTS/segs_tile_5360.tif')\n",
      "('segs_tile_2198', '../../../Data/obia_2018/SEGMENTS/segs_tile_2198.tif')\n",
      "('segs_tile_401', '../../../Data/obia_2018/SEGMENTS/segs_tile_401.tif')\n",
      "('segs_tile_3054', '../../../Data/obia_2018/SEGMENTS/segs_tile_3054.tif')\n",
      "('segs_tile_4146', '../../../Data/obia_2018/SEGMENTS/segs_tile_4146.tif')\n",
      "('segs_tile_1876', '../../../Data/obia_2018/SEGMENTS/segs_tile_1876.tif')\n",
      "('segs_tile_5934', '../../../Data/obia_2018/SEGMENTS/segs_tile_5934.tif')\n",
      "('segs_tile_3830', '../../../Data/obia_2018/SEGMENTS/segs_tile_3830.tif')\n",
      "('segs_tile_5320', '../../../Data/obia_2018/SEGMENTS/segs_tile_5320.tif')\n",
      "('segs_tile_4808', '../../../Data/obia_2018/SEGMENTS/segs_tile_4808.tif')\n",
      "('segs_tile_3839', '../../../Data/obia_2018/SEGMENTS/segs_tile_3839.tif')\n",
      "('segs_tile_2042', '../../../Data/obia_2018/SEGMENTS/segs_tile_2042.tif')\n",
      "('segs_tile_2141', '../../../Data/obia_2018/SEGMENTS/segs_tile_2141.tif')\n",
      "('segs_tile_260', '../../../Data/obia_2018/SEGMENTS/segs_tile_260.tif')\n",
      "('segs_tile_3512', '../../../Data/obia_2018/SEGMENTS/segs_tile_3512.tif')\n",
      "('segs_tile_4086', '../../../Data/obia_2018/SEGMENTS/segs_tile_4086.tif')\n",
      "('segs_tile_254', '../../../Data/obia_2018/SEGMENTS/segs_tile_254.tif')\n",
      "('segs_tile_5398', '../../../Data/obia_2018/SEGMENTS/segs_tile_5398.tif')\n",
      "('segs_tile_1059', '../../../Data/obia_2018/SEGMENTS/segs_tile_1059.tif')\n",
      "('segs_tile_5491', '../../../Data/obia_2018/SEGMENTS/segs_tile_5491.tif')\n",
      "('segs_tile_2770', '../../../Data/obia_2018/SEGMENTS/segs_tile_2770.tif')\n",
      "('segs_tile_2219', '../../../Data/obia_2018/SEGMENTS/segs_tile_2219.tif')\n",
      "('segs_tile_4085', '../../../Data/obia_2018/SEGMENTS/segs_tile_4085.tif')\n",
      "('segs_tile_4755', '../../../Data/obia_2018/SEGMENTS/segs_tile_4755.tif')\n",
      "('segs_tile_6357', '../../../Data/obia_2018/SEGMENTS/segs_tile_6357.tif')\n",
      "('segs_tile_1069', '../../../Data/obia_2018/SEGMENTS/segs_tile_1069.tif')\n",
      "('segs_tile_3405', '../../../Data/obia_2018/SEGMENTS/segs_tile_3405.tif')\n",
      "('segs_tile_4019', '../../../Data/obia_2018/SEGMENTS/segs_tile_4019.tif')\n",
      "('segs_tile_5027', '../../../Data/obia_2018/SEGMENTS/segs_tile_5027.tif')\n",
      "('segs_tile_4109', '../../../Data/obia_2018/SEGMENTS/segs_tile_4109.tif')\n",
      "('segs_tile_1252', '../../../Data/obia_2018/SEGMENTS/segs_tile_1252.tif')\n",
      "('segs_tile_1986', '../../../Data/obia_2018/SEGMENTS/segs_tile_1986.tif')\n",
      "('segs_tile_1987', '../../../Data/obia_2018/SEGMENTS/segs_tile_1987.tif')\n",
      "('segs_tile_518', '../../../Data/obia_2018/SEGMENTS/segs_tile_518.tif')\n",
      "('segs_tile_279', '../../../Data/obia_2018/SEGMENTS/segs_tile_279.tif')\n",
      "('segs_tile_666', '../../../Data/obia_2018/SEGMENTS/segs_tile_666.tif')\n",
      "('segs_tile_3939', '../../../Data/obia_2018/SEGMENTS/segs_tile_3939.tif')\n",
      "('segs_tile_2024', '../../../Data/obia_2018/SEGMENTS/segs_tile_2024.tif')\n",
      "('segs_tile_281', '../../../Data/obia_2018/SEGMENTS/segs_tile_281.tif')\n",
      "('segs_tile_1844', '../../../Data/obia_2018/SEGMENTS/segs_tile_1844.tif')\n",
      "('segs_tile_6192', '../../../Data/obia_2018/SEGMENTS/segs_tile_6192.tif')\n",
      "('segs_tile_2486', '../../../Data/obia_2018/SEGMENTS/segs_tile_2486.tif')\n",
      "('segs_tile_5572', '../../../Data/obia_2018/SEGMENTS/segs_tile_5572.tif')\n",
      "('segs_tile_1839', '../../../Data/obia_2018/SEGMENTS/segs_tile_1839.tif')\n",
      "('segs_tile_462', '../../../Data/obia_2018/SEGMENTS/segs_tile_462.tif')\n",
      "('segs_tile_3287', '../../../Data/obia_2018/SEGMENTS/segs_tile_3287.tif')\n",
      "('segs_tile_608', '../../../Data/obia_2018/SEGMENTS/segs_tile_608.tif')\n",
      "('segs_tile_2949', '../../../Data/obia_2018/SEGMENTS/segs_tile_2949.tif')\n",
      "('segs_tile_1217', '../../../Data/obia_2018/SEGMENTS/segs_tile_1217.tif')\n",
      "('segs_tile_6040', '../../../Data/obia_2018/SEGMENTS/segs_tile_6040.tif')\n",
      "('segs_tile_4814', '../../../Data/obia_2018/SEGMENTS/segs_tile_4814.tif')\n",
      "('segs_tile_1157', '../../../Data/obia_2018/SEGMENTS/segs_tile_1157.tif')\n",
      "('segs_tile_3308', '../../../Data/obia_2018/SEGMENTS/segs_tile_3308.tif')\n",
      "('segs_tile_492', '../../../Data/obia_2018/SEGMENTS/segs_tile_492.tif')\n",
      "('segs_tile_257', '../../../Data/obia_2018/SEGMENTS/segs_tile_257.tif')\n",
      "('segs_tile_1128', '../../../Data/obia_2018/SEGMENTS/segs_tile_1128.tif')\n",
      "('segs_tile_4064', '../../../Data/obia_2018/SEGMENTS/segs_tile_4064.tif')\n",
      "('segs_tile_287', '../../../Data/obia_2018/SEGMENTS/segs_tile_287.tif')\n",
      "('segs_tile_5848', '../../../Data/obia_2018/SEGMENTS/segs_tile_5848.tif')\n",
      "('segs_tile_5350', '../../../Data/obia_2018/SEGMENTS/segs_tile_5350.tif')\n",
      "('segs_tile_1177', '../../../Data/obia_2018/SEGMENTS/segs_tile_1177.tif')\n",
      "('segs_tile_3283', '../../../Data/obia_2018/SEGMENTS/segs_tile_3283.tif')\n",
      "('segs_tile_4134', '../../../Data/obia_2018/SEGMENTS/segs_tile_4134.tif')\n",
      "('segs_tile_5936', '../../../Data/obia_2018/SEGMENTS/segs_tile_5936.tif')\n",
      "('segs_tile_5787', '../../../Data/obia_2018/SEGMENTS/segs_tile_5787.tif')\n",
      "('segs_tile_2820', '../../../Data/obia_2018/SEGMENTS/segs_tile_2820.tif')\n",
      "('segs_tile_1848', '../../../Data/obia_2018/SEGMENTS/segs_tile_1848.tif')\n",
      "('segs_tile_3723', '../../../Data/obia_2018/SEGMENTS/segs_tile_3723.tif')\n",
      "('segs_tile_5663', '../../../Data/obia_2018/SEGMENTS/segs_tile_5663.tif')\n",
      "('segs_tile_667', '../../../Data/obia_2018/SEGMENTS/segs_tile_667.tif')\n",
      "('segs_tile_3679', '../../../Data/obia_2018/SEGMENTS/segs_tile_3679.tif')\n",
      "('segs_tile_1734', '../../../Data/obia_2018/SEGMENTS/segs_tile_1734.tif')\n",
      "('segs_tile_2396', '../../../Data/obia_2018/SEGMENTS/segs_tile_2396.tif')\n",
      "('segs_tile_4147', '../../../Data/obia_2018/SEGMENTS/segs_tile_4147.tif')\n",
      "('segs_tile_2043', '../../../Data/obia_2018/SEGMENTS/segs_tile_2043.tif')\n",
      "('segs_tile_4099', '../../../Data/obia_2018/SEGMENTS/segs_tile_4099.tif')\n",
      "('segs_tile_461', '../../../Data/obia_2018/SEGMENTS/segs_tile_461.tif')\n",
      "('segs_tile_5843', '../../../Data/obia_2018/SEGMENTS/segs_tile_5843.tif')\n",
      "('segs_tile_5066', '../../../Data/obia_2018/SEGMENTS/segs_tile_5066.tif')\n",
      "('segs_tile_3292', '../../../Data/obia_2018/SEGMENTS/segs_tile_3292.tif')\n",
      "('segs_tile_2773', '../../../Data/obia_2018/SEGMENTS/segs_tile_2773.tif')\n",
      "('segs_tile_2044', '../../../Data/obia_2018/SEGMENTS/segs_tile_2044.tif')\n",
      "('segs_tile_2154', '../../../Data/obia_2018/SEGMENTS/segs_tile_2154.tif')\n",
      "('segs_tile_2521', '../../../Data/obia_2018/SEGMENTS/segs_tile_2521.tif')\n",
      "('segs_tile_2400', '../../../Data/obia_2018/SEGMENTS/segs_tile_2400.tif')\n",
      "('segs_tile_5849', '../../../Data/obia_2018/SEGMENTS/segs_tile_5849.tif')\n",
      "('segs_tile_5788', '../../../Data/obia_2018/SEGMENTS/segs_tile_5788.tif')\n",
      "('segs_tile_3726', '../../../Data/obia_2018/SEGMENTS/segs_tile_3726.tif')\n",
      "('segs_tile_3288', '../../../Data/obia_2018/SEGMENTS/segs_tile_3288.tif')\n",
      "('segs_tile_2522', '../../../Data/obia_2018/SEGMENTS/segs_tile_2522.tif')\n",
      "('segs_tile_5563', '../../../Data/obia_2018/SEGMENTS/segs_tile_5563.tif')\n",
      "('segs_tile_1790', '../../../Data/obia_2018/SEGMENTS/segs_tile_1790.tif')\n",
      "('segs_tile_1207', '../../../Data/obia_2018/SEGMENTS/segs_tile_1207.tif')\n",
      "('segs_tile_184', '../../../Data/obia_2018/SEGMENTS/segs_tile_184.tif')\n",
      "('segs_tile_6164', '../../../Data/obia_2018/SEGMENTS/segs_tile_6164.tif')\n",
      "('segs_tile_247', '../../../Data/obia_2018/SEGMENTS/segs_tile_247.tif')\n",
      "('segs_tile_278', '../../../Data/obia_2018/SEGMENTS/segs_tile_278.tif')\n",
      "('segs_tile_2912', '../../../Data/obia_2018/SEGMENTS/segs_tile_2912.tif')\n",
      "('segs_tile_5921', '../../../Data/obia_2018/SEGMENTS/segs_tile_5921.tif')\n",
      "('segs_tile_3406', '../../../Data/obia_2018/SEGMENTS/segs_tile_3406.tif')\n",
      "('segs_tile_3831', '../../../Data/obia_2018/SEGMENTS/segs_tile_3831.tif')\n",
      "('segs_tile_5935', '../../../Data/obia_2018/SEGMENTS/segs_tile_5935.tif')\n",
      "('segs_tile_4809', '../../../Data/obia_2018/SEGMENTS/segs_tile_4809.tif')\n",
      "('segs_tile_4325', '../../../Data/obia_2018/SEGMENTS/segs_tile_4325.tif')\n",
      "('segs_tile_3840', '../../../Data/obia_2018/SEGMENTS/segs_tile_3840.tif')\n",
      "('segs_tile_1847', '../../../Data/obia_2018/SEGMENTS/segs_tile_1847.tif')\n",
      "('segs_tile_437', '../../../Data/obia_2018/SEGMENTS/segs_tile_437.tif')\n",
      "('segs_tile_2398', '../../../Data/obia_2018/SEGMENTS/segs_tile_2398.tif')\n",
      "('segs_tile_258', '../../../Data/obia_2018/SEGMENTS/segs_tile_258.tif')\n",
      "('segs_tile_1791', '../../../Data/obia_2018/SEGMENTS/segs_tile_1791.tif')\n",
      "('segs_tile_2520', '../../../Data/obia_2018/SEGMENTS/segs_tile_2520.tif')\n",
      "('segs_tile_2817', '../../../Data/obia_2018/SEGMENTS/segs_tile_2817.tif')\n",
      "('segs_tile_1178', '../../../Data/obia_2018/SEGMENTS/segs_tile_1178.tif')\n",
      "('segs_tile_3303', '../../../Data/obia_2018/SEGMENTS/segs_tile_3303.tif')\n",
      "('segs_tile_2153', '../../../Data/obia_2018/SEGMENTS/segs_tile_2153.tif')\n",
      "('segs_tile_5101', '../../../Data/obia_2018/SEGMENTS/segs_tile_5101.tif')\n",
      "('segs_tile_632', '../../../Data/obia_2018/SEGMENTS/segs_tile_632.tif')\n",
      "('segs_tile_3048', '../../../Data/obia_2018/SEGMENTS/segs_tile_3048.tif')\n",
      "('segs_tile_4110', '../../../Data/obia_2018/SEGMENTS/segs_tile_4110.tif')\n",
      "('segs_tile_1068', '../../../Data/obia_2018/SEGMENTS/segs_tile_1068.tif')\n",
      "('segs_tile_2543', '../../../Data/obia_2018/SEGMENTS/segs_tile_2543.tif')\n",
      "('segs_tile_2138', '../../../Data/obia_2018/SEGMENTS/segs_tile_2138.tif')\n",
      "('segs_tile_6327', '../../../Data/obia_2018/SEGMENTS/segs_tile_6327.tif')\n",
      "('segs_tile_1840', '../../../Data/obia_2018/SEGMENTS/segs_tile_1840.tif')\n",
      "('segs_tile_4693', '../../../Data/obia_2018/SEGMENTS/segs_tile_4693.tif')\n",
      "('segs_tile_2771', '../../../Data/obia_2018/SEGMENTS/segs_tile_2771.tif')\n",
      "('segs_tile_655', '../../../Data/obia_2018/SEGMENTS/segs_tile_655.tif')\n",
      "('segs_tile_3305', '../../../Data/obia_2018/SEGMENTS/segs_tile_3305.tif')\n",
      "('segs_tile_1982', '../../../Data/obia_2018/SEGMENTS/segs_tile_1982.tif')\n",
      "('segs_tile_4798', '../../../Data/obia_2018/SEGMENTS/segs_tile_4798.tif')\n",
      "('segs_tile_4708', '../../../Data/obia_2018/SEGMENTS/segs_tile_4708.tif')\n",
      "('segs_tile_2518', '../../../Data/obia_2018/SEGMENTS/segs_tile_2518.tif')\n",
      "('segs_tile_2214', '../../../Data/obia_2018/SEGMENTS/segs_tile_2214.tif')\n",
      "('segs_tile_2539', '../../../Data/obia_2018/SEGMENTS/segs_tile_2539.tif')\n",
      "('segs_tile_3407', '../../../Data/obia_2018/SEGMENTS/segs_tile_3407.tif')\n",
      "('segs_tile_5293', '../../../Data/obia_2018/SEGMENTS/segs_tile_5293.tif')\n",
      "('segs_tile_4441', '../../../Data/obia_2018/SEGMENTS/segs_tile_4441.tif')\n",
      "('segs_tile_2494', '../../../Data/obia_2018/SEGMENTS/segs_tile_2494.tif')\n",
      "('segs_tile_6333', '../../../Data/obia_2018/SEGMENTS/segs_tile_6333.tif')\n",
      "('segs_tile_4748', '../../../Data/obia_2018/SEGMENTS/segs_tile_4748.tif')\n",
      "('segs_tile_546', '../../../Data/obia_2018/SEGMENTS/segs_tile_546.tif')\n",
      "('segs_tile_5035', '../../../Data/obia_2018/SEGMENTS/segs_tile_5035.tif')\n",
      "('segs_tile_2664', '../../../Data/obia_2018/SEGMENTS/segs_tile_2664.tif')\n",
      "('segs_tile_2480', '../../../Data/obia_2018/SEGMENTS/segs_tile_2480.tif')\n",
      "('segs_tile_3932', '../../../Data/obia_2018/SEGMENTS/segs_tile_3932.tif')\n",
      "('segs_tile_3310', '../../../Data/obia_2018/SEGMENTS/segs_tile_3310.tif')\n",
      "('segs_tile_276', '../../../Data/obia_2018/SEGMENTS/segs_tile_276.tif')\n",
      "('segs_tile_5361', '../../../Data/obia_2018/SEGMENTS/segs_tile_5361.tif')\n",
      "('segs_tile_1216', '../../../Data/obia_2018/SEGMENTS/segs_tile_1216.tif')\n",
      "('segs_tile_1897', '../../../Data/obia_2018/SEGMENTS/segs_tile_1897.tif')\n",
      "('segs_tile_5054', '../../../Data/obia_2018/SEGMENTS/segs_tile_5054.tif')\n",
      "('segs_tile_3309', '../../../Data/obia_2018/SEGMENTS/segs_tile_3309.tif')\n",
      "('segs_tile_5050', '../../../Data/obia_2018/SEGMENTS/segs_tile_5050.tif')\n",
      "('segs_tile_5648', '../../../Data/obia_2018/SEGMENTS/segs_tile_5648.tif')\n",
      "('segs_tile_6297', '../../../Data/obia_2018/SEGMENTS/segs_tile_6297.tif')\n",
      "('segs_tile_5062', '../../../Data/obia_2018/SEGMENTS/segs_tile_5062.tif')\n",
      "('segs_tile_1181', '../../../Data/obia_2018/SEGMENTS/segs_tile_1181.tif')\n",
      "('segs_tile_186', '../../../Data/obia_2018/SEGMENTS/segs_tile_186.tif')\n",
      "('segs_tile_1179', '../../../Data/obia_2018/SEGMENTS/segs_tile_1179.tif')\n",
      "('segs_tile_4797', '../../../Data/obia_2018/SEGMENTS/segs_tile_4797.tif')\n",
      "('segs_tile_5065', '../../../Data/obia_2018/SEGMENTS/segs_tile_5065.tif')\n",
      "('segs_tile_5445', '../../../Data/obia_2018/SEGMENTS/segs_tile_5445.tif')\n",
      "('segs_tile_4326', '../../../Data/obia_2018/SEGMENTS/segs_tile_4326.tif')\n",
      "('segs_tile_5029', '../../../Data/obia_2018/SEGMENTS/segs_tile_5029.tif')\n",
      "('segs_tile_5797', '../../../Data/obia_2018/SEGMENTS/segs_tile_5797.tif')\n",
      "('segs_tile_3630', '../../../Data/obia_2018/SEGMENTS/segs_tile_3630.tif')\n",
      "('segs_tile_2028', '../../../Data/obia_2018/SEGMENTS/segs_tile_2028.tif')\n",
      "('segs_tile_2018', '../../../Data/obia_2018/SEGMENTS/segs_tile_2018.tif')\n",
      "('segs_tile_3079', '../../../Data/obia_2018/SEGMENTS/segs_tile_3079.tif')\n",
      "('segs_tile_2401', '../../../Data/obia_2018/SEGMENTS/segs_tile_2401.tif')\n",
      "('segs_tile_2485', '../../../Data/obia_2018/SEGMENTS/segs_tile_2485.tif')\n",
      "('segs_tile_5846', '../../../Data/obia_2018/SEGMENTS/segs_tile_5846.tif')\n",
      "('segs_tile_4813', '../../../Data/obia_2018/SEGMENTS/segs_tile_4813.tif')\n",
      "('segs_tile_631', '../../../Data/obia_2018/SEGMENTS/segs_tile_631.tif')\n",
      "('segs_tile_3724', '../../../Data/obia_2018/SEGMENTS/segs_tile_3724.tif')\n",
      "('segs_tile_3727', '../../../Data/obia_2018/SEGMENTS/segs_tile_3727.tif')\n",
      "('segs_tile_629', '../../../Data/obia_2018/SEGMENTS/segs_tile_629.tif')\n",
      "('segs_tile_2020', '../../../Data/obia_2018/SEGMENTS/segs_tile_2020.tif')\n",
      "('segs_tile_5930', '../../../Data/obia_2018/SEGMENTS/segs_tile_5930.tif')\n",
      "('segs_tile_6229', '../../../Data/obia_2018/SEGMENTS/segs_tile_6229.tif')\n",
      "('segs_tile_2538', '../../../Data/obia_2018/SEGMENTS/segs_tile_2538.tif')\n",
      "('segs_tile_1793', '../../../Data/obia_2018/SEGMENTS/segs_tile_1793.tif')\n",
      "('segs_tile_1205', '../../../Data/obia_2018/SEGMENTS/segs_tile_1205.tif')\n",
      "('segs_tile_2774', '../../../Data/obia_2018/SEGMENTS/segs_tile_2774.tif')\n",
      "('segs_tile_6061', '../../../Data/obia_2018/SEGMENTS/segs_tile_6061.tif')\n",
      "('segs_tile_3967', '../../../Data/obia_2018/SEGMENTS/segs_tile_3967.tif')\n",
      "('segs_tile_5796', '../../../Data/obia_2018/SEGMENTS/segs_tile_5796.tif')\n",
      "('segs_tile_1789', '../../../Data/obia_2018/SEGMENTS/segs_tile_1789.tif')\n",
      "('segs_tile_1892', '../../../Data/obia_2018/SEGMENTS/segs_tile_1892.tif')\n",
      "('segs_tile_2481', '../../../Data/obia_2018/SEGMENTS/segs_tile_2481.tif')\n",
      "('segs_tile_2665', '../../../Data/obia_2018/SEGMENTS/segs_tile_2665.tif')\n",
      "('segs_tile_3825', '../../../Data/obia_2018/SEGMENTS/segs_tile_3825.tif')\n",
      "('segs_tile_1842', '../../../Data/obia_2018/SEGMENTS/segs_tile_1842.tif')\n",
      "('segs_tile_5267', '../../../Data/obia_2018/SEGMENTS/segs_tile_5267.tif')\n",
      "('segs_tile_572', '../../../Data/obia_2018/SEGMENTS/segs_tile_572.tif')\n",
      "('segs_tile_2524', '../../../Data/obia_2018/SEGMENTS/segs_tile_2524.tif')\n",
      "('segs_tile_6231', '../../../Data/obia_2018/SEGMENTS/segs_tile_6231.tif')\n",
      "('segs_tile_3077', '../../../Data/obia_2018/SEGMENTS/segs_tile_3077.tif')\n",
      "('segs_tile_5036', '../../../Data/obia_2018/SEGMENTS/segs_tile_5036.tif')\n",
      "('segs_tile_3409', '../../../Data/obia_2018/SEGMENTS/segs_tile_3409.tif')\n",
      "('segs_tile_2212', '../../../Data/obia_2018/SEGMENTS/segs_tile_2212.tif')\n",
      "('segs_tile_2140', '../../../Data/obia_2018/SEGMENTS/segs_tile_2140.tif')\n",
      "('segs_tile_4004', '../../../Data/obia_2018/SEGMENTS/segs_tile_4004.tif')\n",
      "('segs_tile_6217', '../../../Data/obia_2018/SEGMENTS/segs_tile_6217.tif')\n",
      "('segs_tile_493', '../../../Data/obia_2018/SEGMENTS/segs_tile_493.tif')\n",
      "('segs_tile_5929', '../../../Data/obia_2018/SEGMENTS/segs_tile_5929.tif')\n",
      "('segs_tile_4754', '../../../Data/obia_2018/SEGMENTS/segs_tile_4754.tif')\n",
      "('segs_tile_544', '../../../Data/obia_2018/SEGMENTS/segs_tile_544.tif')\n",
      "('segs_tile_1208', '../../../Data/obia_2018/SEGMENTS/segs_tile_1208.tif')\n",
      "('segs_tile_2541', '../../../Data/obia_2018/SEGMENTS/segs_tile_2541.tif')\n",
      "('segs_tile_2022', '../../../Data/obia_2018/SEGMENTS/segs_tile_2022.tif')\n",
      "('segs_tile_5294', '../../../Data/obia_2018/SEGMENTS/segs_tile_5294.tif')\n",
      "('segs_tile_425', '../../../Data/obia_2018/SEGMENTS/segs_tile_425.tif')\n",
      "('segs_tile_256', '../../../Data/obia_2018/SEGMENTS/segs_tile_256.tif')\n",
      "('segs_tile_4149', '../../../Data/obia_2018/SEGMENTS/segs_tile_4149.tif')\n",
      "('segs_tile_3410', '../../../Data/obia_2018/SEGMENTS/segs_tile_3410.tif')\n",
      "('segs_tile_3306', '../../../Data/obia_2018/SEGMENTS/segs_tile_3306.tif')\n",
      "('segs_tile_2545', '../../../Data/obia_2018/SEGMENTS/segs_tile_2545.tif')\n",
      "('segs_tile_4343', '../../../Data/obia_2018/SEGMENTS/segs_tile_4343.tif')\n",
      "('segs_tile_1158', '../../../Data/obia_2018/SEGMENTS/segs_tile_1158.tif')\n",
      "('segs_tile_2496', '../../../Data/obia_2018/SEGMENTS/segs_tile_2496.tif')\n",
      "('segs_tile_3826', '../../../Data/obia_2018/SEGMENTS/segs_tile_3826.tif')\n",
      "('segs_tile_285', '../../../Data/obia_2018/SEGMENTS/segs_tile_285.tif')\n",
      "('segs_tile_2546', '../../../Data/obia_2018/SEGMENTS/segs_tile_2546.tif')\n",
      "('segs_tile_2495', '../../../Data/obia_2018/SEGMENTS/segs_tile_2495.tif')\n",
      "('segs_tile_3404', '../../../Data/obia_2018/SEGMENTS/segs_tile_3404.tif')\n",
      "('segs_tile_3307', '../../../Data/obia_2018/SEGMENTS/segs_tile_3307.tif')\n",
      "('segs_tile_2399', '../../../Data/obia_2018/SEGMENTS/segs_tile_2399.tif')\n",
      "('segs_tile_2488', '../../../Data/obia_2018/SEGMENTS/segs_tile_2488.tif')\n",
      "('segs_tile_2525', '../../../Data/obia_2018/SEGMENTS/segs_tile_2525.tif')\n",
      "('segs_tile_4811', '../../../Data/obia_2018/SEGMENTS/segs_tile_4811.tif')\n",
      "('segs_tile_4785', '../../../Data/obia_2018/SEGMENTS/segs_tile_4785.tif')\n",
      "('segs_tile_450', '../../../Data/obia_2018/SEGMENTS/segs_tile_450.tif')\n",
      "('segs_tile_2146', '../../../Data/obia_2018/SEGMENTS/segs_tile_2146.tif')\n",
      "('segs_tile_402', '../../../Data/obia_2018/SEGMENTS/segs_tile_402.tif')\n",
      "('segs_tile_4691', '../../../Data/obia_2018/SEGMENTS/segs_tile_4691.tif')\n",
      "('segs_tile_2023', '../../../Data/obia_2018/SEGMENTS/segs_tile_2023.tif')\n",
      "('segs_tile_2040', '../../../Data/obia_2018/SEGMENTS/segs_tile_2040.tif')\n",
      "('segs_tile_3408', '../../../Data/obia_2018/SEGMENTS/segs_tile_3408.tif')\n",
      "('segs_tile_2147', '../../../Data/obia_2018/SEGMENTS/segs_tile_2147.tif')\n",
      "('segs_tile_3838', '../../../Data/obia_2018/SEGMENTS/segs_tile_3838.tif')\n",
      "('segs_tile_2019', '../../../Data/obia_2018/SEGMENTS/segs_tile_2019.tif')\n",
      "('segs_tile_545', '../../../Data/obia_2018/SEGMENTS/segs_tile_545.tif')\n",
      "('segs_tile_2544', '../../../Data/obia_2018/SEGMENTS/segs_tile_2544.tif')\n",
      "('segs_tile_4816', '../../../Data/obia_2018/SEGMENTS/segs_tile_4816.tif')\n",
      "('segs_tile_3219', '../../../Data/obia_2018/SEGMENTS/segs_tile_3219.tif')\n",
      "('segs_tile_2542', '../../../Data/obia_2018/SEGMENTS/segs_tile_2542.tif')\n",
      "('segs_tile_6325', '../../../Data/obia_2018/SEGMENTS/segs_tile_6325.tif')\n",
      "('segs_tile_5082', '../../../Data/obia_2018/SEGMENTS/segs_tile_5082.tif')\n",
      "('segs_tile_3544', '../../../Data/obia_2018/SEGMENTS/segs_tile_3544.tif')\n",
      "('segs_tile_3384', '../../../Data/obia_2018/SEGMENTS/segs_tile_3384.tif')\n",
      "('segs_tile_288', '../../../Data/obia_2018/SEGMENTS/segs_tile_288.tif')\n",
      "('segs_tile_3205', '../../../Data/obia_2018/SEGMENTS/segs_tile_3205.tif')\n",
      "('segs_tile_5396', '../../../Data/obia_2018/SEGMENTS/segs_tile_5396.tif')\n",
      "('segs_tile_2516', '../../../Data/obia_2018/SEGMENTS/segs_tile_2516.tif')\n",
      "('segs_tile_6326', '../../../Data/obia_2018/SEGMENTS/segs_tile_6326.tif')\n",
      "('segs_tile_3304', '../../../Data/obia_2018/SEGMENTS/segs_tile_3304.tif')\n",
      "('segs_tile_3933', '../../../Data/obia_2018/SEGMENTS/segs_tile_3933.tif')\n",
      "('segs_tile_1896', '../../../Data/obia_2018/SEGMENTS/segs_tile_1896.tif')\n",
      "('segs_tile_282', '../../../Data/obia_2018/SEGMENTS/segs_tile_282.tif')\n",
      "('segs_tile_426', '../../../Data/obia_2018/SEGMENTS/segs_tile_426.tif')\n",
      "('segs_tile_2197', '../../../Data/obia_2018/SEGMENTS/segs_tile_2197.tif')\n",
      "('segs_tile_817', '../../../Data/obia_2018/SEGMENTS/segs_tile_817.tif')\n",
      "('segs_tile_2025', '../../../Data/obia_2018/SEGMENTS/segs_tile_2025.tif')\n",
      "('segs_tile_499', '../../../Data/obia_2018/SEGMENTS/segs_tile_499.tif')\n",
      "('segs_tile_5844', '../../../Data/obia_2018/SEGMENTS/segs_tile_5844.tif')\n",
      "('segs_tile_3385', '../../../Data/obia_2018/SEGMENTS/segs_tile_3385.tif')\n",
      "('segs_tile_3966', '../../../Data/obia_2018/SEGMENTS/segs_tile_3966.tif')\n",
      "('segs_tile_2487', '../../../Data/obia_2018/SEGMENTS/segs_tile_2487.tif')\n",
      "('segs_tile_5763', '../../../Data/obia_2018/SEGMENTS/segs_tile_5763.tif')\n",
      "('segs_tile_5511', '../../../Data/obia_2018/SEGMENTS/segs_tile_5511.tif')\n",
      "('segs_tile_4704', '../../../Data/obia_2018/SEGMENTS/segs_tile_4704.tif')\n",
      "('segs_tile_177', '../../../Data/obia_2018/SEGMENTS/segs_tile_177.tif')\n",
      "('segs_tile_2895', '../../../Data/obia_2018/SEGMENTS/segs_tile_2895.tif')\n",
      "('segs_tile_2016', '../../../Data/obia_2018/SEGMENTS/segs_tile_2016.tif')\n",
      "('segs_tile_5789', '../../../Data/obia_2018/SEGMENTS/segs_tile_5789.tif')\n",
      "('segs_tile_4787', '../../../Data/obia_2018/SEGMENTS/segs_tile_4787.tif')\n",
      "('segs_tile_2041', '../../../Data/obia_2018/SEGMENTS/segs_tile_2041.tif')\n",
      "('segs_tile_414', '../../../Data/obia_2018/SEGMENTS/segs_tile_414.tif')\n",
      "('segs_tile_178', '../../../Data/obia_2018/SEGMENTS/segs_tile_178.tif')\n",
      "('segs_tile_5351', '../../../Data/obia_2018/SEGMENTS/segs_tile_5351.tif')\n",
      "('segs_tile_2523', '../../../Data/obia_2018/SEGMENTS/segs_tile_2523.tif')\n",
      "('segs_tile_5352', '../../../Data/obia_2018/SEGMENTS/segs_tile_5352.tif')\n",
      "('segs_tile_4065', '../../../Data/obia_2018/SEGMENTS/segs_tile_4065.tif')\n",
      "('segs_tile_3728', '../../../Data/obia_2018/SEGMENTS/segs_tile_3728.tif')\n",
      "('segs_tile_3888', '../../../Data/obia_2018/SEGMENTS/segs_tile_3888.tif')\n",
      "('segs_tile_277', '../../../Data/obia_2018/SEGMENTS/segs_tile_277.tif')\n",
      "('segs_tile_5847', '../../../Data/obia_2018/SEGMENTS/segs_tile_5847.tif')\n",
      "('segs_tile_498', '../../../Data/obia_2018/SEGMENTS/segs_tile_498.tif')\n",
      "('segs_tile_1182', '../../../Data/obia_2018/SEGMENTS/segs_tile_1182.tif')\n",
      "('segs_tile_5762', '../../../Data/obia_2018/SEGMENTS/segs_tile_5762.tif')\n",
      "('segs_tile_3721', '../../../Data/obia_2018/SEGMENTS/segs_tile_3721.tif')\n",
      "('segs_tile_2540', '../../../Data/obia_2018/SEGMENTS/segs_tile_2540.tif')\n",
      "('segs_tile_4810', '../../../Data/obia_2018/SEGMENTS/segs_tile_4810.tif')\n",
      "('segs_tile_5462', '../../../Data/obia_2018/SEGMENTS/segs_tile_5462.tif')\n",
      "('segs_tile_2213', '../../../Data/obia_2018/SEGMENTS/segs_tile_2213.tif')\n",
      "('segs_tile_5845', '../../../Data/obia_2018/SEGMENTS/segs_tile_5845.tif')\n",
      "('segs_tile_255', '../../../Data/obia_2018/SEGMENTS/segs_tile_255.tif')\n",
      "('segs_tile_607', '../../../Data/obia_2018/SEGMENTS/segs_tile_607.tif')\n",
      "('segs_tile_5028', '../../../Data/obia_2018/SEGMENTS/segs_tile_5028.tif')\n"
     ]
    }
   ],
   "source": [
    "# Create a list of tuple with GRASS GIS layer name for segmentation raster and their path in the computer drive \n",
    "[list_of_obia_raster.append((os.path.splitext(a)[0].split(os.sep)[-1],a)) for a in list_file]\n",
    "for a in list_of_obia_raster:\n",
    "    print a"
   ]
  },
  {
   "cell_type": "code",
   "execution_count": 18,
   "metadata": {
    "collapsed": true
   },
   "outputs": [],
   "source": [
    "# Delete existing segmentation raster from previous versions processings\n",
    "for rast in list_of_obia_raster:\n",
    "    gscript.run_command('g.remove', flags='f', type='raster', name=rast[0])"
   ]
  },
  {
   "cell_type": "code",
   "execution_count": 19,
   "metadata": {
    "collapsed": true
   },
   "outputs": [],
   "source": [
    "# Import individual segmentation rasters (for each tile)\n",
    "start_import = start_processing()\n",
    "for rast in list_of_obia_raster:\n",
    "    gscript.run_command('r.in.gdal', overwrite=True, input=rast[1] , output=rast[0])\n",
    "print_processing_time(start_import, \"Import achieved in \")"
   ]
  },
  {
   "cell_type": "code",
   "execution_count": 30,
   "metadata": {
    "scrolled": true
   },
   "outputs": [
    {
     "data": {
      "text/plain": [
       "0"
      ]
     },
     "execution_count": 30,
     "metadata": {},
     "output_type": "execute_result"
    }
   ],
   "source": [
    "# Create virtual raster\n",
    "gscript.run_command('r.buildvrt', overwrite=True, \n",
    "                    input=\",\".join([a[0] for a in list_of_obia_raster]), \n",
    "                    output='segmentation')"
   ]
  },
  {
   "cell_type": "markdown",
   "metadata": {},
   "source": [
    "## Pixel ortho land cover"
   ]
  },
  {
   "cell_type": "code",
   "execution_count": 22,
   "metadata": {},
   "outputs": [
    {
     "data": {
      "text/plain": [
       "[\"Location 'WALOUS_31370' already exist\",\n",
       " \"'PIXEL_ORTHO_LC' mapset created in location 'WALOUS_31370'\",\n",
       " \"You are now working in mapset 'WALOUS_31370/PIXEL_ORTHO_LC'\"]"
      ]
     },
     "execution_count": 22,
     "metadata": {},
     "output_type": "execute_result"
    }
   ],
   "source": [
    "# Create mapset \n",
    "launch_mapset(\"PIXEL_ORTHO_LC\")"
   ]
  },
  {
   "cell_type": "code",
   "execution_count": 23,
   "metadata": {},
   "outputs": [
    {
     "data": {
      "text/plain": [
       "[('charleroi2_classif_pixels2018_erp_2',\n",
       "  '../../../Data/pixel_2018/charleroi2_classif_pixels2018_erp_2.tif'),\n",
       " ('herve2_classif_pixels2018_erp_2',\n",
       "  '../../../Data/pixel_2018/herve2_classif_pixels2018_erp_2.tif'),\n",
       " ('marche_classif_pixels2018_erp_2',\n",
       "  '../../../Data/pixel_2018/marche_classif_pixels2018_erp_2.tif'),\n",
       " ('arlon_classif_pixels2018_erp_2',\n",
       "  '../../../Data/pixel_2018/arlon_classif_pixels2018_erp_2.tif'),\n",
       " ('charleroi_classif_pixels2018_erp_2',\n",
       "  '../../../Data/pixel_2018/charleroi_classif_pixels2018_erp_2.tif'),\n",
       " ('herve_classif_pixels2018_erp_2',\n",
       "  '../../../Data/pixel_2018/herve_classif_pixels2018_erp_2.tif')]"
      ]
     },
     "execution_count": 23,
     "metadata": {},
     "output_type": "execute_result"
    }
   ],
   "source": [
    "list_of_raster = []\n",
    "list_file = glob.glob(os.path.join(data['ortho_lc'][1],\"*_classif_pixels2018_erp_2.tif\"))  # One raster per test zone\n",
    "[list_of_raster.append((os.path.splitext(a)[0].split(os.sep)[-1],a)) for a in list_file]\n",
    "list_of_raster"
   ]
  },
  {
   "cell_type": "code",
   "execution_count": 24,
   "metadata": {
    "scrolled": false
   },
   "outputs": [
    {
     "data": {
      "text/plain": [
       "0"
      ]
     },
     "execution_count": 24,
     "metadata": {},
     "output_type": "execute_result"
    }
   ],
   "source": [
    "# Declare list that will contain tiles\n",
    "list_of_tile_raster = []\n",
    "\n",
    "# Create virtual raster\n",
    "for input_data in list_of_raster:\n",
    "    # Define tile number (average)\n",
    "    tile_number = 200\n",
    "    # Import raster    #Only first band that contain the first clas\n",
    "    gscript.run_command('r.in.gdal', overwrite=True, input=input_data[1] , output=input_data[0], band=1)  \n",
    "    # Get raster information\n",
    "    info = gscript.raster_info(input_data[0])\n",
    "    # Tile raster \n",
    "    gscript.run_command('r.tile', overwrite=True, input=input_data[0], output=\"%s_tile\"%input_data[0],\n",
    "                        width=math.ceil(int(info.cols)/math.sqrt(tile_number)), \n",
    "                        height=math.ceil(int(info.rows)/math.sqrt(tile_number)))\n",
    "    # Get a list of tiles name\n",
    "    tiled_list = gscript.list_strings(type='raster',pattern=\"%s_tile*\"%input_data[0])\n",
    "    [list_of_tile_raster.append(tile) for tile in tiled_list]\n",
    "    # Remove original raster\n",
    "    gscript.run_command('g.remove', flags='f',  type=\"raster\", name=input_data[0])\n",
    "\n",
    "# Create virtual raster\n",
    "gscript.run_command('r.buildvrt', overwrite=True, \n",
    "                    input=\",\".join(list_of_tile_raster), \n",
    "                    output=data['ortho_lc'][0])"
   ]
  },
  {
   "cell_type": "code",
   "execution_count": 25,
   "metadata": {},
   "outputs": [
    {
     "data": {
      "text/plain": [
       "'Computation achieved in 10.1 seconds'"
      ]
     },
     "execution_count": 25,
     "metadata": {},
     "output_type": "execute_result"
    }
   ],
   "source": [
    "# Get list of categories \n",
    "start_parallel = start_processing()\n",
    "# Parallel jobs\n",
    "p = Pool(20)\n",
    "output = p.map(data_prep, list_of_tile_raster)  # Launch the processes for as many items in the list (if function with a return, the returned results are ordered thanks to 'map' function)\n",
    "p.close()\n",
    "p.join()\n",
    "# Get unique categories\n",
    "output_2 = [cl for sublist in output for cl in sublist[2]]\n",
    "class_dict = {a:'' for a in output_2}\n",
    "pixel_classes_list = class_dict.keys()\n",
    "pixel_classes_list.sort(key=float)\n",
    "# Export python object to file\n",
    "with open(config_parameters['pixel_classes_list'], 'wb') as outputfile:\n",
    "  pickle.dump(pixel_classes_list, outputfile)\n",
    "# Print\n",
    "print_processing_time(start_parallel, \"Computation achieved in \")"
   ]
  },
  {
   "cell_type": "code",
   "execution_count": 26,
   "metadata": {
    "scrolled": true
   },
   "outputs": [
    {
     "data": {
      "text/plain": [
       "['2', '5', '6', '11', '12', '31', '32', '41', '42', '91', '92', '93', '94']"
      ]
     },
     "execution_count": 26,
     "metadata": {},
     "output_type": "execute_result"
    }
   ],
   "source": [
    "pixel_classes_list"
   ]
  },
  {
   "cell_type": "raw",
   "metadata": {
    "collapsed": true
   },
   "source": [
    "\"\"\"Only needed if some pixels values do not correspond to actual classification scheme\"\"\"\n",
    "# Assign null value to 255\n",
    "def worker(rast):\n",
    "    gscript.run_command('r.null', map=rast, setnull='255')\n",
    "    \n",
    "# Parallel jobs\n",
    "start_parallel = start_processing()\n",
    "p = Pool(20)\n",
    "output = p.map(worker, list_of_tile_raster)  # Launch the processes for as many items in the list (if function with a return, the returned results are ordered thanks to 'map' function)\n",
    "p.close()\n",
    "p.join()\n",
    "print_processing_time(start_parallel, \"r.null achieved in \")"
   ]
  },
  {
   "cell_type": "markdown",
   "metadata": {},
   "source": [
    "## Pixel SENTINEL (land cover and Sent2Agri)"
   ]
  },
  {
   "cell_type": "code",
   "execution_count": 27,
   "metadata": {},
   "outputs": [
    {
     "data": {
      "text/plain": [
       "[\"Location 'WALOUS_31370' already exist\",\n",
       " \"'PIXEL_SENTINEL' mapset created in location 'WALOUS_31370'\",\n",
       " \"You are now working in mapset 'WALOUS_31370/PIXEL_SENTINEL'\"]"
      ]
     },
     "execution_count": 27,
     "metadata": {},
     "output_type": "execute_result"
    }
   ],
   "source": [
    "# Create mapset \n",
    "launch_mapset(\"PIXEL_SENTINEL\")"
   ]
  },
  {
   "cell_type": "code",
   "execution_count": 28,
   "metadata": {
    "collapsed": true
   },
   "outputs": [],
   "source": [
    "# Define input data\n",
    "inputs = [data['senti_lc'], data['senti_croptype']]\n",
    "#inputs = [data['senti_lc'],]\n",
    "\n",
    "# Define tile number (average)\n",
    "tile_number = 1500\n",
    "\n",
    "# Create VRT\n",
    "for input_data in inputs:\n",
    "    # Import raster \n",
    "    gscript.run_command('r.in.gdal', overwrite=True, input=input_data[1] , output=input_data[0])\n",
    "    # Get raster information\n",
    "    info = gscript.raster_info(input_data[0])\n",
    "    # Tile raster \n",
    "    gscript.run_command('r.tile', overwrite=True, input=input_data[0], output=\"%s_tile\"%input_data[0],\n",
    "                        width=math.ceil(int(info.cols)/math.sqrt(tile_number)), \n",
    "                        height=math.ceil(int(info.rows)/math.sqrt(tile_number)))\n",
    "    # Get a list of tiles name\n",
    "    list_of_tile_raster = gscript.list_strings(type='raster',pattern=\"%s_tile*\"%input_data[0])\n",
    "    # Create virtual raster\n",
    "    gscript.run_command('r.buildvrt', overwrite=True, \n",
    "                        input=\",\".join(list_of_tile_raster),\n",
    "                        output=input_data[0])"
   ]
  },
  {
   "cell_type": "markdown",
   "metadata": {},
   "source": [
    "## Binaries from vectorial reference data (Squelette vectoriel, SIGEC, masque forestier)"
   ]
  },
  {
   "cell_type": "code",
   "execution_count": null,
   "metadata": {},
   "outputs": [],
   "source": [
    "# Create mapset \n",
    "launch_mapset(\"BINARIES\")"
   ]
  },
  {
   "cell_type": "markdown",
   "metadata": {},
   "source": [
    "**SIGEC agricultural plots + GEMBLOUX forest mask**"
   ]
  },
  {
   "cell_type": "code",
   "execution_count": null,
   "metadata": {
    "collapsed": true
   },
   "outputs": [],
   "source": [
    "# Define input data\n",
    "inputs = [data['binary_agri'], data['binary_forest']]\n",
    "# Define tile number (average)\n",
    "tile_number = 600\n",
    "\n",
    "# Create VRT\n",
    "for input_data in inputs:\n",
    "    # Import raster \n",
    "    gscript.run_command('r.in.gdal', overwrite=True, input=input_data[1] , output=input_data[0])\n",
    "    # Get raster information\n",
    "    info = gscript.raster_info(input_data[0])\n",
    "    # Tile raster \n",
    "    gscript.run_command('r.tile', overwrite=True, input=input_data[0], output=\"%s_tile\"%input_data[0],\n",
    "                        width=math.ceil(int(info.cols)/math.sqrt(tile_number)), \n",
    "                        height=math.ceil(int(info.rows)/math.sqrt(tile_number)))\n",
    "    # Get a list of tiles name\n",
    "    list_of_tile_raster = gscript.list_strings(type='raster',pattern=\"%s_tile*\"%input_data[0])\n",
    "    # Create virtual raster\n",
    "    gscript.run_command('r.buildvrt', overwrite=True, \n",
    "                        input=\",\".join(list_of_tile_raster),\n",
    "                        output=input_data[0])"
   ]
  },
  {
   "cell_type": "markdown",
   "metadata": {},
   "source": [
    "**Vectorial skeletton (road network, hydrological ways, buildings)**"
   ]
  },
  {
   "cell_type": "code",
   "execution_count": null,
   "metadata": {
    "collapsed": true
   },
   "outputs": [],
   "source": [
    "# Define input data\n",
    "inputs = [data['binary_roadnet'], data['binary_hydro'], data['binary_built']]\n",
    "# Define tile number (average)\n",
    "tile_number = 1500\n",
    "\n",
    "# Create VRT\n",
    "for input_data in inputs:\n",
    "    # Import raster \n",
    "    gscript.run_command('r.in.gdal', overwrite=True, input=input_data[1] , output=input_data[0])\n",
    "    # Get raster information\n",
    "    info = gscript.raster_info(input_data[0])\n",
    "    # Tile raster \n",
    "    gscript.run_command('r.tile', overwrite=True, input=input_data[0], output=\"%s_tile\"%input_data[0],\n",
    "                        width=math.ceil(int(info.cols)/math.sqrt(tile_number)), \n",
    "                        height=math.ceil(int(info.rows)/math.sqrt(tile_number)))\n",
    "    # Get a list of tiles name\n",
    "    list_of_tile_raster = gscript.list_strings(type='raster',pattern=\"%s_tile*\"%input_data[0])\n",
    "    # Create virtual raster\n",
    "    gscript.run_command('r.buildvrt', overwrite=True, \n",
    "                        input=\",\".join(list_of_tile_raster),\n",
    "                        output=input_data[0])"
   ]
  },
  {
   "cell_type": "markdown",
   "metadata": {},
   "source": [
    "## Other data (Tiles vector layer, training points)"
   ]
  },
  {
   "cell_type": "code",
   "execution_count": 29,
   "metadata": {
    "scrolled": true
   },
   "outputs": [
    {
     "data": {
      "text/plain": [
       "[\"Location 'WALOUS_31370' already exist\",\n",
       " \"'PERMANENT' mapset already exists in location 'WALOUS_31370'\",\n",
       " \"You are now working in mapset 'WALOUS_31370/PERMANENT'\"]"
      ]
     },
     "execution_count": 29,
     "metadata": {},
     "output_type": "execute_result"
    }
   ],
   "source": [
    "# Create mapset \n",
    "launch_mapset(\"PERMANENT\")"
   ]
  },
  {
   "cell_type": "code",
   "execution_count": 30,
   "metadata": {},
   "outputs": [
    {
     "data": {
      "text/plain": [
       "0"
      ]
     },
     "execution_count": 30,
     "metadata": {},
     "output_type": "execute_result"
    }
   ],
   "source": [
    "# Allow access to other mapsets\n",
    "gscript.run_command('g.mapsets', mapset='OBIA', operation='add')"
   ]
  },
  {
   "cell_type": "markdown",
   "metadata": {
    "collapsed": true
   },
   "source": [
    "**Import tiles of OBIA processing**"
   ]
  },
  {
   "cell_type": "code",
   "execution_count": 31,
   "metadata": {
    "scrolled": true
   },
   "outputs": [
    {
     "data": {
      "text/plain": [
       "0"
      ]
     },
     "execution_count": 31,
     "metadata": {},
     "output_type": "execute_result"
    }
   ],
   "source": [
    "# Import vector\n",
    "gscript.run_command('v.in.ogr', overwrite=True, \n",
    "                    input=data['tiles'][1], output=data['tiles'][0], \n",
    "                    layer=data['tiles_gpkg_layer'], key='cat')"
   ]
  },
  {
   "cell_type": "code",
   "execution_count": 32,
   "metadata": {
    "collapsed": true
   },
   "outputs": [],
   "source": [
    "# Return cat values of tile layer\n",
    "a = gscript.parse_command('v.db.select', flags='c', map=data['tiles'][0], columns='cat').keys()\n",
    "a.sort(key=natural_keys)\n",
    "tile_list = a"
   ]
  },
  {
   "cell_type": "code",
   "execution_count": 33,
   "metadata": {
    "collapsed": true
   },
   "outputs": [],
   "source": [
    "# Export python object to file\n",
    "with open(config_parameters['list_tiles'], 'wb') as outputfile:\n",
    "  pickle.dump(tile_list, outputfile)"
   ]
  },
  {
   "cell_type": "markdown",
   "metadata": {
    "collapsed": true
   },
   "source": [
    "**Import training points, get value of segment ID and tile ID and export as .csv file**"
   ]
  },
  {
   "cell_type": "code",
   "execution_count": null,
   "metadata": {},
   "outputs": [],
   "source": [
    "# Import vector\n",
    "gscript.run_command('v.in.ogr', overwrite=True, input=data['training_points'][1], output=data['training_points'][0])\n",
    "gscript.run_command('g.region', raster='segmentation')\n",
    "# Get only point within tile vector \n",
    "gscript.run_command('v.clip', overwrite=True, input='training', clip='tiles', output='training_tmp')\n",
    "gscript.run_command('g.rename', overwrite=True, vector='training_tmp,training')"
   ]
  },
  {
   "cell_type": "code",
   "execution_count": null,
   "metadata": {},
   "outputs": [],
   "source": [
    "# Add seg_id in attribute table\n",
    "gscript.run_command('v.db.addcolumn', map=data['training_points'][0], columns=\"seg_id integer\")\n",
    "gscript.run_command('v.what.rast', map=data['training_points'][0], raster='segmentation', column='seg_id')\n",
    "# Add Tile ID in attribute table\n",
    "gscript.run_command('v.db.addcolumn', map=data['training_points'][0], columns=\"tile_id integer\")"
   ]
  },
  {
   "cell_type": "code",
   "execution_count": null,
   "metadata": {},
   "outputs": [],
   "source": [
    "gscript.run_command('v.what.vect', map=data['training_points'][0], column='tile_id', \n",
    "                    query_map=data['tiles'][0], query_column='cat')\n",
    "# Export attribute table as .csv\n",
    "output_file = os.path.join(config_parameters['outputfolder_training_sample'],'training_points_with_segid.csv')\n",
    "gscript.run_command('v.db.select', overwrite=True, \n",
    "                    map=data['training_points'][0], separator='comma', file=output_file)"
   ]
  },
  {
   "cell_type": "code",
   "execution_count": null,
   "metadata": {
    "collapsed": true
   },
   "outputs": [],
   "source": []
  },
  {
   "cell_type": "code",
   "execution_count": null,
   "metadata": {
    "collapsed": true
   },
   "outputs": [],
   "source": []
  }
 ],
 "metadata": {
  "kernelspec": {
   "display_name": "Python 2",
   "language": "python",
   "name": "python2"
  },
  "language_info": {
   "codemirror_mode": {
    "name": "ipython",
    "version": 2
   },
   "file_extension": ".py",
   "mimetype": "text/x-python",
   "name": "python",
   "nbconvert_exporter": "python",
   "pygments_lexer": "ipython2",
   "version": "2.7.12"
  }
 },
 "nbformat": 4,
 "nbformat_minor": 2
}
