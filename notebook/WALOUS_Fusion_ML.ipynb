{
 "cells": [
  {
   "cell_type": "markdown",
   "metadata": {},
   "source": [
    "<p><strong><font size=\"6\">Accessibility to health centers</font></strong></p>"
   ]
  },
  {
   "cell_type": "markdown",
   "metadata": {},
   "source": [
    "This python code implement the method developed by UNamur and ANAGEO (ULB). \n",
    "\n",
    "Code developped on Linux Mint 18.1 (Ubuntu Xenial 16.04) and GRASS GIS 7.3.svn (r71315)."
   ]
  },
  {
   "cell_type": "markdown",
   "metadata": {},
   "source": [
    "# Table of Contents"
   ]
  },
  {
   "cell_type": "markdown",
   "metadata": {},
   "source": [
    "<div id=\"toc\"></div>"
   ]
  },
  {
   "cell_type": "markdown",
   "metadata": {},
   "source": [
    "The following cell is a Javascript section of code for building the Jupyter notebook's table of content."
   ]
  },
  {
   "cell_type": "code",
   "execution_count": 1,
   "metadata": {},
   "outputs": [
    {
     "data": {
      "application/javascript": [
       "$.getScript('https://kmahelona.github.io/ipython_notebook_goodies/ipython_notebook_toc.js')"
      ],
      "text/plain": [
       "<IPython.core.display.Javascript object>"
      ]
     },
     "metadata": {},
     "output_type": "display_data"
    }
   ],
   "source": [
    "%%javascript\n",
    "$.getScript('https://kmahelona.github.io/ipython_notebook_goodies/ipython_notebook_toc.js')"
   ]
  },
  {
   "cell_type": "markdown",
   "metadata": {},
   "source": [
    "# Define working environment"
   ]
  },
  {
   "cell_type": "markdown",
   "metadata": {},
   "source": [
    "**Import libraries**"
   ]
  },
  {
   "cell_type": "code",
   "execution_count": 2,
   "metadata": {
    "collapsed": true
   },
   "outputs": [],
   "source": [
    "# Import libraries needed for setting parameters of operating system \n",
    "import os\n",
    "import sys"
   ]
  },
  {
   "cell_type": "markdown",
   "metadata": {},
   "source": [
    "** Add folder with SCR provided belong to this notebook**"
   ]
  },
  {
   "cell_type": "code",
   "execution_count": 3,
   "metadata": {
    "collapsed": true
   },
   "outputs": [],
   "source": [
    "# Add local module to the path\n",
    "src = os.path.abspath('../SRC')\n",
    "if src not in sys.path:\n",
    "    sys.path.append(src)"
   ]
  },
  {
   "cell_type": "markdown",
   "metadata": {},
   "source": [
    "** Setup environment variables for TAIS DESKTOP (Linux Mint + GRASS Dev) **"
   ]
  },
  {
   "cell_type": "markdown",
   "metadata": {},
   "source": [
    "Please edit the file in `../SRC/config.py`, containing the configuration parameters, according to your own computer setup. The following cell is used to run this file.\n",
    "\n"
   ]
  },
  {
   "cell_type": "code",
   "execution_count": 4,
   "metadata": {
    "scrolled": true
   },
   "outputs": [],
   "source": [
    "run ../SRC/config.py"
   ]
  },
  {
   "cell_type": "code",
   "execution_count": 5,
   "metadata": {},
   "outputs": [
    {
     "name": "stdout",
     "output_type": "stream",
     "text": [
      "{'permanent_mapset': 'PERMANENT', 'locationepsg': '32628', 'outputfolder': '../Results/SEN', 'gisdb': '../GRASSDATA', 'location': 'shedecides', 'time_limits': ('30', '60', '120', '240', '360', '480'), 'PYTHONLIB': '/usr/lib/python2.7', 'njobs': 3, 'resolution': '100', 'GISBASE': '/home/tais/SRC/GRASS/grass_trunk/dist.x86_64-pc-linux-gnu'}\n"
     ]
    }
   ],
   "source": [
    "print config_parameters"
   ]
  },
  {
   "cell_type": "code",
   "execution_count": 6,
   "metadata": {},
   "outputs": [],
   "source": [
    "# Import functions that setup the environmental variables\n",
    "import environ_variables as envi"
   ]
  },
  {
   "cell_type": "code",
   "execution_count": 7,
   "metadata": {
    "scrolled": true
   },
   "outputs": [
    {
     "name": "stdout",
     "output_type": "stream",
     "text": [
      "MDMSESSION = mate \t\n",
      "MANDATORY_PATH = /usr/share/gconf/mate.mandatory.path \t\n",
      "MATE_DESKTOP_SESSION_ID = this-is-deprecated \t\n",
      "LESSOPEN = | /usr/bin/lesspipe %s \t\n",
      "MDM_LANG = fr_BE.UTF-8 \t\n",
      "LOGNAME = tais \t\n",
      "USER = tais \t\n",
      "HOME = /home/tais \t\n",
      "XDG_VTNR = 8 \t\n",
      "PATH = /usr/local/bin:/home/tais/BIN:/home/tais/bin:/home/tais/.local/bin:/usr/local/sbin:/usr/local/bin:/usr/sbin:/usr/bin:/sbin:/bin:/usr/games:/usr/local/games:/home/tais/SRC/GRASS/grass_trunk/dist.x86_64-pc-linux-gnu/bin:/home/tais/SRC/GRASS/grass_trunk/dist.x86_64-pc-linux-gnu/script:/home/tais/SRC/GRASS/grass_trunk/dist.x86_64-pc-linux-gnu/lib \t\n",
      "CLICOLOR = 1 \t\n",
      "DISPLAY = :0.0 \t\n",
      "SSH_AGENT_PID = 2084 \t\n",
      "LANG = fr_BE.UTF-8 \t\n",
      "TERM = xterm-color \t\n",
      "SHELL = /bin/bash \t\n",
      "GIS_LOCK = $$ \t\n",
      "XAUTHORITY = /home/tais/.Xauthority \t\n",
      "SESSION_MANAGER = local/tais-HP-Z620-Workstation:@/tmp/.ICE-unix/2012,unix/tais-HP-Z620-Workstation:/tmp/.ICE-unix/2012 \t\n",
      "SHLVL = 1 \t\n",
      "QT_LINUX_ACCESSIBILITY_ALWAYS_ON = 1 \t\n",
      "INSIDE_CAJA_PYTHON =  \t\n",
      "QT_ACCESSIBILITY = 1 \t\n",
      "LD_LIBRARY_PATH = :/home/tais/SRC/GRASS/grass_trunk/dist.x86_64-pc-linux-gnu/lib \t\n",
      "COMPIZ_CONFIG_PROFILE = mate \t\n",
      "WINDOWPATH = 8 \t\n",
      "GTK_OVERLAY_SCROLLING = 0 \t\n",
      "PYTHONPATH = :/home/tais/SRC/GRASS/grass_trunk/dist.x86_64-pc-linux-gnu/etc/python:/home/tais/SRC/GRASS/grass_trunk/dist.x86_64-pc-linux-gnu/etc/python/grass:/home/tais/SRC/GRASS/grass_trunk/dist.x86_64-pc-linux-gnu/etc/python/grass/script \t\n",
      "GISBASE = /home/tais/SRC/GRASS/grass_trunk/dist.x86_64-pc-linux-gnu \t\n",
      "CLUTTER_BACKEND = x11 \t\n",
      "USERNAME = tais \t\n",
      "XDG_SESSION_DESKTOP = mate \t\n",
      "GDM_XSERVER_LOCATION = local \t\n",
      "XDG_RUNTIME_DIR = /run/user/1000 \t\n",
      "JPY_PARENT_PID = 21182 \t\n",
      "QT_STYLE_OVERRIDE = gtk \t\n",
      "SSH_AUTH_SOCK = /run/user/1000/keyring/ssh \t\n",
      "VTE_VERSION = 4205 \t\n",
      "GDMSESSION = mate \t\n",
      "GISRC = /home/tais/.grass7/rc \t\n",
      "GIT_PAGER = cat \t\n",
      "XDG_CONFIG_DIRS = /etc/xdg/xdg-mate:/etc/xdg \t\n",
      "XDG_CURRENT_DESKTOP = MATE \t\n",
      "XDG_SESSION_ID = c1 \t\n",
      "DBUS_SESSION_BUS_ADDRESS = unix:abstract=/tmp/dbus-dRYGtC19X2,guid=d6d54ae4ad675d4edc05ed945c41b409 \t\n",
      "_ = /usr/local/bin/jupyter \t\n",
      "XDG_SESSION_COOKIE = 8441891e86e24d76b9616edf516d5734-1547809800.893295-558443463 \t\n",
      "DESKTOP_SESSION = mate \t\n",
      "WINDOWID = 54525958 \t\n",
      "LESSCLOSE = /usr/bin/lesspipe %s %s \t\n",
      "DEFAULTS_PATH = /usr/share/gconf/mate.default.path \t\n",
      "MPLBACKEND = module://ipykernel.pylab.backend_inline \t\n",
      "MDM_XSERVER_LOCATION = local \t\n",
      "GTK_MODULES = gail:atk-bridge \t\n",
      "XDG_DATA_DIRS = /usr/share/mate:/usr/local/share/:/usr/share/:/usr/share/mdm/ \t\n",
      "PWD = /media/tais/data/SheDecide_BlueSquare/Automated_Script/notebook \t\n",
      "COLORTERM = mate-terminal \t\n",
      "PYTHONLIB = /usr/lib/python2.7 \t\n",
      "LS_COLORS = rs=0:di=01;34:ln=01;36:mh=00:pi=40;33:so=01;35:do=01;35:bd=40;33;01:cd=40;33;01:or=40;31;01:mi=00:su=37;41:sg=30;43:ca=30;41:tw=30;42:ow=34;42:st=37;44:ex=01;32:*.tar=01;31:*.tgz=01;31:*.arc=01;31:*.arj=01;31:*.taz=01;31:*.lha=01;31:*.lz4=01;31:*.lzh=01;31:*.lzma=01;31:*.tlz=01;31:*.txz=01;31:*.tzo=01;31:*.t7z=01;31:*.zip=01;31:*.z=01;31:*.Z=01;31:*.dz=01;31:*.gz=01;31:*.lrz=01;31:*.lz=01;31:*.lzo=01;31:*.xz=01;31:*.bz2=01;31:*.bz=01;31:*.tbz=01;31:*.tbz2=01;31:*.tz=01;31:*.deb=01;31:*.rpm=01;31:*.jar=01;31:*.war=01;31:*.ear=01;31:*.sar=01;31:*.rar=01;31:*.alz=01;31:*.ace=01;31:*.zoo=01;31:*.cpio=01;31:*.7z=01;31:*.rz=01;31:*.cab=01;31:*.jpg=01;35:*.jpeg=01;35:*.gif=01;35:*.bmp=01;35:*.pbm=01;35:*.pgm=01;35:*.ppm=01;35:*.tga=01;35:*.xbm=01;35:*.xpm=01;35:*.tif=01;35:*.tiff=01;35:*.png=01;35:*.svg=01;35:*.svgz=01;35:*.mng=01;35:*.pcx=01;35:*.mov=01;35:*.mpg=01;35:*.mpeg=01;35:*.m2v=01;35:*.mkv=01;35:*.webm=01;35:*.ogm=01;35:*.mp4=01;35:*.m4v=01;35:*.mp4v=01;35:*.vob=01;35:*.qt=01;35:*.nuv=01;35:*.wmv=01;35:*.asf=01;35:*.rm=01;35:*.rmvb=01;35:*.flc=01;35:*.avi=01;35:*.fli=01;35:*.flv=01;35:*.gl=01;35:*.dl=01;35:*.xcf=01;35:*.xwd=01;35:*.yuv=01;35:*.cgm=01;35:*.emf=01;35:*.ogv=01;35:*.ogx=01;35:*.aac=00;36:*.au=00;36:*.flac=00;36:*.m4a=00;36:*.mid=00;36:*.midi=00;36:*.mka=00;36:*.mp3=00;36:*.mpc=00;36:*.ogg=00;36:*.ra=00;36:*.wav=00;36:*.oga=00;36:*.opus=00;36:*.spx=00;36:*.xspf=00;36: \t\n",
      "PAGER = cat \t\n",
      "XDG_SEAT = seat0 \t\n"
     ]
    }
   ],
   "source": [
    "# Set environmental variables\n",
    "envi.setup_environmental_variables() \n",
    "# Display current environment variables of your computer\n",
    "envi.print_environmental_variables()"
   ]
  },
  {
   "cell_type": "markdown",
   "metadata": {},
   "source": [
    "** GRASS GIS Python libraries **"
   ]
  },
  {
   "cell_type": "code",
   "execution_count": 8,
   "metadata": {},
   "outputs": [],
   "source": [
    "# Import libraries needed to launch GRASS GIS in the jupyter notebook\n",
    "import grass.script.setup as gsetup\n",
    "# Import libraries needed to call GRASS using Python\n",
    "import grass.script as gscript"
   ]
  },
  {
   "cell_type": "markdown",
   "metadata": {},
   "source": [
    "** Other functions**"
   ]
  },
  {
   "cell_type": "code",
   "execution_count": 9,
   "metadata": {
    "collapsed": true
   },
   "outputs": [],
   "source": [
    "# Import function that check existance and create GRASS GIS database folder if needed\n",
    "from grass_database import check_gisdb, check_location, check_mapset, working_mapset"
   ]
  },
  {
   "cell_type": "code",
   "execution_count": 10,
   "metadata": {
    "collapsed": true
   },
   "outputs": [],
   "source": [
    "# Import functions for processing time information\n",
    "from processing_time import start_processing, print_processing_time"
   ]
  },
  {
   "cell_type": "code",
   "execution_count": 11,
   "metadata": {
    "collapsed": true
   },
   "outputs": [],
   "source": [
    "# Import function that generate a random name in the GRASS GIS environement\n",
    "from random_layer_name import random_layer_name"
   ]
  },
  {
   "cell_type": "code",
   "execution_count": 12,
   "metadata": {
    "collapsed": true
   },
   "outputs": [],
   "source": [
    "# Import function that clip multiple raster according to extention of a vector layer\n",
    "from clip_multiple_raster import clip_multiple_raster"
   ]
  },
  {
   "cell_type": "code",
   "execution_count": 13,
   "metadata": {
    "collapsed": true
   },
   "outputs": [],
   "source": [
    "# Import function that check and create folder\n",
    "from mkdir import check_create_dir"
   ]
  },
  {
   "cell_type": "code",
   "execution_count": 14,
   "metadata": {
    "collapsed": true
   },
   "outputs": [],
   "source": [
    "# Import function that check if GRASS GIS add-on is installed and install it if needed\n",
    "from gextension import check_install_addon"
   ]
  },
  {
   "cell_type": "markdown",
   "metadata": {},
   "source": [
    "**-_-_-_-_-_-_-_-_-_-_-_-_-_-_-_-_-_-_-_-_-_-_-_-_-_-_-_-_-_-_-_-_-_-_-_-_-_-_-_-_-_-_-_-_-_-_-_-_-_-_-_-_-_-_-_-_-_-_-_-_-**"
   ]
  },
  {
   "cell_type": "markdown",
   "metadata": {},
   "source": [
    "**Create list for temporary layers management**"
   ]
  },
  {
   "cell_type": "code",
   "execution_count": 15,
   "metadata": {
    "collapsed": true
   },
   "outputs": [],
   "source": [
    "# Create list for storing name of intermediates layers\n",
    "TMP_rast = []\n",
    "TMP_vect = []"
   ]
  },
  {
   "cell_type": "markdown",
   "metadata": {},
   "source": [
    "**-_-_-_-_-_-_-_-_-_-_-_-_-_-_-_-_-_-_-_-_-_-_-_-_-_-_-_-_-_-_-_-_-_-_-_-_-_-_-_-_-_-_-_-_-_-_-_-_-_-_-_-_-_-_-_-_-_-_-_-_-**"
   ]
  },
  {
   "cell_type": "markdown",
   "metadata": {},
   "source": [
    "# Preprocessing"
   ]
  },
  {
   "cell_type": "markdown",
   "metadata": {},
   "source": [
    "**Creation of GRASSDATA in WGS84 (Lat/Long)**"
   ]
  },
  {
   "cell_type": "code",
   "execution_count": 16,
   "metadata": {},
   "outputs": [
    {
     "name": "stdout",
     "output_type": "stream",
     "text": [
      "GRASSDATA folder created in '../GRASSDATA'\n",
      "Location 'Worldpop_transform' created\n",
      "'PERMANENT' mapset already exists in location 'Worldpop_transform'\n",
      "You are now working in mapset 'PERMANENT'\n"
     ]
    }
   ],
   "source": [
    "# Check if the GRASS GIS database exists and create it if not\n",
    "check_gisdb(config_parameters[\"gisdb\"])\n",
    "# Check if the location exists and create it if not, with the CRS defined by the epsg code \n",
    "check_location(config_parameters[\"gisdb\"],\"Worldpop_transform\",\"4326\")\n",
    "# Check if the mapset exists and create it if not\n",
    "check_mapset(config_parameters[\"gisdb\"],\"Worldpop_transform\",config_parameters[\"permanent_mapset\"])\n",
    "# Change the current working GRASS GIS session mapset\n",
    "working_mapset(config_parameters[\"gisdb\"],\"Worldpop_transform\",config_parameters[\"permanent_mapset\"])"
   ]
  },
  {
   "cell_type": "markdown",
   "metadata": {},
   "source": [
    "**WOCBA**"
   ]
  },
  {
   "cell_type": "code",
   "execution_count": 17,
   "metadata": {
    "scrolled": true
   },
   "outputs": [
    {
     "data": {
      "text/plain": [
       "0"
      ]
     },
     "execution_count": 17,
     "metadata": {},
     "output_type": "execute_result"
    }
   ],
   "source": [
    "# Import raster\n",
    "gscript.run_command('r.in.gdal', overwrite=True, input=data['WOCBA_PPP'][1], output=data['WOCBA_PPP'][0])\n",
    "# Define region base on this layer\n",
    "gscript.run_command('g.region', flags='s', raster=data['WOCBA_PPP'][0])"
   ]
  },
  {
   "cell_type": "code",
   "execution_count": 18,
   "metadata": {
    "collapsed": true
   },
   "outputs": [],
   "source": [
    "# Compute density - Population per hectare (pph)\n",
    "formula = \"%s=%s/(area()/10000)\"%(data['WOCBA_PPH'],data['WOCBA_PPP'][0])\n",
    "gscript.mapcalc(formula, overwrite=True)"
   ]
  },
  {
   "cell_type": "markdown",
   "metadata": {},
   "source": [
    "**POPULATION**"
   ]
  },
  {
   "cell_type": "code",
   "execution_count": 19,
   "metadata": {
    "scrolled": true
   },
   "outputs": [
    {
     "data": {
      "text/plain": [
       "0"
      ]
     },
     "execution_count": 19,
     "metadata": {},
     "output_type": "execute_result"
    }
   ],
   "source": [
    "# Import raster\n",
    "gscript.run_command('r.in.gdal', overwrite=True, input=data['POP_PPP'][1], output=data['POP_PPP'][0])\n",
    "# Define region base on this layer\n",
    "gscript.run_command('g.region', raster=data['POP_PPP'][0])"
   ]
  },
  {
   "cell_type": "code",
   "execution_count": 20,
   "metadata": {},
   "outputs": [],
   "source": [
    "# Compute density - Population per hectare (pph)\n",
    "formula = \"%s=%s/(area()/10000)\"%(data['POP_PPH'],data['POP_PPP'][0])\n",
    "gscript.mapcalc(formula, overwrite=True)"
   ]
  },
  {
   "cell_type": "markdown",
   "metadata": {},
   "source": [
    "**HEALTH CENTERS**"
   ]
  },
  {
   "cell_type": "markdown",
   "metadata": {},
   "source": [
    "Please ensure that the .csv file has pipe as column delimiter (|), point as decimal limiter for X/Y columns.\n",
    "\n",
    "The columns should be as follow, otherwise the code should be adapted: 'x double precision, y double precision, short_name varchar, level integer'.\n",
    "\n",
    "TODO: Add check if points fall outside of current computational region."
   ]
  },
  {
   "cell_type": "code",
   "execution_count": 21,
   "metadata": {
    "scrolled": true
   },
   "outputs": [
    {
     "data": {
      "text/plain": [
       "0"
      ]
     },
     "execution_count": 21,
     "metadata": {},
     "output_type": "execute_result"
    }
   ],
   "source": [
    "# Import points\n",
    "gscript.run_command('g.region', flags='d')\n",
    "gscript.run_command('v.in.ascii', flags='r', overwrite=True, input=data['HC'][1], \n",
    "                    output=data['HC'][0], skip=1, \n",
    "                    columns='x double precision, y double precision, short_name varchar, level integer')"
   ]
  },
  {
   "cell_type": "markdown",
   "metadata": {},
   "source": [
    "**LULC - GLobcover**"
   ]
  },
  {
   "cell_type": "code",
   "execution_count": 22,
   "metadata": {},
   "outputs": [
    {
     "data": {
      "text/plain": [
       "0"
      ]
     },
     "execution_count": 22,
     "metadata": {},
     "output_type": "execute_result"
    }
   ],
   "source": [
    "# Import raster\n",
    "gscript.run_command('r.in.gdal', overwrite=True, input=data['LULC'][1], output=data['LULC'][0])"
   ]
  },
  {
   "cell_type": "markdown",
   "metadata": {},
   "source": [
    "**ROADS**"
   ]
  },
  {
   "cell_type": "code",
   "execution_count": 23,
   "metadata": {},
   "outputs": [
    {
     "data": {
      "text/plain": [
       "0"
      ]
     },
     "execution_count": 23,
     "metadata": {},
     "output_type": "execute_result"
    }
   ],
   "source": [
    "# Import vector\n",
    "gscript.run_command('v.in.ogr', overwrite=True, input=data['ROADS'][1], output=data['ROADS'][0])"
   ]
  },
  {
   "cell_type": "markdown",
   "metadata": {},
   "source": [
    "# Processing : Computation of accessibility to health centers"
   ]
  },
  {
   "cell_type": "markdown",
   "metadata": {},
   "source": [
    "## Launch GRASS GIS session"
   ]
  },
  {
   "cell_type": "markdown",
   "metadata": {},
   "source": [
    "In GRASS GIS, original data are usually imported and stored in the \"PERMANENT\" mapset (automatically created when creating a new location)."
   ]
  },
  {
   "cell_type": "code",
   "execution_count": 24,
   "metadata": {
    "scrolled": true
   },
   "outputs": [
    {
     "name": "stdout",
     "output_type": "stream",
     "text": [
      "GRASSDATA folder already exist\n",
      "Location 'shedecides' created\n",
      "'PERMANENT' mapset already exists in location 'shedecides'\n",
      "You are now working in mapset 'PERMANENT'\n"
     ]
    }
   ],
   "source": [
    "# Check if the GRASS GIS database exists and create it if not\n",
    "check_gisdb(config_parameters[\"gisdb\"])\n",
    "# Check if the location exists and create it if not, with the CRS defined by the epsg code \n",
    "check_location(config_parameters[\"gisdb\"],config_parameters[\"location\"],config_parameters[\"locationepsg\"])\n",
    "# Check if the mapset exists and create it if not\n",
    "check_mapset(config_parameters[\"gisdb\"],config_parameters[\"location\"],config_parameters[\"permanent_mapset\"])\n",
    "# Change the current working GRASS GIS session mapset\n",
    "working_mapset(config_parameters[\"gisdb\"],config_parameters[\"location\"],config_parameters[\"permanent_mapset\"])"
   ]
  },
  {
   "cell_type": "markdown",
   "metadata": {},
   "source": [
    "# Import data / Preparation of data"
   ]
  },
  {
   "cell_type": "code",
   "execution_count": 25,
   "metadata": {
    "collapsed": true
   },
   "outputs": [],
   "source": [
    "# Saving current time for processing time management\n",
    "begintime_importdata=start_processing()"
   ]
  },
  {
   "cell_type": "markdown",
   "metadata": {},
   "source": [
    "## Import administrative units"
   ]
  },
  {
   "cell_type": "code",
   "execution_count": 26,
   "metadata": {},
   "outputs": [
    {
     "data": {
      "text/plain": [
       "0"
      ]
     },
     "execution_count": 26,
     "metadata": {},
     "output_type": "execute_result"
    }
   ],
   "source": [
    "# Import administrative units\n",
    "gscript.run_command('v.import', overwrite=True, input=data['admin'][1], output=data['admin'][0])"
   ]
  },
  {
   "cell_type": "markdown",
   "metadata": {},
   "source": [
    "## Create study area from administrative units"
   ]
  },
  {
   "cell_type": "code",
   "execution_count": 27,
   "metadata": {
    "scrolled": false
   },
   "outputs": [
    {
     "data": {
      "text/plain": [
       "0"
      ]
     },
     "execution_count": 27,
     "metadata": {},
     "output_type": "execute_result"
    }
   ],
   "source": [
    "# Create a name for temporary layer\n",
    "tmp_layer = random_layer_name()\n",
    "# Create new vector layer based on SQL query on the attributes\n",
    "gscript.run_command('v.extract', overwrite=True, input=data['admin'][0], where=\"ID_1 in (1,13,8,2,3)\", output=tmp_layer)\n",
    "#gscript.run_command('v.extract', overwrite=True, input=data['admin'][0], where=\"ID_0=201\", output=tmp_layer)\n",
    "# Dissolve result from previous according to common field\n",
    "gscript.run_command('v.dissolve', overwrite=True, input=tmp_layer, column=\"ID_0\", output=\"Study_area\")\n",
    "# Remove temporary layer\n",
    "gscript.run_command('g.remove', flags='f', type='vector', name=tmp_layer)"
   ]
  },
  {
   "cell_type": "markdown",
   "metadata": {},
   "source": [
    "## Import raster (LULC, Population, WOCBA) for study area"
   ]
  },
  {
   "cell_type": "code",
   "execution_count": 28,
   "metadata": {
    "scrolled": true
   },
   "outputs": [
    {
     "data": {
      "text/plain": [
       "0"
      ]
     },
     "execution_count": 28,
     "metadata": {},
     "output_type": "execute_result"
    }
   ],
   "source": [
    "# Define computational region based on the Study_area vector layer\n",
    "gscript.run_command('g.region', vector=\"Study_area\")"
   ]
  },
  {
   "cell_type": "markdown",
   "metadata": {},
   "source": [
    "**WOCBA**"
   ]
  },
  {
   "cell_type": "code",
   "execution_count": 29,
   "metadata": {
    "scrolled": true
   },
   "outputs": [
    {
     "data": {
      "text/plain": [
       "0"
      ]
     },
     "execution_count": 29,
     "metadata": {},
     "output_type": "execute_result"
    }
   ],
   "source": [
    "# Reproject layer from location in WGS84\n",
    "gscript.run_command('r.proj', overwrite=True, location=\"Worldpop_transform\", method='bicubic',\n",
    "                    input=data['WOCBA_PPH'], output=data['WOCBA_PPH'],\n",
    "                    resolution=config_parameters['resolution'])\n",
    "\n",
    "# Save default computational region (CR) based on the WOCBA\n",
    "gscript.run_command('g.region', flags='s', raster=data['WOCBA_PPH'])\n",
    "\n",
    "# Compute Population per pixel (ppp)\n",
    "formula = \"%s=%s\"%(data['WOCBA_PPP'][0],data['WOCBA_PPH'])\n",
    "gscript.mapcalc(formula, overwrite=True)\n",
    "\n",
    "# Remove pph raster\n",
    "gscript.run_command('g.remove', flags='f', type='raster', name=data['WOCBA_PPH'])"
   ]
  },
  {
   "cell_type": "markdown",
   "metadata": {},
   "source": [
    "**POPULATION**"
   ]
  },
  {
   "cell_type": "code",
   "execution_count": 30,
   "metadata": {},
   "outputs": [
    {
     "data": {
      "text/plain": [
       "0"
      ]
     },
     "execution_count": 30,
     "metadata": {},
     "output_type": "execute_result"
    }
   ],
   "source": [
    "# Reproject layer from location in WGS84\n",
    "gscript.run_command('r.proj', overwrite=True, location=\"Worldpop_transform\", method='bicubic',\n",
    "                    input=data['POP_PPH'], output=data['POP_PPH'],\n",
    "                    resolution=config_parameters['resolution'])\n",
    "\n",
    "# Save default computational region (CR) based on the WOCBA\n",
    "gscript.run_command('g.region', flags='s', raster=data['POP_PPH'])\n",
    "\n",
    "# Compute Population per pixel (ppp)\n",
    "formula = \"%s=%s\"%(data['POP_PPP'][0],data['POP_PPH'])\n",
    "gscript.mapcalc(formula, overwrite=True)\n",
    "\n",
    "# Remove pph raster\n",
    "gscript.run_command('g.remove', flags='f', type='raster', name=data['POP_PPH'])"
   ]
  },
  {
   "cell_type": "markdown",
   "metadata": {},
   "source": [
    "**LULC - GLobcover**"
   ]
  },
  {
   "cell_type": "code",
   "execution_count": 31,
   "metadata": {
    "scrolled": true
   },
   "outputs": [],
   "source": [
    "# Reproject layer from location in WGS84\n",
    "gscript.run_command('r.proj', overwrite=True, location=\"Worldpop_transform\", method='nearest',\n",
    "                    input=data['LULC'][0], output=data['LULC'][0],\n",
    "                    resolution=config_parameters['resolution'])\n",
    "TMP_rast.append(data['LULC'][0])"
   ]
  },
  {
   "cell_type": "markdown",
   "metadata": {},
   "source": [
    "## Import vector (roads) for study area"
   ]
  },
  {
   "cell_type": "code",
   "execution_count": 32,
   "metadata": {},
   "outputs": [
    {
     "name": "stdout",
     "output_type": "stream",
     "text": [
      "v.clip is already installed on your computer\n"
     ]
    }
   ],
   "source": [
    "# Instal required add-on if not yet installed\n",
    "check_install_addon(\"v.clip\")"
   ]
  },
  {
   "cell_type": "code",
   "execution_count": 33,
   "metadata": {},
   "outputs": [
    {
     "data": {
      "text/plain": [
       "0"
      ]
     },
     "execution_count": 33,
     "metadata": {},
     "output_type": "execute_result"
    }
   ],
   "source": [
    "# Create a name for temporary layer\n",
    "tmp_layer = random_layer_name()\n",
    "# Reproject layer from location in WGS84\n",
    "gscript.run_command('v.proj', overwrite=True, location=\"Worldpop_transform\",\n",
    "                    input=data['ROADS'][0], output=tmp_layer)"
   ]
  },
  {
   "cell_type": "code",
   "execution_count": 34,
   "metadata": {},
   "outputs": [
    {
     "data": {
      "text/plain": [
       "0"
      ]
     },
     "execution_count": 34,
     "metadata": {},
     "output_type": "execute_result"
    }
   ],
   "source": [
    "# Clip vector layer\n",
    "gscript.run_command('v.clip', overwrite=True, input=tmp_layer, clip=\"Study_area\", output=data['ROADS'][0])\n",
    "TMP_vect.append(data['ROADS'][0])\n",
    "# Remove temporary layer\n",
    "gscript.run_command('g.remove', flags='f', type='vector', name=tmp_layer)"
   ]
  },
  {
   "cell_type": "markdown",
   "metadata": {},
   "source": [
    "## Clip raster to match study area extent"
   ]
  },
  {
   "cell_type": "markdown",
   "metadata": {},
   "source": [
    "Please notice that WOCBA is used as reference for following steps (spatial extent and pixel alignement)."
   ]
  },
  {
   "cell_type": "code",
   "execution_count": 35,
   "metadata": {},
   "outputs": [
    {
     "name": "stdout",
     "output_type": "stream",
     "text": [
      "r.clip is already installed on your computer\n"
     ]
    }
   ],
   "source": [
    "# Instal required add-on if not yet installed\n",
    "check_install_addon(\"r.clip\")"
   ]
  },
  {
   "cell_type": "code",
   "execution_count": 36,
   "metadata": {
    "scrolled": true
   },
   "outputs": [
    {
     "name": "stdout",
     "output_type": "stream",
     "text": [
      "WOCBA_PPP\n",
      "POP_PPP\n",
      "LULC\n"
     ]
    }
   ],
   "source": [
    "# Define the list with names of raster layers to clip\n",
    "raster_to_clip = [data['WOCBA_PPP'][0],data['POP_PPP'][0],data['LULC'][0]]\n",
    "print \"\\n\".join(raster_to_clip)"
   ]
  },
  {
   "cell_type": "code",
   "execution_count": 37,
   "metadata": {},
   "outputs": [
    {
     "name": "stdout",
     "output_type": "stream",
     "text": [
      "'WOCBA_PPP' has been cliped.\n",
      "'POP_PPP' has been cliped.\n",
      "'LULC' has been cliped.\n"
     ]
    },
    {
     "data": {
      "text/plain": [
       "0"
      ]
     },
     "execution_count": 37,
     "metadata": {},
     "output_type": "execute_result"
    }
   ],
   "source": [
    "# Define computational region based default region\n",
    "gscript.run_command('g.region', flags='d')\n",
    "# Define MASK and get a copy\n",
    "gscript.run_command('r.mask', overwrite=True, vector='Study_area')\n",
    "gscript.run_command('g.copy', overwrite=True, raster='MASK,Study_area')\n",
    "# Clip multiple rasters\n",
    "clip_multiple_raster(raster_to_clip, overwrite=True, resample=True, n_jobs=config_parameters['njobs'])\n",
    "# Rename raster to overwrite the original one\n",
    "[gscript.run_command('g.rename', overwrite=True, raster='%s_clip,%s'%(name,name)) for name in raster_to_clip]\n",
    "# Remove MASK\n",
    "gscript.run_command('r.mask', flags='r')"
   ]
  },
  {
   "cell_type": "markdown",
   "metadata": {},
   "source": [
    "## Health facilities (HC)"
   ]
  },
  {
   "cell_type": "code",
   "execution_count": 38,
   "metadata": {},
   "outputs": [
    {
     "data": {
      "text/plain": [
       "0"
      ]
     },
     "execution_count": 38,
     "metadata": {},
     "output_type": "execute_result"
    }
   ],
   "source": [
    "# Create a name for temporary layer\n",
    "tmp_layer = random_layer_name()\n",
    "# Reproject layer from location in WGS84\n",
    "gscript.run_command('v.proj', overwrite=True, location=\"Worldpop_transform\", input=data['HC'][0], output=tmp_layer)"
   ]
  },
  {
   "cell_type": "code",
   "execution_count": 39,
   "metadata": {},
   "outputs": [
    {
     "data": {
      "text/plain": [
       "0"
      ]
     },
     "execution_count": 39,
     "metadata": {},
     "output_type": "execute_result"
    }
   ],
   "source": [
    "# Select point into study area (create new layer)\n",
    "gscript.run_command('v.select', overwrite=True, ainput=tmp_layer, binput=\"Study_area\", \n",
    "                    output=data['HC'][0], operator=\"within\")\n",
    "TMP_vect.append(data['HC'][0])\n",
    "# Remove temporary layer\n",
    "gscript.run_command('g.remove', flags='f', type='vector', name=tmp_layer)\n",
    "\n",
    "# Create two new sub-layer based on level of HC (HCL1 ; HCL2)\n",
    "gscript.run_command('v.extract', overwrite=True, input=data['HC'][0], \n",
    "                    where=\"level=1\", output='%sL1'%data['HC'][0])\n",
    "gscript.run_command('v.extract', overwrite=True, input=data['HC'][0], \n",
    "                    where=\"level=2\", output='%sL2'%data['HC'][0])\n",
    "\n",
    "# Rename HC layer that contain both levels\n",
    "gscript.run_command('g.rename', overwrite=True, vector=\"%s,%sL1L2\"%(data['HC'][0],data['HC'][0]))"
   ]
  },
  {
   "cell_type": "markdown",
   "metadata": {},
   "source": [
    "## Convert roads into raster"
   ]
  },
  {
   "cell_type": "code",
   "execution_count": 40,
   "metadata": {
    "scrolled": true
   },
   "outputs": [
    {
     "data": {
      "text/plain": [
       "0"
      ]
     },
     "execution_count": 40,
     "metadata": {},
     "output_type": "execute_result"
    }
   ],
   "source": [
    "# Define computational region based default region\n",
    "gscript.run_command('g.region', flags='d')\n",
    "# Rasterize buffered roads layer\n",
    "gscript.run_command('v.to.rast', overwrite=True, input=data['ROADS'][0], output=data['ROADS'][0], use='val')"
   ]
  },
  {
   "cell_type": "markdown",
   "metadata": {},
   "source": [
    "## Reclassify LULC"
   ]
  },
  {
   "cell_type": "code",
   "execution_count": 41,
   "metadata": {
    "collapsed": true
   },
   "outputs": [],
   "source": [
    "for season in (\"WS\",\"DS\"):\n",
    "    # Create a name for temporary layer\n",
    "    tmp_layer = random_layer_name() \n",
    "    # Define computational region based default region\n",
    "    gscript.run_command('g.region', flags='d')\n",
    "    # Reclassify raster\n",
    "    gscript.run_command('r.reclass', overwrite=True, input=data['LULC'][0], \n",
    "                        output=tmp_layer, rules=rule_file['globcover_%s'%season])\n",
    "    # Create hard copy of the reclassified raster\n",
    "    formula = \"%s_%s=%s\"%(data['LULC'][0],season,tmp_layer)\n",
    "    gscript.mapcalc(formula, overwrite=True)\n",
    "    TMP_rast.append(tmp_layer)"
   ]
  },
  {
   "cell_type": "code",
   "execution_count": 42,
   "metadata": {},
   "outputs": [
    {
     "data": {
      "text/plain": [
       "'Data imported in 35.0 seconds'"
      ]
     },
     "execution_count": 42,
     "metadata": {},
     "output_type": "execute_result"
    }
   ],
   "source": [
    "## Print processing time\n",
    "print_processing_time(begintime_importdata ,\"Data imported in \")"
   ]
  },
  {
   "cell_type": "markdown",
   "metadata": {},
   "source": [
    "# Methodology"
   ]
  },
  {
   "cell_type": "code",
   "execution_count": 43,
   "metadata": {
    "collapsed": true
   },
   "outputs": [],
   "source": [
    "# Saving current time for processing time management\n",
    "begintime_processing=start_processing()"
   ]
  },
  {
   "cell_type": "markdown",
   "metadata": {},
   "source": [
    "## Create raster of velocity"
   ]
  },
  {
   "cell_type": "markdown",
   "metadata": {},
   "source": [
    "**LULC**"
   ]
  },
  {
   "cell_type": "code",
   "execution_count": 44,
   "metadata": {},
   "outputs": [],
   "source": [
    "# Create velocity raster\n",
    "for season in (\"WS\",\"DS\"):\n",
    "    # Create a name for temporary layer\n",
    "    tmp_layer = random_layer_name() \n",
    "    # Define computational region based default region\n",
    "    gscript.run_command('g.region', flags='d')\n",
    "    # Reclassify raster\n",
    "    gscript.run_command('r.reclass', overwrite=True, input=\"%s_%s\"%(data['LULC'][0],season), \n",
    "                        output=tmp_layer, rules=rule_file['Velocity_LULC'])\n",
    "    # Create hard copy of the reclassified raster\n",
    "    formula = \"velocity_%s_%s=%s\"%(data['LULC'][0],season,tmp_layer)\n",
    "    gscript.mapcalc(formula, overwrite=True)\n",
    "    # Remove temporary layer\n",
    "    TMP_rast.append(tmp_layer)"
   ]
  },
  {
   "cell_type": "markdown",
   "metadata": {},
   "source": [
    "**ROADS**"
   ]
  },
  {
   "cell_type": "code",
   "execution_count": 45,
   "metadata": {
    "collapsed": true
   },
   "outputs": [],
   "source": [
    "# Create velocity raster \n",
    "for car in (\"WC\",\"NC\"):\n",
    "    # Define computational region based default region\n",
    "    gscript.run_command('g.region', flags='d')\n",
    "    # Create velocity raster\n",
    "    formula = \"velocity_%s_%s = if(%s==1,%s,null())\"%(data['ROADS'][0],car,data['ROADS'][0],roads_veloc[car])\n",
    "    gscript.mapcalc(formula, overwrite=True)"
   ]
  },
  {
   "cell_type": "markdown",
   "metadata": {},
   "source": [
    "## Combine two rasters of velocity together"
   ]
  },
  {
   "cell_type": "code",
   "execution_count": 46,
   "metadata": {
    "collapsed": true
   },
   "outputs": [],
   "source": [
    "# Create a list for saving layer name\n",
    "veloc_raster = []\n",
    "\n",
    "# Create all possible combinations\n",
    "for season in (\"WS\",\"DS\"):\n",
    "    for car in (\"WC\",\"NC\"):\n",
    "        # Define computational region based default region\n",
    "        gscript.run_command('g.region', flags='d')\n",
    "        # Create velocity raster\n",
    "        veloc_LULC = \"velocity_%s_%s\"%(data['LULC'][0],season)\n",
    "        veloc_ROADS = \"velocity_%s_%s\"%(data['ROADS'][0],car)\n",
    "        veloc_combined = \"velocity_%s_%s\"%(car,season)\n",
    "        formula = \"%s=if(isnull(%s),%s,%s)/100.00\"%(veloc_combined,veloc_ROADS,veloc_LULC,veloc_ROADS)\n",
    "        gscript.mapcalc(formula, overwrite=True)\n",
    "        veloc_raster.append(veloc_combined)\n",
    "        TMP_rast.append(veloc_LULC)\n",
    "        TMP_rast.append(veloc_ROADS)\n",
    "        TMP_rast.append(veloc_combined)"
   ]
  },
  {
   "cell_type": "markdown",
   "metadata": {},
   "source": [
    "## Calculate raster cost distance"
   ]
  },
  {
   "cell_type": "markdown",
   "metadata": {},
   "source": [
    "The computation of cost distance raster is performed here using [r.cost](https://grass.osgeo.org/grass76/manuals/r.cost.html)."
   ]
  },
  {
   "cell_type": "code",
   "execution_count": 47,
   "metadata": {},
   "outputs": [
    {
     "name": "stdout",
     "output_type": "stream",
     "text": [
      "Layer 'Pre_CD_HCL1L2_WC_WS' created.\n",
      "Layer 'Pre_CD_HCL2_WC_WS' created.\n",
      "Layer 'Pre_CD_HCL1L2_NC_WS' created.\n",
      "Layer 'Pre_CD_HCL2_NC_WS' created.\n",
      "Layer 'Pre_CD_HCL1L2_WC_DS' created.\n",
      "Layer 'Pre_CD_HCL2_WC_DS' created.\n",
      "Layer 'Pre_CD_HCL1L2_NC_DS' created.\n",
      "Layer 'Pre_CD_HCL2_NC_DS' created.\n"
     ]
    }
   ],
   "source": [
    "# Create a list for saving layer name\n",
    "cost_raster = []\n",
    "\n",
    "# Create all cost distance raster\n",
    "for veloc_rast in veloc_raster:\n",
    "    for hclevel in (\"L1L2\",\"L2\"):\n",
    "        # Define name of the output layer\n",
    "        output_layer = \"Pre_CD_HC%s_%s\"%(hclevel,veloc_rast[-5:])\n",
    "        # Define computational region based default region\n",
    "        gscript.run_command('g.region', flags='d')\n",
    "        # Compute cost distance raster -'k' for Knight's move\n",
    "        gscript.run_command('r.cost', flags='k', overwrite=True,\n",
    "                            input=veloc_rast, output=output_layer, \n",
    "                            start_points=\"%s%s\"%(data['HC'][0],hclevel), memory=\"5000\")\n",
    "        print \"Layer '%s' created.\"%output_layer\n",
    "        cost_raster.append(output_layer)\n",
    "        TMP_rast.append(output_layer)"
   ]
  },
  {
   "cell_type": "code",
   "execution_count": 48,
   "metadata": {},
   "outputs": [
    {
     "name": "stdout",
     "output_type": "stream",
     "text": [
      "Layer 'Isochrones_HCL1L2_WC_WS' created.\n",
      "Layer 'Isochrones_HCL2_WC_WS' created.\n",
      "Layer 'Isochrones_HCL1L2_NC_WS' created.\n",
      "Layer 'Isochrones_HCL2_NC_WS' created.\n",
      "Layer 'Isochrones_HCL1L2_WC_DS' created.\n",
      "Layer 'Isochrones_HCL2_WC_DS' created.\n",
      "Layer 'Isochrones_HCL1L2_NC_DS' created.\n",
      "Layer 'Isochrones_HCL2_NC_DS' created.\n"
     ]
    }
   ],
   "source": [
    "# Create a list for saving layer name\n",
    "isochrone_layers = []\n",
    "\n",
    "# Create isochrones rasters\n",
    "for cost_rast in cost_raster:\n",
    "    # Define name of the output layer\n",
    "    output_layer = \"Isochrones_%s\"%cost_rast[7:]\n",
    "    # Define computational region based default region\n",
    "    gscript.run_command('g.region', flags='d')\n",
    "    # Create accessibility raster (time to travel)\n",
    "    formula_prefix = \"%s=\"%output_layer\n",
    "    formula_suffix = \"null()\"\n",
    "    for time in config_parameters['time_limits']:\n",
    "        formula_prefix += \"if(%s<=%s,%s,\"%(cost_rast,time,time)\n",
    "        formula_suffix += \")\"\n",
    "    gscript.mapcalc(formula_prefix+formula_suffix, overwrite=True)\n",
    "    print \"Layer '%s' created.\"%output_layer\n",
    "    isochrone_layers.append(output_layer)"
   ]
  },
  {
   "cell_type": "code",
   "execution_count": 49,
   "metadata": {
    "collapsed": true
   },
   "outputs": [],
   "source": [
    "# Convert isochrone rasters to vector layers\n",
    "for isochrone in isochrone_layers:\n",
    "    gscript.run_command('g.region', flags='d')\n",
    "    gscript.run_command('r.to.vect', flags='v', overwrite=True,\n",
    "                        input=isochrone, output=isochrone, type=\"area\")"
   ]
  },
  {
   "cell_type": "markdown",
   "metadata": {},
   "source": [
    "## Overlay population & calculate statistics"
   ]
  },
  {
   "cell_type": "code",
   "execution_count": 50,
   "metadata": {},
   "outputs": [
    {
     "name": "stdout",
     "output_type": "stream",
     "text": [
      "The folder '../Results/SEN' has been created\n"
     ]
    }
   ],
   "source": [
    "# Layers to be used for computing statistics (zonal statistics)\n",
    "layers_stats = [\"POP_PPP\",\"WOCBA_PPP\"]\n",
    "# Check and create folder if needed\n",
    "check_create_dir(config_parameters['outputfolder'])"
   ]
  },
  {
   "cell_type": "markdown",
   "metadata": {},
   "source": [
    "**Get sum for the study area (total population)**"
   ]
  },
  {
   "cell_type": "code",
   "execution_count": 51,
   "metadata": {
    "scrolled": true
   },
   "outputs": [
    {
     "name": "stdout",
     "output_type": "stream",
     "text": [
      "Total population of the study area = 7859233.95042\n",
      "Total Women of Child-Bearing Age (WOCBA) of the study area = 1956102.20679\n"
     ]
    }
   ],
   "source": [
    "# Initialize a dictionnary for saving total\n",
    "TOT={}\n",
    "# Compute sum for the whole study area\n",
    "for layer in layers_stats:\n",
    "    TOT[\"%s\"%layer] = float(gscript.parse_command('r.univar', flags='g', map=layer, zones=\"Study_area\")[\"sum\"])\n",
    "print \"Total population of the study area = %s\"%TOT[\"POP_PPP\"]\n",
    "print \"Total Women of Child-Bearing Age (WOCBA) of the study area = %s\"%TOT[\"WOCBA_PPP\"]"
   ]
  },
  {
   "cell_type": "markdown",
   "metadata": {},
   "source": [
    "**Get sum for each isochrones and compute proportion**"
   ]
  },
  {
   "cell_type": "code",
   "execution_count": 52,
   "metadata": {},
   "outputs": [
    {
     "name": "stdout",
     "output_type": "stream",
     "text": [
      "Proportion computed for layer 'Isochrones_HCL1L2_WC_WS'\n",
      "Proportion computed for layer 'Isochrones_HCL2_WC_WS'\n",
      "Proportion computed for layer 'Isochrones_HCL1L2_NC_WS'\n",
      "Proportion computed for layer 'Isochrones_HCL2_NC_WS'\n",
      "Proportion computed for layer 'Isochrones_HCL1L2_WC_DS'\n",
      "Proportion computed for layer 'Isochrones_HCL2_WC_DS'\n",
      "Proportion computed for layer 'Isochrones_HCL1L2_NC_DS'\n",
      "Proportion computed for layer 'Isochrones_HCL2_NC_DS'\n"
     ]
    }
   ],
   "source": [
    "# Compute proportions for each isochrone layer\n",
    "for isochrone in isochrone_layers:\n",
    "    for layer in layers_stats:\n",
    "        # Create temp .csv file\n",
    "        head, tail = os.path.split(gscript.tempfile())\n",
    "        table = 'tmp_table_%s'%tail.replace(\".\",\"_\")\n",
    "        tmp_csv = os.path.join(head,'%s.csv'%table)\n",
    "        # Compute sum for each isochrone zone\n",
    "        gscript.run_command('r.univar', flags='t', overwrite=True, map=layer, \n",
    "                            zones=isochrone, output=tmp_csv, separator=\"comma\")\n",
    "        # Import .csv and join\n",
    "        gscript.run_command('db.in.ogr', overwrite=True, input=tmp_csv, output=table)\n",
    "        gscript.run_command('v.db.join', map=isochrone, column='cat', \n",
    "                            other_table=table, other_column='zone', subset_columns='sum')\n",
    "        gscript.run_command('v.db.renamecolumn', map=isochrone, column='sum,%s_SUM'%layer)\n",
    "        # Add TOTAL count\n",
    "        gscript.run_command('v.db.addcolumn', map=isochrone, columns='%s_TOT double precision'%layer)\n",
    "        gscript.run_command('v.db.update', map=isochrone, column='%s_TOT'%layer, value=TOT[\"%s\"%layer])\n",
    "        # Compute proportion\n",
    "        gscript.run_command('v.db.addcolumn', map=isochrone, columns='%s_PROP double precision'%layer)\n",
    "        gscript.run_command('v.db.update', map=isochrone, column='%s_PROP'%layer, \n",
    "                            value='({layer}_SUM/{layer}_TOT)*100'.format(layer=layer))\n",
    "    print \"Proportion computed for layer '%s'\"%isochrone"
   ]
  },
  {
   "cell_type": "code",
   "execution_count": 53,
   "metadata": {},
   "outputs": [
    {
     "data": {
      "text/plain": [
       "'All processing terminate in 2 minutes and 40.6 seconds'"
      ]
     },
     "execution_count": 53,
     "metadata": {},
     "output_type": "execute_result"
    }
   ],
   "source": [
    "## Print processing time\n",
    "print_processing_time(begintime_processing ,\"All processing terminate in \")"
   ]
  },
  {
   "cell_type": "markdown",
   "metadata": {},
   "source": [
    "# Exports and cleaning mapset"
   ]
  },
  {
   "cell_type": "markdown",
   "metadata": {},
   "source": [
    "## Export results"
   ]
  },
  {
   "cell_type": "code",
   "execution_count": 54,
   "metadata": {
    "scrolled": true
   },
   "outputs": [
    {
     "name": "stdout",
     "output_type": "stream",
     "text": [
      "The folder '../Results/SEN/Isochrones' has been created\n"
     ]
    }
   ],
   "source": [
    "# Output folder isochrones\n",
    "outputfolder_isochrones = os.path.join(config_parameters['outputfolder'],\"Isochrones\")\n",
    "# Check and create folder if needed\n",
    "check_create_dir(outputfolder_isochrones)"
   ]
  },
  {
   "cell_type": "code",
   "execution_count": 55,
   "metadata": {
    "collapsed": true
   },
   "outputs": [],
   "source": [
    "# Export isochrone layers as GeoPackage and attribute table as .csv\n",
    "for isochrone in isochrone_layers:\n",
    "    output_gpkg = os.path.join(outputfolder_isochrones,\"%s.gpkg\"%isochrone)\n",
    "    output_csv = os.path.join(config_parameters['outputfolder'],\"Prop_by_Isochrones_%s.csv\"%isochrone[11:])\n",
    "    gscript.run_command('v.out.ogr', flags='m', overwrite=True,\n",
    "                        input=isochrone, output=output_gpkg, format=\"GPKG\")\n",
    "    gscript.run_command('v.out.ogr', flags='m', overwrite=True,\n",
    "                        input=isochrone, output=output_csv, format=\"CSV\")"
   ]
  },
  {
   "cell_type": "markdown",
   "metadata": {},
   "source": [
    "## Remove intermediate layers"
   ]
  },
  {
   "cell_type": "code",
   "execution_count": 56,
   "metadata": {
    "collapsed": true
   },
   "outputs": [],
   "source": [
    "# Remove all layers not needed anymore\n",
    "for rast in TMP_rast:\n",
    "    gscript.run_command('g.remove', flags='fb', type='raster', name=rast)"
   ]
  },
  {
   "cell_type": "code",
   "execution_count": 57,
   "metadata": {
    "collapsed": true
   },
   "outputs": [],
   "source": [
    "# Remove all layers not needed anymore\n",
    "for vect in TMP_vect:\n",
    "    gscript.run_command('g.remove', flags='fb', type='vector', name=vect)"
   ]
  },
  {
   "cell_type": "code",
   "execution_count": 58,
   "metadata": {
    "collapsed": true
   },
   "outputs": [],
   "source": [
    "# Remove all layers not needed anymore\n",
    "for vect in isochrone_layers:\n",
    "    gscript.run_command('g.remove', flags='fb', type='vector', name=vect)"
   ]
  },
  {
   "cell_type": "markdown",
   "metadata": {},
   "source": [
    "## Delete both mapsets"
   ]
  },
  {
   "cell_type": "code",
   "execution_count": 59,
   "metadata": {},
   "outputs": [],
   "source": [
    "import shutil\n",
    "\n",
    "# Delete mapset folder in GRASSDATA\n",
    "shutil.rmtree(os.path.join(\"..\",\"GRASSDATA\"))"
   ]
  },
  {
   "cell_type": "code",
   "execution_count": null,
   "metadata": {
    "collapsed": true
   },
   "outputs": [],
   "source": []
  }
 ],
 "metadata": {
  "kernelspec": {
   "display_name": "Python 2",
   "language": "python",
   "name": "python2"
  },
  "language_info": {
   "codemirror_mode": {
    "name": "ipython",
    "version": 2
   },
   "file_extension": ".py",
   "mimetype": "text/x-python",
   "name": "python",
   "nbconvert_exporter": "python",
   "pygments_lexer": "ipython2",
   "version": "2.7.12"
  }
 },
 "nbformat": 4,
 "nbformat_minor": 2
}
